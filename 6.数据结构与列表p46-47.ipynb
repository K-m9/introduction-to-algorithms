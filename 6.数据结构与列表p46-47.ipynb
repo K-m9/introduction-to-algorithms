{
 "cells": [
  {
   "cell_type": "markdown",
   "id": "17d9a398-af9d-47ea-a493-576d9e6452cf",
   "metadata": {},
   "source": [
    "# 数据结构 "
   ]
  },
  {
   "cell_type": "markdown",
   "id": "6b9bae1e-5509-4491-a96f-4b9169120a80",
   "metadata": {},
   "source": [
    "1. 数据结构是指相互之间存在一种或多种关系的数据元素的集合和该集合中数据元素之间的关系组成.\n",
    "2. 简单来说, 数据结构就是设计数据以何种方式组织并存储在计算机中.\n",
    "3. 比如:列表、集合与字典等都是一种数据结构."
   ]
  },
  {
   "cell_type": "markdown",
   "id": "7f7627a2-faa9-4e5d-b956-8471f2c0d942",
   "metadata": {},
   "source": [
    "数据结构按照其逻辑结构可分为线性结构、树结构、图结构\n",
    "- 1. 线性结构: 数据结构中的元素存在一对一的相互关系\n",
    "- 2. 树结构: 数据结构中的元素存在一对多的相互关系\n",
    "- 3. 图结构: 数据结构中的元素存在多对多的相互关系"
   ]
  },
  {
   "cell_type": "markdown",
   "id": "96b1cc18-dd50-415b-b7e8-2e6db55d4844",
   "metadata": {},
   "source": [
    "# 列表 "
   ]
  },
  {
   "cell_type": "markdown",
   "id": "fd8c800b-b33d-4232-ae0b-01b3eb5ae390",
   "metadata": {},
   "source": [
    "- 列表（其他语言称数组）是一种基本数据类型。\n",
    "- 关于列表问题：\n",
    "    - 1. 列表中的元素是如何存储的？\n",
    "    - 2. 列表的基本操作：按下表查找、插入元素、删除元素...\n",
    "    - 3. 这些操作的时间复杂度是多少？\n",
    "- 扩展：Python的列表是如何实现的？"
   ]
  },
  {
   "cell_type": "markdown",
   "id": "6a5af011-86f8-43a3-b287-3a819dfdb8a6",
   "metadata": {},
   "source": [
    "## 数组与列表的区别 "
   ]
  },
  {
   "cell_type": "markdown",
   "id": "d9b70f67-2aac-4077-83d4-306e42761e3d",
   "metadata": {},
   "source": [
    "1. 数组元素类型要相同（不同类型占字节不同）\n",
    "2. 数组长度固定"
   ]
  },
  {
   "cell_type": "markdown",
   "id": "30e11919-c195-4a79-b4dc-9ac0fc9a0c18",
   "metadata": {},
   "source": [
    "数组：<br>\n",
    "例：32位机器上，一个整数占4个字节，假定数组的首地址是100-->每个元素的位置为：100+n*4"
   ]
  },
  {
   "cell_type": "markdown",
   "id": "ac7c2ffd-a811-4588-98a2-7851561be3aa",
   "metadata": {},
   "source": [
    "列表：<br>\n",
    "列表中每个元素存的是该元素的地址，一个地址也是整数，占4个字节。<br>\n",
    "关于列表元素如何解决长度固定问题：不够往后按照4个字节为单位加长度"
   ]
  },
  {
   "cell_type": "markdown",
   "id": "945c3438-c494-4b42-8a90-89533db7fbd2",
   "metadata": {},
   "source": [
    "## 各操作复杂度 "
   ]
  },
  {
   "cell_type": "markdown",
   "id": "69db1105-c4b0-4478-9e8c-72bc9acb8dff",
   "metadata": {},
   "source": [
    "- append-->一般O(1)\n",
    "- 插入：insert-->插入一个数，后面要往后移, O(n)\n",
    "- 删除：remove-->删除一个数，后面要往前移, O(n); pop-->一般O(1)"
   ]
  }
 ],
 "metadata": {
  "kernelspec": {
   "display_name": "Python 3",
   "language": "python",
   "name": "python3"
  },
  "language_info": {
   "codemirror_mode": {
    "name": "ipython",
    "version": 3
   },
   "file_extension": ".py",
   "mimetype": "text/x-python",
   "name": "python",
   "nbconvert_exporter": "python",
   "pygments_lexer": "ipython3",
   "version": "3.8.8"
  }
 },
 "nbformat": 4,
 "nbformat_minor": 5
}
