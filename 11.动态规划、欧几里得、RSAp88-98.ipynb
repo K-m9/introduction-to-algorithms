{
 "cells": [
  {
   "cell_type": "markdown",
   "id": "2d8ca15c-f9eb-44bf-b507-f69af7e7e80d",
   "metadata": {},
   "source": [
    "# 动态规划算法 "
   ]
  },
  {
   "cell_type": "markdown",
   "id": "87d8739d-0c8c-4ece-b34e-a3fc96c2946f",
   "metadata": {},
   "source": [
    "## 从斐波那契数列看动态规划"
   ]
  },
  {
   "cell_type": "markdown",
   "id": "c0d465a3-df79-4325-955e-e8852594c540",
   "metadata": {},
   "source": [
    "- 斐波那契数列：$F_n = F_{n-1} + F_{n-2}$\n",
    "- 练习：使用<b>递归</b>和<b>非递归</b>的方法来求解斐波那契数列的第n项"
   ]
  },
  {
   "cell_type": "code",
   "execution_count": 2,
   "id": "b22d1b7d-fee1-44b9-b6ea-ed6abd6e5fdf",
   "metadata": {},
   "outputs": [],
   "source": [
    "# 子问题的重复计算\n",
    "def fibnacci(n):\n",
    "    if n == 1 or n == 2:\n",
    "        return 1\n",
    "    else:\n",
    "        return fibnacci(n-1) + fibnacci(n-2)"
   ]
  },
  {
   "cell_type": "code",
   "execution_count": 6,
   "id": "551846b8-ec86-44d3-892e-e3945df7805e",
   "metadata": {},
   "outputs": [
    {
     "data": {
      "text/plain": [
       "102334155"
      ]
     },
     "execution_count": 6,
     "metadata": {},
     "output_type": "execute_result"
    }
   ],
   "source": [
    "fibnacci(40)"
   ]
  },
  {
   "cell_type": "code",
   "execution_count": 7,
   "id": "36fb0c46-d6f5-48dc-bf68-a1770d99c34f",
   "metadata": {},
   "outputs": [],
   "source": [
    "# 动态规划（DP）的思想 = 递推式\n",
    "def fibnacci_no_recursion(n):\n",
    "    f = [0,1,1]\n",
    "    if n > 2:\n",
    "        for i in range(n-2):\n",
    "            num = f[-1] + f[-2]\n",
    "            f.append(num)\n",
    "    return f[n]"
   ]
  },
  {
   "cell_type": "code",
   "execution_count": 8,
   "id": "d19cd8f3-c293-4c73-85f7-fdb32994b15f",
   "metadata": {},
   "outputs": [
    {
     "data": {
      "text/plain": [
       "102334155"
      ]
     },
     "execution_count": 8,
     "metadata": {},
     "output_type": "execute_result"
    }
   ],
   "source": [
    "fibnacci_no_recursion(40)"
   ]
  },
  {
   "cell_type": "markdown",
   "id": "0345f846-b644-47cb-8e9a-767ad41f2100",
   "metadata": {},
   "source": [
    "## 钢条切割问题"
   ]
  },
  {
   "cell_type": "markdown",
   "id": "6279b783-5183-4ee0-837b-71e579e0bb7d",
   "metadata": {},
   "source": [
    "- 某公司出售钢条，出售价格与钢条长度之间的关系如下表：<br>\n",
    "<font color=red>插入图片钢条切割问题<font>"
   ]
  },
  {
   "cell_type": "markdown",
   "id": "5e15ebe1-eb82-4331-8f6e-3db4e16cbaed",
   "metadata": {},
   "source": [
    "- 问题：现有一段长度为n的钢条和上面的价格表，求切割钢条的方案，使得总收益最大。"
   ]
  },
  {
   "cell_type": "markdown",
   "id": "45200775-fa98-42bc-a7ab-692d035de9d4",
   "metadata": {},
   "source": [
    "<font color=red>插入图片钢条切割问题2<font>"
   ]
  },
  {
   "cell_type": "markdown",
   "id": "01e3a1ee-6254-409e-9e9a-8aaa0648cbe4",
   "metadata": {},
   "source": [
    "- 思考：长度为n的钢条的不同切割方案有几种？\n",
    "    - 有$2^{n-1}$次，因为长度为n的钢条有n-1个切割口，每个切割口有两种选择：切或不切"
   ]
  },
  {
   "cell_type": "markdown",
   "id": "e8f6e320-8ef7-4b09-886a-443406d89fab",
   "metadata": {},
   "source": [
    "<font color=red>插入图片钢条切割问题3<font>"
   ]
  },
  {
   "cell_type": "markdown",
   "id": "e940911a-2b70-4b95-8392-fe78503edcd7",
   "metadata": {},
   "source": [
    "### 递推式"
   ]
  },
  {
   "cell_type": "markdown",
   "id": "3b1c2de7-e0d6-4531-aca6-29b877bf9172",
   "metadata": {},
   "source": [
    "- 设长度为n的钢条切割后最优收益值为$r_n$,可以得出递推式：<br>\n",
    "    -  $r_n=max(p_n,r_1+r_{n-1},r_2+r_{n-2},...,r_{n-1}+r_1)$\n",
    "- 第一个参数$p_n$表示不切割\n",
    "- 其他n-1个参数分别表示另外n-1种不同切割方案，对方案i=1,2,...,n-1\n",
    "    - 将钢条切割为长度为i和n-i两段\n",
    "    - 方案i的收益为切割两段的最优收益之和\n",
    "- 考察所有的i，选择其中收益最大的方案"
   ]
  },
  {
   "cell_type": "markdown",
   "id": "67d26c6e-25f2-43ca-9f98-8aced448f8de",
   "metadata": {},
   "source": [
    "### 最优子结构 "
   ]
  },
  {
   "cell_type": "markdown",
   "id": "78c715e5-fbaa-4c92-941a-a43c530afef7",
   "metadata": {},
   "source": [
    "- 可以将求解规模为n的原问题，划分为规模更小的子问题：完成一次切割后，可以将产生的两段钢条看成两个独立的钢条切割问题。\n",
    "- 组合两个子问题的最优解，并在所有可能的两段切割方案中选取组合收益最大的，构成原问题的最优解。\n",
    "- 钢条切割满足<b>最优子结构</b>：问题的最优解由相关子问题的最优解组合而成，这些子问题可以独立求解。"
   ]
  },
  {
   "cell_type": "markdown",
   "id": "04c37f65-0b76-4cc5-ab8d-83868df6b8f9",
   "metadata": {},
   "source": [
    "- 钢条切割问题还存在更简单的递归求解方法:\n",
    "    - 从钢条的左边切割下长度为i的一段，只对右边剩下的一段继续进行切割，左边的不再切割\n",
    "    - 递推式<b>简化</b>为 $r_n = \\max\\limits_{1\\leq i\\leq n}(p_i+r_{n-i})$\n",
    "    - 不做切割的方案就可以描述为：左边一段长度为n，收益为$p_n$，剩余一段长度为0，收益为$r_0 = 0$"
   ]
  },
  {
   "cell_type": "markdown",
   "id": "5380c043-0e20-4dd0-8136-8a7c1d857d8c",
   "metadata": {},
   "source": [
    "### 自顶向下递归实现 "
   ]
  },
  {
   "cell_type": "code",
   "execution_count": 35,
   "id": "49ae003d-ae92-49b8-98d8-9731452ebdbf",
   "metadata": {},
   "outputs": [],
   "source": [
    "p = [0,1,5,8,9,10,17,17,20,21,23,24,26,27,27,28,30,33,36,39,40]\n",
    "#p = [0,1,5,8,9,10,17,17,20,24,30]"
   ]
  },
  {
   "cell_type": "code",
   "execution_count": 5,
   "id": "89365948-d1e4-4234-88b5-d10c8edcc75c",
   "metadata": {},
   "outputs": [],
   "source": [
    "def cut_rod_recursion(p, n):\n",
    "    if n == 0:\n",
    "        return 0\n",
    "    else:\n",
    "        res = p[n]\n",
    "        for i in range(1, n):\n",
    "            res = max(res, cut_rod_recursion(p, i) + cut_rod_recursion(p, n-i))\n",
    "        return res"
   ]
  },
  {
   "cell_type": "markdown",
   "id": "1fa3e9c9-deeb-4f58-9c2f-c35f93b3d3d4",
   "metadata": {},
   "source": [
    "上面代码缺点：重复计算+递归"
   ]
  },
  {
   "cell_type": "code",
   "execution_count": 6,
   "id": "80f30ecf-dee3-46f7-af58-f9f2f9c5d13d",
   "metadata": {},
   "outputs": [
    {
     "data": {
      "text/plain": [
       "34"
      ]
     },
     "execution_count": 6,
     "metadata": {},
     "output_type": "execute_result"
    }
   ],
   "source": [
    "cut_rod_recursion(p, 12)"
   ]
  },
  {
   "cell_type": "code",
   "execution_count": 7,
   "id": "28c41cb2-8781-4faf-8e61-e6669c456cce",
   "metadata": {},
   "outputs": [],
   "source": [
    "def cut_rod_recursion_2(p, n):\n",
    "    if n == 0:\n",
    "        return 0\n",
    "    else:\n",
    "        res = 0\n",
    "        for i in range(1, n+1):\n",
    "            res = max(res, p[i]+cut_rod_recursion_2(p, n-i))\n",
    "        return res"
   ]
  },
  {
   "cell_type": "code",
   "execution_count": 8,
   "id": "42ee65b7-6d9e-404e-83a6-5b27244f8dee",
   "metadata": {},
   "outputs": [
    {
     "data": {
      "text/plain": [
       "34"
      ]
     },
     "execution_count": 8,
     "metadata": {},
     "output_type": "execute_result"
    }
   ],
   "source": [
    "cut_rod_recursion_2(p, 12)"
   ]
  },
  {
   "cell_type": "markdown",
   "id": "b80f5fa9-d59d-4cb5-9dad-518d4c475aa9",
   "metadata": {},
   "source": [
    "- 为何自顶向下递归实现的效率会这么差？\n",
    "    - 时间复杂度 $O(2^n)$"
   ]
  },
  {
   "cell_type": "markdown",
   "id": "33442d37-b1bb-4f56-88ee-dd333f35a727",
   "metadata": {},
   "source": [
    "### 动态规划解法 "
   ]
  },
  {
   "cell_type": "markdown",
   "id": "6790024b-1784-4bb2-b1b3-3328c21ee692",
   "metadata": {},
   "source": [
    "- 递归算法由于重复求解相同子问题，效率极低\n",
    "- 动态规划的思想：\n",
    "    - 每个子问题只求解一次，保存求解结果\n",
    "    - 之后需要此问题时，只需查找保存的结果"
   ]
  },
  {
   "cell_type": "code",
   "execution_count": 9,
   "id": "1246cc7d-2eb3-40b7-b651-91561e90bbc9",
   "metadata": {},
   "outputs": [],
   "source": [
    "def cut_rod_dp(p, n):\n",
    "    r = [0]\n",
    "    for i in range(1, n+1): # 公式里面的n\n",
    "        res = 0\n",
    "        for j in range(1, i+1): # 公式里面的i\n",
    "            res = max(res, p[j]+r[i-j])\n",
    "        r.append(res)\n",
    "    return r[n]"
   ]
  },
  {
   "cell_type": "code",
   "execution_count": 11,
   "id": "82edfaf1-e209-4e2c-b512-9d571922aab7",
   "metadata": {},
   "outputs": [
    {
     "data": {
      "text/plain": [
       "56"
      ]
     },
     "execution_count": 11,
     "metadata": {},
     "output_type": "execute_result"
    }
   ],
   "source": [
    "cut_rod_dp(p, 20)"
   ]
  },
  {
   "cell_type": "code",
   "execution_count": 13,
   "id": "e59715aa-6265-4bbc-9f3d-82030d352f0d",
   "metadata": {},
   "outputs": [],
   "source": [
    "def cut_rod_dp(p, n):\n",
    "    r = [0 for _ in range(n+1)]\n",
    "    for j in range(1, n+1):\n",
    "        q = 0\n",
    "        for i in range(1, j+1):\n",
    "            q = max(q, p[i]+r[j-i])\n",
    "        r[j] = q\n",
    "    return r[n]"
   ]
  },
  {
   "cell_type": "markdown",
   "id": "8d1ce364-8cbb-44ce-acd5-0f9857dc7972",
   "metadata": {},
   "source": [
    "### 重构解 "
   ]
  },
  {
   "cell_type": "markdown",
   "id": "1c0eab7e-e306-48e6-b3d4-223ae3b2da30",
   "metadata": {},
   "source": [
    "- 如何修改动态规划算法，使其不仅输出最优解，还输出最优切割方案？\n",
    "- 对每个子问题，保存切割一次时左边切下的长度"
   ]
  },
  {
   "cell_type": "code",
   "execution_count": 27,
   "id": "4c4267be-9d1d-4a48-b895-848842fd22bf",
   "metadata": {},
   "outputs": [],
   "source": [
    "def cut_rod_extend(p, n):\n",
    "    r = [0]\n",
    "    s = [0]\n",
    "    for i in range(1, n+1):\n",
    "        res_r = 0 # 记录价格最大值\n",
    "        res_s = 0 # 价格最大值对应方案左边不切割长度\n",
    "        for j in range(1, i+1): # 公式里面的i\n",
    "            if p[j] + r[i-j] > res_r:\n",
    "                res_r = p[j] + r[i-j]\n",
    "                res_s = j\n",
    "        r.append(res_r)\n",
    "        s.append(res_s)\n",
    "    return r[n], s"
   ]
  },
  {
   "cell_type": "code",
   "execution_count": 28,
   "id": "f2ffd16f-988c-4677-bfd6-a3c2835a24d9",
   "metadata": {},
   "outputs": [],
   "source": [
    "r,s = cut_rod_extend(p,10)"
   ]
  },
  {
   "cell_type": "code",
   "execution_count": 29,
   "id": "0e08f875-3890-4945-ae30-2b13bf8f2f90",
   "metadata": {},
   "outputs": [
    {
     "data": {
      "text/plain": [
       "[0, 1, 2, 3, 2, 2, 6, 1, 2, 3, 10]"
      ]
     },
     "execution_count": 29,
     "metadata": {},
     "output_type": "execute_result"
    }
   ],
   "source": [
    "s"
   ]
  },
  {
   "cell_type": "code",
   "execution_count": 30,
   "id": "e6351d3d-808d-4748-97ab-e007b65dca53",
   "metadata": {},
   "outputs": [],
   "source": [
    "def cut_rod_solution(p, n):\n",
    "    r, s = cut_rod_extend(p, n)\n",
    "    ans = []\n",
    "    while n > 0:\n",
    "        ans.append(s[n])\n",
    "        n -= s[n]\n",
    "    return ans"
   ]
  },
  {
   "cell_type": "code",
   "execution_count": 37,
   "id": "16bdd6db-1ee8-49f7-93b6-23ef32b89949",
   "metadata": {},
   "outputs": [
    {
     "data": {
      "text/plain": [
       "[2, 6, 6, 6]"
      ]
     },
     "execution_count": 37,
     "metadata": {},
     "output_type": "execute_result"
    }
   ],
   "source": [
    "cut_rod_solution(p,20)"
   ]
  },
  {
   "cell_type": "code",
   "execution_count": 38,
   "id": "212d4026-ac8a-4ae6-9cbd-aecf52f2a51c",
   "metadata": {},
   "outputs": [
    {
     "data": {
      "text/plain": [
       "56"
      ]
     },
     "execution_count": 38,
     "metadata": {},
     "output_type": "execute_result"
    }
   ],
   "source": [
    "cut_rod_dp(p,20)"
   ]
  },
  {
   "cell_type": "code",
   "execution_count": 39,
   "id": "27427e92-97c8-4e66-96da-ddd90d89586b",
   "metadata": {},
   "outputs": [],
   "source": [
    "r,s = cut_rod_extend(p,20)"
   ]
  },
  {
   "cell_type": "code",
   "execution_count": 40,
   "id": "254da375-6f9d-4693-9013-4d47954eac7d",
   "metadata": {},
   "outputs": [
    {
     "data": {
      "text/plain": [
       "[0, 1, 2, 3, 2, 2, 6, 1, 2, 3, 2, 2, 6, 1, 2, 3, 2, 2, 6, 1, 2]"
      ]
     },
     "execution_count": 40,
     "metadata": {},
     "output_type": "execute_result"
    }
   ],
   "source": [
    "s"
   ]
  },
  {
   "cell_type": "markdown",
   "id": "36450dae-a303-4ae5-957b-7f82e3f87ee7",
   "metadata": {},
   "source": [
    "### 动态规划问题关键特征 "
   ]
  },
  {
   "cell_type": "markdown",
   "id": "af789150-b39d-4330-9129-f3e1c53150bc",
   "metadata": {},
   "source": [
    "- 什么问题可以使用动态规划方法？\n",
    "    - 最优子结构\n",
    "        - 原问题的最优解中涉及多少个子问题\n",
    "        - 再确定最优解使用哪些子问题时，需要考虑多少种选择\n",
    "    - 重叠子问题"
   ]
  },
  {
   "cell_type": "markdown",
   "id": "7a3b285c-401e-4a91-8932-20016f378a1c",
   "metadata": {},
   "source": [
    "## 最长公共子序列 "
   ]
  },
  {
   "cell_type": "markdown",
   "id": "a9201732-c38a-4f3a-bbc7-f773fbf9f943",
   "metadata": {},
   "source": [
    "- 一个序列的子序列是在该序列中删去若干元素后得到的序列。\n",
    "    - 例：“ABCD”和“BDF”都是“ABCDEFG”的子序列\n",
    "- 最长公共子序列（LCS）问题：给定两个序列X和Y，求X和Y长度最大的公共子序列。\n",
    "    - 例：X='ABBCBDE',Y='DBBCDB',LCS(X,Y)='BBCD'\n",
    "- 应用场景：字符串相似度比对"
   ]
  },
  {
   "cell_type": "markdown",
   "id": "18b221ba-73ae-4349-bb48-90c13fa38064",
   "metadata": {},
   "source": [
    "- 思考：暴力穷举法的时间复杂度--> $O(2^n)$\n",
    "- 思考：最长公共子序列是否具有最优子结构性质？-->"
   ]
  },
  {
   "cell_type": "markdown",
   "id": "2dc2e300-4017-4297-8825-949fc5cf4705",
   "metadata": {},
   "source": [
    "- 例如：要求a=\"ABCBDAB\"与b=\"BDCABA\"的LCS:\n",
    "    - 由于最后一位“B”~=“A”\n",
    "        - 因此LCS(a,b)应该来源于LCS(a[:-1],b)与LCS(a,b[:-1])中更大的那一个"
   ]
  },
  {
   "cell_type": "markdown",
   "id": "ffc2a0d7-7997-451f-b668-4d13ba4aa0db",
   "metadata": {},
   "source": [
    "<font color=red>插入<font>"
   ]
  },
  {
   "cell_type": "code",
   "execution_count": 45,
   "id": "8f762fce-727b-4ee2-bc86-ec6e991318b1",
   "metadata": {},
   "outputs": [],
   "source": [
    "def lcs_length(x, y):\n",
    "    m = len(x)\n",
    "    n = len(y)\n",
    "    c = [[0 for _ in range(n+1)] for _ in range(m+1)]\n",
    "    for i in range(1, m+1):\n",
    "        for j in range(1, n+1):\n",
    "            if x[i-1] == y[j-1]: # i j 位置上的字符匹配时，来自左上方+1\n",
    "                c[i][j] = c[i-1][j-1] + 1\n",
    "            else:\n",
    "                c[i][j] = max(c[i-1][j],c[i][j-1])\n",
    "    for _ in c:\n",
    "        print(_)\n",
    "    return c[m][n]       "
   ]
  },
  {
   "cell_type": "code",
   "execution_count": 46,
   "id": "000af98c-4d77-40e0-8cc0-89bfb2e6e453",
   "metadata": {},
   "outputs": [
    {
     "name": "stdout",
     "output_type": "stream",
     "text": [
      "[0, 0, 0, 0, 0, 0, 0]\n",
      "[0, 0, 0, 0, 1, 1, 1]\n",
      "[0, 1, 1, 1, 1, 2, 2]\n",
      "[0, 1, 1, 2, 2, 2, 2]\n",
      "[0, 1, 1, 2, 2, 3, 3]\n",
      "[0, 1, 2, 2, 2, 3, 3]\n",
      "[0, 1, 2, 2, 3, 3, 4]\n",
      "[0, 1, 2, 2, 3, 4, 4]\n"
     ]
    },
    {
     "data": {
      "text/plain": [
       "4"
      ]
     },
     "execution_count": 46,
     "metadata": {},
     "output_type": "execute_result"
    }
   ],
   "source": [
    "lcs_length(\"ABCBDAB\",'BDCABA')"
   ]
  },
  {
   "cell_type": "code",
   "execution_count": 53,
   "id": "8a05b5e4-1f37-4e0e-8cc6-8e4376310c1c",
   "metadata": {},
   "outputs": [],
   "source": [
    "def lcs(x, y):\n",
    "    m = len(x)\n",
    "    n = len(y)\n",
    "    c = [[0 for _ in range(n+1)] for _ in range(m+1)]\n",
    "    b = [[0 for _ in range(n+1)] for _ in range(m+1)] # 1 左上方 2 上方 3 左方\n",
    "    for i in range(1, m+1):\n",
    "        for j in range(1, n+1):\n",
    "            if x[i-1] == y[j-1]: # i j 位置上的字符匹配时，来自左上方+1\n",
    "                c[i][j] = c[i-1][j-1] + 1\n",
    "                b[i][j] = 1\n",
    "            elif c[i-1][j] > c[i][j-1]:\n",
    "                c[i][j] = c[i-1][j]\n",
    "                b[i][j] = 2\n",
    "            else:\n",
    "                c[i][j] = c[i][j-1]\n",
    "                b[i][j] = 3\n",
    "    return c[m][n], b"
   ]
  },
  {
   "cell_type": "code",
   "execution_count": 54,
   "id": "e8fb3bbd-7b2d-4455-b420-676fa1eccbd4",
   "metadata": {},
   "outputs": [
    {
     "name": "stdout",
     "output_type": "stream",
     "text": [
      "[0, 0, 0, 0, 0, 0, 0]\n",
      "[0, 3, 3, 3, 1, 3, 1]\n",
      "[0, 1, 3, 3, 3, 1, 3]\n",
      "[0, 2, 3, 1, 3, 3, 3]\n",
      "[0, 1, 3, 2, 3, 1, 3]\n",
      "[0, 2, 1, 3, 3, 2, 3]\n",
      "[0, 2, 2, 3, 1, 3, 1]\n",
      "[0, 1, 2, 3, 2, 1, 3]\n"
     ]
    }
   ],
   "source": [
    "c,b = lcs(\"ABCBDAB\",'BDCABA')\n",
    "for _ in b:\n",
    "    print(_)"
   ]
  },
  {
   "cell_type": "code",
   "execution_count": 56,
   "id": "32cd89ed-0e57-46fc-8606-baac8a70baac",
   "metadata": {},
   "outputs": [],
   "source": [
    "def lcs_trackback(x, y):\n",
    "    c, b = lcs(x,y)\n",
    "    i = len(x)\n",
    "    j = len(y)\n",
    "    res = []\n",
    "    while i > 0 and j > 0:\n",
    "        if b[i][j] == 1:  # 来自左上方->匹配\n",
    "            res.append(x[i-1])\n",
    "            i -= 1\n",
    "            j -= 1\n",
    "        elif b[i][j] == 2: # 来自上方->不匹配\n",
    "            i -= 1\n",
    "        else: # 来自左方\n",
    "            j -= 1\n",
    "    return ''.join(reversed(res))            "
   ]
  },
  {
   "cell_type": "code",
   "execution_count": 57,
   "id": "cd2587d8-710d-4067-bf9b-c5b80386bc3e",
   "metadata": {},
   "outputs": [
    {
     "data": {
      "text/plain": [
       "'BDAB'"
      ]
     },
     "execution_count": 57,
     "metadata": {},
     "output_type": "execute_result"
    }
   ],
   "source": [
    "lcs_trackback(\"ABCBDAB\",'BDCABA')"
   ]
  },
  {
   "cell_type": "markdown",
   "id": "bf9e1868-c808-4fa3-a538-bea2f09770a7",
   "metadata": {},
   "source": [
    "# 欧几里得算法 "
   ]
  },
  {
   "cell_type": "markdown",
   "id": "b45d177c-4028-43bc-8b57-bda90d523c95",
   "metadata": {},
   "source": [
    "## 最大公约数 "
   ]
  },
  {
   "cell_type": "markdown",
   "id": "76eced46-b871-4004-adf6-a7a4b4571e9b",
   "metadata": {},
   "source": [
    "- 约数：如果整数a能被整数b整除，那么a叫做b的倍数，b叫做a的约数。\n",
    "- 给定两个整数a,b，两个数的所有公约数中最大值即为最大公约数（Greatest Common Divisor, GCD）\n",
    "- 例：12和16的最大公约数是4"
   ]
  },
  {
   "cell_type": "markdown",
   "id": "0e76e50c-0dec-4fc3-af64-f8b4a55d8ff7",
   "metadata": {},
   "source": [
    "- 如何计算两个数的最大公约数：\n",
    "    - 欧几里得：<b>辗转相除法（欧几里得算法）</b>\n",
    "    - 《九章算术》：更相减损术"
   ]
  },
  {
   "cell_type": "markdown",
   "id": "08c6b332-2084-4bc7-b511-281d9a7a7040",
   "metadata": {},
   "source": [
    "- 欧几里得算法：gcd(a,b) = gcd(b, a mod b)\n",
    "    - 例：gcd(60,21) = gcd(21,18) = gcd(18,3) = gcd(3,0) = 0"
   ]
  },
  {
   "cell_type": "code",
   "execution_count": 58,
   "id": "21736920-efed-45bd-b662-a1644cba0817",
   "metadata": {},
   "outputs": [],
   "source": [
    "def gcd(a, b):\n",
    "    if b == 0:\n",
    "        return a\n",
    "    else:\n",
    "        return gcd(b, a % b)"
   ]
  },
  {
   "cell_type": "code",
   "execution_count": 59,
   "id": "45a8f1bf-944d-4b70-8c71-4eaff4f83ec4",
   "metadata": {},
   "outputs": [
    {
     "data": {
      "text/plain": [
       "4"
      ]
     },
     "execution_count": 59,
     "metadata": {},
     "output_type": "execute_result"
    }
   ],
   "source": [
    "gcd(12,16)"
   ]
  },
  {
   "cell_type": "code",
   "execution_count": 60,
   "id": "a53cfab6-9dd6-48f1-84a9-9f30a679202f",
   "metadata": {},
   "outputs": [],
   "source": [
    "def gcd2(a, b):\n",
    "    while b > 0:\n",
    "        r = a % b\n",
    "        a = b\n",
    "        b = r\n",
    "    return a"
   ]
  },
  {
   "cell_type": "code",
   "execution_count": 61,
   "id": "c2b454dc-bc6b-4c9f-9e06-7b14d428f32d",
   "metadata": {},
   "outputs": [
    {
     "data": {
      "text/plain": [
       "4"
      ]
     },
     "execution_count": 61,
     "metadata": {},
     "output_type": "execute_result"
    }
   ],
   "source": [
    "gcd2(12,16)"
   ]
  },
  {
   "cell_type": "markdown",
   "id": "c466e46b-42a1-4691-997b-80fe5e653874",
   "metadata": {},
   "source": [
    "### 实现分数计算 "
   ]
  },
  {
   "cell_type": "code",
   "execution_count": 74,
   "id": "da8ed666-68cd-4979-b6f5-543ccc7cd0c6",
   "metadata": {},
   "outputs": [],
   "source": [
    "class Fraction:\n",
    "    def __init__(self, a, b):\n",
    "        self.a = a\n",
    "        self.b = b\n",
    "        x = self.gcd(a, b)\n",
    "        self.a /= x\n",
    "        self.b /= x\n",
    "    \n",
    "    def gcd(self, a, b):\n",
    "        while b > 0:\n",
    "            r = a % b\n",
    "            a = b\n",
    "            b = r\n",
    "        return a\n",
    "    \n",
    "    def zgs(self, a, b): # 最小公倍数\n",
    "        # 12 16 --> 4\n",
    "        # 3*4*4 = 48\n",
    "        x = self.gcd(a, b)\n",
    "        return a * b / x #x *(a / x) * (b / x)\n",
    "    \n",
    "    def __add__(self, other):\n",
    "        # 1/12 + 1/20\n",
    "        a = self.a\n",
    "        b = self.b\n",
    "        c = other.a\n",
    "        d = other.b\n",
    "        denom = self.zgs(b, d)\n",
    "        mem = a * (denom / b) + c * (denom / d)\n",
    "        return Fraction(mem, denom)\n",
    "        \n",
    "    def __repr__(self):\n",
    "        return '%d/%d' % (self.a, self.b)"
   ]
  },
  {
   "cell_type": "code",
   "execution_count": 75,
   "id": "4d127828-9c14-4de1-8154-5c8a321a9421",
   "metadata": {},
   "outputs": [
    {
     "data": {
      "text/plain": [
       "3/1"
      ]
     },
     "execution_count": 75,
     "metadata": {},
     "output_type": "execute_result"
    }
   ],
   "source": [
    "f = Fraction(30,10)\n",
    "f"
   ]
  },
  {
   "cell_type": "code",
   "execution_count": 76,
   "id": "7e565ddb-b63f-4785-b815-27fed29b5cb1",
   "metadata": {},
   "outputs": [
    {
     "data": {
      "text/plain": [
       "5/6"
      ]
     },
     "execution_count": 76,
     "metadata": {},
     "output_type": "execute_result"
    }
   ],
   "source": [
    "a = Fraction(1,3)\n",
    "b = Fraction(1,2)\n",
    "a+b"
   ]
  },
  {
   "cell_type": "markdown",
   "id": "2c31bdd7-ce3d-4b5e-877b-650d08af0757",
   "metadata": {},
   "source": [
    "# RSA算法"
   ]
  },
  {
   "cell_type": "markdown",
   "id": "362ae8b8-0045-4abb-adec-3ce83b36393a",
   "metadata": {},
   "source": [
    "## 密码与加密 "
   ]
  },
  {
   "cell_type": "markdown",
   "id": "a5f713ee-e763-4c51-a508-1fd29a3f601f",
   "metadata": {},
   "source": [
    "- 传统密码：加密算法是秘密的\n",
    "- 现代密码传统：加密算法是公开的，密钥是秘密的\n",
    "    - 对称加密：加密解密同一个密钥\n",
    "    - 非对称加密：加密解密不同密钥"
   ]
  },
  {
   "cell_type": "markdown",
   "id": "a60005de-e62a-4bc1-8247-4808dad9324c",
   "metadata": {},
   "source": [
    "- RSA非对称加密系统：\n",
    "    - 公钥：用来加密，是公开的\n",
    "    - 私钥：用来解密，是私有的"
   ]
  },
  {
   "cell_type": "markdown",
   "id": "eb3f9928-fbf6-460a-9a49-7719027a3308",
   "metadata": {},
   "source": [
    "<font color = red>RSA<font>"
   ]
  },
  {
   "cell_type": "markdown",
   "id": "315e6861-bed5-44f5-af4f-cda0e064e5d3",
   "metadata": {},
   "source": [
    "## RSA加密算法过程"
   ]
  },
  {
   "cell_type": "markdown",
   "id": "e82310fb-76cf-405b-a11b-6c70d3e7cb22",
   "metadata": {},
   "source": [
    "1. 随机选取两个质数p和q\n",
    "2. 计算n = pq（n很难分解成p和q，因此很难破解，如果破解只是破解了一对密钥，更换后仍需重新破解）\n",
    "3. 选取一个与$\\phi(n)$互质的小奇数e，$\\phi(n)=(p-1)(q-1)$\n",
    "4. 对模$\\phi(n)$，计算e的乘法逆元d，即满足$(e*d) mod \\phi(n)=1$\n",
    "5. 公钥(e,n) 私钥(d,n)"
   ]
  },
  {
   "cell_type": "markdown",
   "id": "cfd70df6-67d5-4a9f-9444-47719dd7b5bc",
   "metadata": {},
   "source": [
    "- 加密过程： $c = (m^e) mod n$\n",
    "- 解密过程： $m = (c^d) mod n$"
   ]
  },
  {
   "cell_type": "code",
   "execution_count": null,
   "id": "efa6a371-87b6-4f81-8477-853ef87be490",
   "metadata": {},
   "outputs": [],
   "source": []
  }
 ],
 "metadata": {
  "kernelspec": {
   "display_name": "Python 3",
   "language": "python",
   "name": "python3"
  },
  "language_info": {
   "codemirror_mode": {
    "name": "ipython",
    "version": 3
   },
   "file_extension": ".py",
   "mimetype": "text/x-python",
   "name": "python",
   "nbconvert_exporter": "python",
   "pygments_lexer": "ipython3",
   "version": "3.8.8"
  },
  "toc-autonumbering": true
 },
 "nbformat": 4,
 "nbformat_minor": 5
}
