{
 "cells": [
  {
   "cell_type": "markdown",
   "id": "bbff1f38-acb7-4e05-85f3-fddc915d2d4c",
   "metadata": {},
   "source": [
    "# 栈(Stack) "
   ]
  },
  {
   "cell_type": "markdown",
   "id": "2bfd70c2-7d3e-4ad0-a5ad-e0a202e1f784",
   "metadata": {},
   "source": [
    "1. 栈是一个数据集合，可以理解为只能在一端进行插入或删除操作的列表。\n",
    "2. 栈的特点：后进先出 LIFO(last-in, first-out)\n",
    "3. 栈的概念：栈顶、栈底\n",
    "4. 栈的基本操作：\n",
    "    - 进栈（压栈）：push\n",
    "    - 出栈：pop\n",
    "    - 取栈顶：gettop，相当于查找，看一下不取出"
   ]
  },
  {
   "cell_type": "markdown",
   "id": "da01776d-1a5f-487d-af1e-22a4b2da2f3b",
   "metadata": {},
   "source": [
    "## 栈的实现"
   ]
  },
  {
   "cell_type": "markdown",
   "id": "7c60815d-947c-44ba-8f78-af609eb4361a",
   "metadata": {},
   "source": [
    "1. 使用一般的<b>列表</b>结构即可实现栈\n",
    "    - 进栈：li.append\n",
    "    - 出栈：li.pop\n",
    "    - 取栈顶：li[-1]"
   ]
  },
  {
   "cell_type": "code",
   "execution_count": 6,
   "id": "c7794d9d-7ed9-4dbf-abf2-6ae96800eb40",
   "metadata": {},
   "outputs": [],
   "source": [
    "class Stack:\n",
    "    def __init__(self):\n",
    "        self.stack = []\n",
    "    def push(self, element):\n",
    "        self.stack.append(element)\n",
    "    def pop(self):\n",
    "        return self.stack.pop()\n",
    "    def get_top(self):\n",
    "        if len(self.stack) > 0:\n",
    "            return self.stack[-1]\n",
    "        else:\n",
    "            return None\n",
    "    \n",
    "    def is_empty(self):\n",
    "        return len(self.stack) == 0"
   ]
  },
  {
   "cell_type": "code",
   "execution_count": 4,
   "id": "3d2954df-2c5b-4a1d-9d5a-6d463dc7caa0",
   "metadata": {},
   "outputs": [
    {
     "name": "stdout",
     "output_type": "stream",
     "text": [
      "3\n"
     ]
    }
   ],
   "source": [
    "stack = Stack()\n",
    "stack.push(1)\n",
    "stack.push(2)\n",
    "stack.push(3)\n",
    "print(stack.pop())"
   ]
  },
  {
   "cell_type": "markdown",
   "id": "3ee5bc78-03d3-4270-a39b-c7c20ca82aed",
   "metadata": {},
   "source": [
    "## 栈的应用--括号匹配问题"
   ]
  },
  {
   "cell_type": "markdown",
   "id": "b65cf42c-d535-46db-8108-34861d0d3bd3",
   "metadata": {},
   "source": [
    "- 括号匹配问题：给一个字符串，其中包含小括号、中括号、大括号，求该字符串中的括号是否匹配。\n",
    "- 例如：\n",
    "    - ()()[]{} 匹配\n",
    "    - ([{()}]) 匹配\n",
    "    - []( 不匹配\n",
    "    - [(]) 不匹配"
   ]
  },
  {
   "cell_type": "code",
   "execution_count": 7,
   "id": "1acb466b-19d3-43b4-8058-797921b08fae",
   "metadata": {},
   "outputs": [],
   "source": [
    "def brace_match(s):\n",
    "    match = {')':'(',']':'[','}':'{'}\n",
    "    stack = Stack()\n",
    "    for ch in s:\n",
    "        if ch in ['(','[','{']:\n",
    "            stack.push(ch)\n",
    "        else: \n",
    "            if stack.is_empty():\n",
    "                return False\n",
    "            elif stack.get_top() == match[ch]:\n",
    "                stack.pop()\n",
    "            else: # stack.get_pop() != match[ch]\n",
    "                return False\n",
    "    if stack.is_empty():\n",
    "        return True\n",
    "    else:\n",
    "        return False"
   ]
  },
  {
   "cell_type": "code",
   "execution_count": 8,
   "id": "b1370fb3-da50-4617-a259-f753bb67fbaa",
   "metadata": {},
   "outputs": [
    {
     "data": {
      "text/plain": [
       "True"
      ]
     },
     "execution_count": 8,
     "metadata": {},
     "output_type": "execute_result"
    }
   ],
   "source": [
    "brace_match('({[([])]})')"
   ]
  },
  {
   "cell_type": "code",
   "execution_count": 9,
   "id": "0ad9d499-a062-4281-95cc-5d1ae51fa8ec",
   "metadata": {},
   "outputs": [
    {
     "data": {
      "text/plain": [
       "False"
      ]
     },
     "execution_count": 9,
     "metadata": {},
     "output_type": "execute_result"
    }
   ],
   "source": [
    "brace_match('{(])}')"
   ]
  },
  {
   "cell_type": "markdown",
   "id": "5766d188-aa92-4ffc-a42f-fd92846f7029",
   "metadata": {},
   "source": [
    "# 队列(queue) "
   ]
  },
  {
   "cell_type": "markdown",
   "id": "d40f06fb-dc4c-4de1-9c27-278f43117f92",
   "metadata": {},
   "source": [
    "## 队列的介绍 "
   ]
  },
  {
   "cell_type": "markdown",
   "id": "e6f7aea1-0127-4a00-8c60-d7f7be1fad13",
   "metadata": {},
   "source": [
    "1. 队列(queue)是一个数据集合，仅允许在列表的一端进行插入，另一端进行删除。\n",
    "2. 进行插入的一段称为对位(rear)，插入动作称为进队或入队。\n",
    "3. 进行删除的一端称为对头(front)，删除动作称为出队\n",
    "4. 队列的性质：先进先出(First-in, First-out)"
   ]
  },
  {
   "cell_type": "markdown",
   "id": "42939049-564c-43be-a7fb-1249d23604f2",
   "metadata": {},
   "source": [
    "队列能否用列表简单实现？为什么？"
   ]
  },
  {
   "cell_type": "markdown",
   "id": "9ee861d8-b09f-419f-93eb-dbf08d14537d",
   "metadata": {},
   "source": [
    "出队不能用remove，因为元素位置会向前移，把front指向后一个元素，不管前一个元素，当作前一个元素出队。<br>\n",
    "当前面的元素出队时，想要加入新元素，如何利用前面的位置？-->环形队列"
   ]
  },
  {
   "cell_type": "markdown",
   "id": "5e461a1f-075a-44b2-8a7e-a5c1549f5e8e",
   "metadata": {},
   "source": [
    "## 队列的实现方式--环形队列"
   ]
  },
  {
   "cell_type": "markdown",
   "id": "ef03bd3f-7295-44d6-bb97-bd15303fefb1",
   "metadata": {},
   "source": [
    "存在队满现象，rear和front不能指向同一个，rear = front是空队列，队满是rear+1 = front。<br>\n",
    "队满可开多一个队列。"
   ]
  },
  {
   "cell_type": "markdown",
   "id": "c492ead9-b675-42ce-ae31-54beae15b7e6",
   "metadata": {},
   "source": [
    "- 如何实现10 + 1 = 1（从头）-->取余：(rear + 1) % len"
   ]
  },
  {
   "cell_type": "markdown",
   "id": "556c8f82-e209-41d7-bee2-38105488af9a",
   "metadata": {},
   "source": [
    "- 环形队列：当队尾指针front == Maxsize - 1时，再前进一个位置就自动到0。\n",
    "    - 队首指针前进1：front = (front + 1) % MaxSize\n",
    "    - 队尾指针前进1：rear = (rear + 1) % MaxSize\n",
    "    - 对空条件：rear == front\n",
    "    - 队满条件：(rear + 1) % MaxSize == front"
   ]
  },
  {
   "cell_type": "markdown",
   "id": "8eb98f67-ff80-46c0-b09a-d002f3d76295",
   "metadata": {},
   "source": [
    "## 队列的实现 "
   ]
  },
  {
   "cell_type": "code",
   "execution_count": 24,
   "id": "cc8dc3eb-78cb-4770-b25f-702814a19cb6",
   "metadata": {},
   "outputs": [],
   "source": [
    "class Queue:\n",
    "    def __init__(self, size=100):\n",
    "        self.queue = [0 for _ in range(size)]\n",
    "        self.rear = 0 # 队尾\n",
    "        self.front = 0 # 队首\n",
    "        self.size = size\n",
    "        \n",
    "    def push(self, element):\n",
    "        if not self.is_filled():\n",
    "            self.rear = (self.rear + 1) % self.size\n",
    "            self.queue[self.rear] = element\n",
    "        else:\n",
    "            raise IndexError('Queue is filled.')\n",
    "    \n",
    "    def pop(self):\n",
    "        if not self.is_empty():\n",
    "            self.front = (self.front + 1) % self.size\n",
    "            return self.queue[self.front]\n",
    "        else:\n",
    "            raise IndexError('Queue is empty.')\n",
    "    \n",
    "    # 判断对空\n",
    "    def is_empty(self):\n",
    "        return self.rear == self.front\n",
    "    \n",
    "    # 判断队满\n",
    "    def is_filled(self):\n",
    "        return (self.rear + 1) % self.size == self.front"
   ]
  },
  {
   "cell_type": "code",
   "execution_count": 25,
   "id": "81e563c4-fa1b-4da9-9eb3-eed856da7df2",
   "metadata": {},
   "outputs": [],
   "source": [
    "q = Queue(5)"
   ]
  },
  {
   "cell_type": "code",
   "execution_count": 26,
   "id": "80580131-ed3f-44d6-a759-3a140928ef2d",
   "metadata": {},
   "outputs": [],
   "source": [
    "for i in range(4):\n",
    "    q.push(i)"
   ]
  },
  {
   "cell_type": "code",
   "execution_count": 27,
   "id": "0dd7d5a3-2de9-43fe-841c-65e186e92577",
   "metadata": {},
   "outputs": [
    {
     "data": {
      "text/plain": [
       "0"
      ]
     },
     "execution_count": 27,
     "metadata": {},
     "output_type": "execute_result"
    }
   ],
   "source": [
    "q.pop()"
   ]
  },
  {
   "cell_type": "code",
   "execution_count": 28,
   "id": "d83967e6-1c2e-44df-be39-d28033164e60",
   "metadata": {},
   "outputs": [
    {
     "data": {
      "text/plain": [
       "1"
      ]
     },
     "execution_count": 28,
     "metadata": {},
     "output_type": "execute_result"
    }
   ],
   "source": [
    "q.pop()"
   ]
  },
  {
   "cell_type": "code",
   "execution_count": 29,
   "id": "a1ddc5a5-6f3f-4be2-b8fb-d94a9a3f9d1e",
   "metadata": {},
   "outputs": [],
   "source": [
    "q.push(4)"
   ]
  },
  {
   "cell_type": "code",
   "execution_count": 30,
   "id": "49e8d128-735c-4e38-8dbc-e67dd76a58ec",
   "metadata": {},
   "outputs": [],
   "source": [
    "q.push(5)"
   ]
  },
  {
   "cell_type": "code",
   "execution_count": 31,
   "id": "c577b1ca-fe20-4a49-8b2e-699e1c9bc009",
   "metadata": {},
   "outputs": [
    {
     "data": {
      "text/plain": [
       "True"
      ]
     },
     "execution_count": 31,
     "metadata": {},
     "output_type": "execute_result"
    }
   ],
   "source": [
    "q.is_filled()"
   ]
  },
  {
   "cell_type": "markdown",
   "id": "3a1634ca-6977-4dfe-8b0d-d3a07d1fa881",
   "metadata": {},
   "source": [
    "### 双向队列"
   ]
  },
  {
   "cell_type": "markdown",
   "id": "eac565de-2f3f-40a7-a4bf-2cb279e7f87c",
   "metadata": {},
   "source": [
    "- 双向队列的两端都支持进队和出队操作\n",
    "- 双向队列的基本操作\n",
    "    - 队首进队\n",
    "    - 队首出队\n",
    "    - 队尾进队\n",
    "    - 队尾出队"
   ]
  },
  {
   "cell_type": "markdown",
   "id": "1253a84a-bfd9-4a59-89d3-948574f7606f",
   "metadata": {},
   "source": [
    "## 队列的内置模块 "
   ]
  },
  {
   "cell_type": "markdown",
   "id": "2702932a-5a90-4763-8b0f-9c24a56a8698",
   "metadata": {},
   "source": [
    "- 使用方法：from collections import deque\n",
    "    - 创建队列：queue = deque()\n",
    "    - 进队：append() # 队尾进队\n",
    "    - 出队：popleft()\n",
    "    - 双向队列队首进队：appendleft()\n",
    "    - 双向队列队尾出队：pop()"
   ]
  },
  {
   "cell_type": "code",
   "execution_count": 32,
   "id": "3c8b48f8-4b25-4af3-8f6c-2fd19f087983",
   "metadata": {},
   "outputs": [],
   "source": [
    "from collections import deque # dequeue双向队列"
   ]
  },
  {
   "cell_type": "code",
   "execution_count": 33,
   "id": "81ae199b-1aad-45e4-93c5-fec01572e078",
   "metadata": {},
   "outputs": [
    {
     "name": "stdout",
     "output_type": "stream",
     "text": [
      "1\n"
     ]
    }
   ],
   "source": [
    "q = deque()\n",
    "q.append(1) # 队尾进队\n",
    "print(q.popleft()) #队首出队"
   ]
  },
  {
   "cell_type": "code",
   "execution_count": 35,
   "id": "b09344af-0bc4-4446-907f-113221f85e01",
   "metadata": {},
   "outputs": [],
   "source": [
    "q.appendleft(1) # 队首进队"
   ]
  },
  {
   "cell_type": "code",
   "execution_count": 36,
   "id": "1956ca7c-db7e-4b04-a731-804c4ad9216a",
   "metadata": {},
   "outputs": [
    {
     "data": {
      "text/plain": [
       "1"
      ]
     },
     "execution_count": 36,
     "metadata": {},
     "output_type": "execute_result"
    }
   ],
   "source": [
    "q.pop() # 队尾出队"
   ]
  },
  {
   "cell_type": "code",
   "execution_count": 38,
   "id": "d55f00cb-fee5-49ba-811d-c91a06d956da",
   "metadata": {},
   "outputs": [
    {
     "data": {
      "text/plain": [
       "1"
      ]
     },
     "execution_count": 38,
     "metadata": {},
     "output_type": "execute_result"
    }
   ],
   "source": [
    "q = deque([1,2,3])\n",
    "q.append(4)\n",
    "q.popleft()"
   ]
  },
  {
   "cell_type": "code",
   "execution_count": 39,
   "id": "f1ce4eb1-0fc3-4b5a-858d-d8fcc0e61fa7",
   "metadata": {},
   "outputs": [
    {
     "data": {
      "text/plain": [
       "4"
      ]
     },
     "execution_count": 39,
     "metadata": {},
     "output_type": "execute_result"
    }
   ],
   "source": [
    "q.pop()"
   ]
  },
  {
   "cell_type": "code",
   "execution_count": 42,
   "id": "dbe97d84-dae8-4e39-8b75-1d8fcf302f7f",
   "metadata": {},
   "outputs": [],
   "source": [
    "def tail(n):\n",
    "    with open('test.txt', 'r') as f:\n",
    "        q = deque(f, n)\n",
    "        return q"
   ]
  },
  {
   "cell_type": "code",
   "execution_count": 43,
   "id": "dbeba81c-8659-4d9e-8785-1f20f7395a16",
   "metadata": {},
   "outputs": [
    {
     "data": {
      "text/plain": [
       "deque(['1566\\n', 'dese53\\n', 'ddd\\n', 'dfe52\\n', 'dfgghh'])"
      ]
     },
     "execution_count": 43,
     "metadata": {},
     "output_type": "execute_result"
    }
   ],
   "source": [
    "tail(5)"
   ]
  },
  {
   "cell_type": "code",
   "execution_count": 45,
   "id": "01de4323-d0e9-4eb5-8786-b7df4b82e649",
   "metadata": {},
   "outputs": [
    {
     "name": "stdout",
     "output_type": "stream",
     "text": [
      "1566\n",
      "dese53\n",
      "ddd\n",
      "dfe52\n",
      "dfgghh"
     ]
    }
   ],
   "source": [
    "# 因为该队列大小为5，从前往后进队，队里面只保留最后5个元素\n",
    "for line in tail(5):\n",
    "    print(line, end='')"
   ]
  },
  {
   "cell_type": "markdown",
   "id": "433d6f52-b257-4f0f-88d9-4a5869dd2239",
   "metadata": {},
   "source": [
    "# 栈和队列的应用：迷宫问题"
   ]
  },
  {
   "cell_type": "markdown",
   "id": "372729c9-3227-49c4-9af2-0784768e03b8",
   "metadata": {},
   "source": [
    "- 给一个二维列表，表示迷宫（0表示通道，1表示围墙）。给出算法，求一条走出迷宫的路径。"
   ]
  },
  {
   "cell_type": "markdown",
   "id": "d4ce721d-b3ea-456f-a9c2-d5bed27dc11a",
   "metadata": {},
   "source": [
    "## 栈--深度优先搜索"
   ]
  },
  {
   "cell_type": "markdown",
   "id": "2ecd092a-a098-4c95-8666-aa4a96cac3ff",
   "metadata": {},
   "source": [
    "- <b>回溯法</b>\n",
    "- 思路：从一个节点开始，任意找下一个能走的点，当找不到能走的点时，退回上一个点寻找是否有其他方向的点。\n",
    "- 使用栈存储当前路径\n",
    "- 缺：路径不一定是最短的"
   ]
  },
  {
   "cell_type": "code",
   "execution_count": 5,
   "id": "a3a67420-6b8f-48a9-bfda-3a19d6845c73",
   "metadata": {},
   "outputs": [],
   "source": [
    "maze = [\n",
    "    [1,1,1,1,1,1,1,1,1,1],\n",
    "    [1,0,0,1,0,0,0,1,0,1],\n",
    "    [1,0,0,1,0,0,0,1,0,1],\n",
    "    [1,0,0,0,0,1,1,0,0,1],\n",
    "    [1,0,1,1,1,0,0,0,0,0],\n",
    "    [1,0,0,0,1,0,0,0,0,1],\n",
    "    [1,0,1,0,0,0,1,0,0,1],\n",
    "    [1,0,1,1,1,0,1,1,0,1],\n",
    "    [1,1,0,0,0,0,0,0,0,1],\n",
    "    [1,1,1,1,1,1,1,1,1,1]\n",
    "]"
   ]
  },
  {
   "cell_type": "code",
   "execution_count": 6,
   "id": "c2e7733e-6d41-4725-a233-429d264fcc27",
   "metadata": {},
   "outputs": [],
   "source": [
    "dirs = [\n",
    "    lambda x,y:(x+1, y),\n",
    "    lambda x,y:(x-1, y),\n",
    "    lambda x,y:(x, y-1),\n",
    "    lambda x,y:(x, y+1)\n",
    "]"
   ]
  },
  {
   "cell_type": "code",
   "execution_count": 50,
   "id": "813eeb34-5ea5-4536-af6a-9f19d6a1655d",
   "metadata": {},
   "outputs": [],
   "source": [
    "def maze_path(x1, y1, x2, y2): #x1,y1起点；x2,y2终点\n",
    "    stack = [] #栈里面存的是长度为2的元组\n",
    "    stack.append((x1, y1))\n",
    "    while(len(stack)>0): # 栈空表示无路\n",
    "        curNode = stack[-1]\n",
    "        if curNode[0] == x2 and curNode[1] == y2:\n",
    "            # 走到终点了，输出路径\n",
    "            for p in stack:\n",
    "                print(p)\n",
    "            return True\n",
    "        \n",
    "        # x,y四个方向\n",
    "        for dir in dirs:\n",
    "            nextNode = dir(curNode[0], curNode[1]) #当前的节点\n",
    "            # 如果下一个节点能走\n",
    "            if maze[nextNode[0]][nextNode[1]] == 0:\n",
    "                stack.append(nextNode)\n",
    "                maze[nextNode[0]][nextNode[1]] = 2 # 2表示为已经走过\n",
    "                break\n",
    "        else:\n",
    "            maze[nextNode[0]][nextNode[1]] = 2 #标志为走过\n",
    "            stack.pop() #回退\n",
    "    else:\n",
    "        print('没有路')\n",
    "        return False"
   ]
  },
  {
   "cell_type": "code",
   "execution_count": 51,
   "id": "7ba5a36c-ef6f-41aa-b9e8-f350934db41c",
   "metadata": {},
   "outputs": [
    {
     "name": "stdout",
     "output_type": "stream",
     "text": [
      "(1, 1)\n",
      "(2, 1)\n",
      "(3, 1)\n",
      "(4, 1)\n",
      "(5, 1)\n",
      "(5, 2)\n",
      "(5, 3)\n",
      "(6, 3)\n",
      "(6, 4)\n",
      "(6, 5)\n",
      "(7, 5)\n",
      "(8, 5)\n",
      "(8, 6)\n",
      "(8, 7)\n",
      "(8, 8)\n"
     ]
    },
    {
     "data": {
      "text/plain": [
       "True"
      ]
     },
     "execution_count": 51,
     "metadata": {},
     "output_type": "execute_result"
    }
   ],
   "source": [
    "maze_path(1,1,8,8)"
   ]
  },
  {
   "cell_type": "markdown",
   "id": "dc218475-248f-4dd6-bfdb-f4d201fa8f61",
   "metadata": {},
   "source": [
    "## 队列--广度优先搜索"
   ]
  },
  {
   "cell_type": "markdown",
   "id": "b6b8f448-dca6-472e-81a3-f22ed45ec3aa",
   "metadata": {},
   "source": [
    "- 思路：从一个节点开始，寻找所有接下来能继续走的点，继续不断寻找，直到找到出口。\n",
    "- 使用队列存储当前正在考虑的节点"
   ]
  },
  {
   "cell_type": "markdown",
   "id": "28d9fda3-6597-474e-83cb-bb4b06944b4f",
   "metadata": {},
   "source": [
    "需要一个额外的列表，记录哪个点从哪个点而来"
   ]
  },
  {
   "cell_type": "code",
   "execution_count": 1,
   "id": "2da7e86a-236b-4206-ae7f-40e0d7046d4f",
   "metadata": {},
   "outputs": [],
   "source": [
    "from collections import deque"
   ]
  },
  {
   "cell_type": "code",
   "execution_count": 2,
   "id": "fe5cbabe-b46a-4c38-9c34-5d9c41f5ae65",
   "metadata": {},
   "outputs": [],
   "source": [
    "def print_r(path):\n",
    "    curNode = path[-1]\n",
    "    \n",
    "    realpath = []\n",
    "    \n",
    "    while curNode[2] != -1:\n",
    "        realpath.append(curNode[0:2])\n",
    "        curNode = path(curNode[2])\n",
    "    realpath.append(curNode[0:2]) # 起点\n",
    "    realpath.reverse()\n",
    "    for node in realpath:\n",
    "        print(node)"
   ]
  },
  {
   "cell_type": "code",
   "execution_count": 12,
   "id": "52854e01-8d1a-47db-9ff7-45f15a2387a3",
   "metadata": {},
   "outputs": [],
   "source": [
    "def maze_path_queue(x1, y1, x2, y2):\n",
    "    queue = deque() # 创建空队列\n",
    "    queue.append((x1, y1, -1)) #三维，第三个位置的值是上一个元素的位置，-1为初始值\n",
    "    path = [] #一旦有节点出队，放入path\n",
    "    while len(queue) > 0:\n",
    "        curNode = queue.pop() # 队首出队，并存入当前节点\n",
    "        path.append(curNode)\n",
    "        if curNode[0] == x2 and curNode[1] == y2:\n",
    "            # 终点\n",
    "            print_r(path)\n",
    "            return True\n",
    "        for dir in dirs:\n",
    "            nextNode = dir(curNode[0], curNode[1])\n",
    "            #print(nextNode)\n",
    "            if maze[nextNode[0]][nextNode[1]] == 0:\n",
    "                queue.append((nextNode[0], nextNode[1], len(path)-1)) # 后续节点进队，记录哪个节点带他来的\n",
    "                maze[nextNode[0]][nextNode[1]] = 2 # 标记为已经走过\n",
    "    else:\n",
    "        print('没有路')\n",
    "        return False"
   ]
  },
  {
   "cell_type": "code",
   "execution_count": 15,
   "id": "cf1ac980-ba17-47d5-9a22-c3da494b0794",
   "metadata": {},
   "outputs": [
    {
     "name": "stdout",
     "output_type": "stream",
     "text": [
      "没有路\n"
     ]
    },
    {
     "data": {
      "text/plain": [
       "False"
      ]
     },
     "execution_count": 15,
     "metadata": {},
     "output_type": "execute_result"
    }
   ],
   "source": [
    "maze_path_queue(1,1,2,2)"
   ]
  }
 ],
 "metadata": {
  "kernelspec": {
   "display_name": "Python 3",
   "language": "python",
   "name": "python3"
  },
  "language_info": {
   "codemirror_mode": {
    "name": "ipython",
    "version": 3
   },
   "file_extension": ".py",
   "mimetype": "text/x-python",
   "name": "python",
   "nbconvert_exporter": "python",
   "pygments_lexer": "ipython3",
   "version": "3.8.8"
  }
 },
 "nbformat": 4,
 "nbformat_minor": 5
}
