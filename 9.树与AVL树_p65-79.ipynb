{
 "cells": [
  {
   "cell_type": "markdown",
   "id": "685759ce-aa33-4e0c-a9fe-2a757886b5d4",
   "metadata": {},
   "source": [
    "# 树与二叉树"
   ]
  },
  {
   "cell_type": "markdown",
   "id": "a3191782-aedd-4613-9684-ec363f115a72",
   "metadata": {},
   "source": [
    "- 树是一种数据结构, 比如:目录结构\n",
    "- 树是一种可以递归定义的数据结构\n",
    "- 树是由n个节点组成的集合:\n",
    "    - 如果n=0,那是一颗空树;\n",
    "    - 如果n>0,那存在1个节点作为树的根节点,其他节点可以分为m个集合,每个集合本身又是一棵树."
   ]
  },
  {
   "cell_type": "markdown",
   "id": "c6af0a9f-83b8-47e9-ba27-cecfcf5d8331",
   "metadata": {},
   "source": [
    "## 树的实例:模拟文件系统"
   ]
  },
  {
   "cell_type": "markdown",
   "id": "b10629de-0fa7-4924-99a7-3bfa3f107850",
   "metadata": {},
   "source": [
    "链式存储"
   ]
  },
  {
   "cell_type": "code",
   "execution_count": 1,
   "id": "5de965c1-87c3-4152-a80d-83ca370b9ddf",
   "metadata": {},
   "outputs": [],
   "source": [
    "class Node:\n",
    "    def __init__(self, name, type='dir'):\n",
    "        self.name = name\n",
    "        self.type = type  #'dir' or 'file'\n",
    "        self.children = []\n",
    "        self.paent = None\n",
    "        # 链式存储\n",
    "        \n",
    "    def __repr__(self):\n",
    "        return self.name"
   ]
  },
  {
   "cell_type": "code",
   "execution_count": 2,
   "id": "0bea2912-cebd-4eaf-a859-8bc13fe88740",
   "metadata": {},
   "outputs": [],
   "source": [
    "class FileSystemTree:\n",
    "    def __init__(self):\n",
    "        self.root = Node('/')\n",
    "        self.now = self.root\n",
    "        \n",
    "    def mkdir(self, name): # 当前目录下创建一个目录\n",
    "        # name 以/结尾\n",
    "        if name[-1] != '/':\n",
    "            name += '/'\n",
    "        node = Node(name)\n",
    "        self.now.children.append(node)\n",
    "        node.parent = self.now \n",
    "        \n",
    "    def ls(self): # 展示当前目录下的所有目录\n",
    "        return self.now.children\n",
    "    \n",
    "    def cd(self, name): # 切换目录\n",
    "        # '相对路径下面一层'\n",
    "        # '../var/python/'\n",
    "        if name[-1] != '/':\n",
    "            name += '/'\n",
    "        if name =='../':\n",
    "            self.now = self.now.parent\n",
    "            return\n",
    "        for child in self.now.children:\n",
    "            if child.name == name:\n",
    "                self.now = child # 切换到下面一层\n",
    "                return \n",
    "        raise ValueError('invalid dir') # 否则才报错"
   ]
  },
  {
   "cell_type": "code",
   "execution_count": 3,
   "id": "ce430efd-4a1a-4e58-8151-92217434b647",
   "metadata": {},
   "outputs": [
    {
     "data": {
      "text/plain": [
       "[var/, bin/, usr/]"
      ]
     },
     "execution_count": 3,
     "metadata": {},
     "output_type": "execute_result"
    }
   ],
   "source": [
    "tree = FileSystemTree()\n",
    "tree.mkdir('var/')\n",
    "tree.mkdir('bin/')\n",
    "tree.mkdir('usr/')\n",
    "tree.root.children"
   ]
  },
  {
   "cell_type": "code",
   "execution_count": 4,
   "id": "8e66f890-0f92-4cf0-a9a9-32446575df2a",
   "metadata": {},
   "outputs": [
    {
     "data": {
      "text/plain": [
       "[var/, bin/, usr/]"
      ]
     },
     "execution_count": 4,
     "metadata": {},
     "output_type": "execute_result"
    }
   ],
   "source": [
    "tree.ls()"
   ]
  },
  {
   "cell_type": "code",
   "execution_count": 5,
   "id": "5a3fc483-cf43-4b1c-9c4f-4a528d559f3d",
   "metadata": {},
   "outputs": [],
   "source": [
    "tree.cd('bin/')\n",
    "tree.mkdir('python/')"
   ]
  },
  {
   "cell_type": "code",
   "execution_count": 6,
   "id": "aaff755e-e224-41d8-bacf-51ff116a4151",
   "metadata": {
    "tags": []
   },
   "outputs": [
    {
     "ename": "ValueError",
     "evalue": "invalid dir",
     "output_type": "error",
     "traceback": [
      "\u001b[1;31m---------------------------------------------------------------------------\u001b[0m",
      "\u001b[1;31mValueError\u001b[0m                                Traceback (most recent call last)",
      "\u001b[1;32m<ipython-input-6-adbb71f1aea1>\u001b[0m in \u001b[0;36m<module>\u001b[1;34m\u001b[0m\n\u001b[1;32m----> 1\u001b[1;33m \u001b[0mtree\u001b[0m\u001b[1;33m.\u001b[0m\u001b[0mcd\u001b[0m\u001b[1;33m(\u001b[0m\u001b[1;34m'bin/'\u001b[0m\u001b[1;33m)\u001b[0m\u001b[1;33m\u001b[0m\u001b[1;33m\u001b[0m\u001b[0m\n\u001b[0m",
      "\u001b[1;32m<ipython-input-2-c4c89469014d>\u001b[0m in \u001b[0;36mcd\u001b[1;34m(self, name)\u001b[0m\n\u001b[0;32m     27\u001b[0m                 \u001b[0mself\u001b[0m\u001b[1;33m.\u001b[0m\u001b[0mnow\u001b[0m \u001b[1;33m=\u001b[0m \u001b[0mchild\u001b[0m \u001b[1;31m# 切换到下面一层\u001b[0m\u001b[1;33m\u001b[0m\u001b[1;33m\u001b[0m\u001b[0m\n\u001b[0;32m     28\u001b[0m                 \u001b[1;32mreturn\u001b[0m\u001b[1;33m\u001b[0m\u001b[1;33m\u001b[0m\u001b[0m\n\u001b[1;32m---> 29\u001b[1;33m         \u001b[1;32mraise\u001b[0m \u001b[0mValueError\u001b[0m\u001b[1;33m(\u001b[0m\u001b[1;34m'invalid dir'\u001b[0m\u001b[1;33m)\u001b[0m \u001b[1;31m# 否则才报错\u001b[0m\u001b[1;33m\u001b[0m\u001b[1;33m\u001b[0m\u001b[0m\n\u001b[0m",
      "\u001b[1;31mValueError\u001b[0m: invalid dir"
     ]
    }
   ],
   "source": [
    "tree.cd('bin/')"
   ]
  },
  {
   "cell_type": "markdown",
   "id": "32b63260-3651-4e32-95fc-30343bfbcb1a",
   "metadata": {},
   "source": [
    "## 二叉树"
   ]
  },
  {
   "cell_type": "markdown",
   "id": "c4b42e4e-f04d-4b11-97e3-c6267e3aaedd",
   "metadata": {},
   "source": [
    "- 二叉树的链式存储:将二叉树的节点定义为一个对象,节点之间通过类似链表的链接方式来连接."
   ]
  },
  {
   "cell_type": "markdown",
   "id": "e53025f3-23b5-406b-a859-0298b7237c7b",
   "metadata": {},
   "source": [
    "- 节点定义:"
   ]
  },
  {
   "cell_type": "code",
   "execution_count": 7,
   "id": "b01832d7-df61-463e-91cf-112dd43eafe9",
   "metadata": {},
   "outputs": [],
   "source": [
    "class BiTreeNode:\n",
    "    def __init__(self, data):\n",
    "        self.data = data\n",
    "        self.lchild = None # 左孩子\n",
    "        self.rchild = None # 右孩子"
   ]
  },
  {
   "cell_type": "code",
   "execution_count": 16,
   "id": "e4a1eab5-d37c-4ee7-a000-69ca4cdec56f",
   "metadata": {},
   "outputs": [],
   "source": [
    "a = BiTreeNode('A')\n",
    "b = BiTreeNode('B')\n",
    "c = BiTreeNode('C')\n",
    "d = BiTreeNode('D')\n",
    "e = BiTreeNode('E')\n",
    "f = BiTreeNode('F')\n",
    "g = BiTreeNode('G')"
   ]
  },
  {
   "cell_type": "code",
   "execution_count": 17,
   "id": "d6b26f91-8d51-4d79-99c6-647da300d3ba",
   "metadata": {},
   "outputs": [],
   "source": [
    "e.lchild = a\n",
    "e.rchild = g\n",
    "a.rchild = c\n",
    "c.lchild = b\n",
    "c.rchild = d\n",
    "g.rchild = f"
   ]
  },
  {
   "cell_type": "code",
   "execution_count": 18,
   "id": "c32a6f93-6cbf-44f3-b374-5e63091c1f7b",
   "metadata": {},
   "outputs": [],
   "source": [
    "root = e"
   ]
  },
  {
   "cell_type": "code",
   "execution_count": 19,
   "id": "e13a5eab-a2ef-43e1-96b3-1f72322ef366",
   "metadata": {},
   "outputs": [
    {
     "data": {
      "text/plain": [
       "'C'"
      ]
     },
     "execution_count": 19,
     "metadata": {},
     "output_type": "execute_result"
    }
   ],
   "source": [
    "root.lchild.rchild.data"
   ]
  },
  {
   "cell_type": "markdown",
   "id": "a710f67a-d258-401a-a35c-aa0971efa3dc",
   "metadata": {},
   "source": [
    "### 二叉树的遍历 "
   ]
  },
  {
   "cell_type": "markdown",
   "id": "8846449e-0e69-40b9-ab29-cb35bdf15f62",
   "metadata": {},
   "source": [
    "<font color=red>此处插入截图<font>\n"
   ]
  },
  {
   "cell_type": "markdown",
   "id": "5ebf3cdf-93fb-4bee-8812-ea0f7b29520d",
   "metadata": {},
   "source": [
    "- 二叉树的遍历方式:\n",
    "    - 前序遍历:EACBDGF\n",
    "    - 中序遍历:ABCDEGF\n",
    "    - 后序遍历:BDCAFGE\n",
    "    - 层次遍历:EAGCFBD"
   ]
  },
  {
   "cell_type": "markdown",
   "id": "2f25ce0a-bf15-433c-8a67-6b8ea180627b",
   "metadata": {},
   "source": [
    "- 前序遍历"
   ]
  },
  {
   "cell_type": "code",
   "execution_count": 20,
   "id": "26accc27-8247-4b14-820a-1c7d3fb445c2",
   "metadata": {},
   "outputs": [],
   "source": [
    "def pre_order(root): #先左后右\n",
    "    if root:\n",
    "        print(root.data, end=',')\n",
    "        pre_order(root.lchild)\n",
    "        pre_order(root.rchild)"
   ]
  },
  {
   "cell_type": "code",
   "execution_count": 21,
   "id": "77fb44b1-f948-4c1b-8c23-f6a19fb5fbf7",
   "metadata": {},
   "outputs": [
    {
     "name": "stdout",
     "output_type": "stream",
     "text": [
      "E,A,C,B,D,G,F,"
     ]
    }
   ],
   "source": [
    "pre_order(root)"
   ]
  },
  {
   "cell_type": "markdown",
   "id": "ec261408-4383-4c9a-a25b-47f8971a4384",
   "metadata": {},
   "source": [
    "- 中序遍历"
   ]
  },
  {
   "cell_type": "code",
   "execution_count": 22,
   "id": "07b34ad9-5a6c-41f5-b3e4-3ffb03e7e188",
   "metadata": {},
   "outputs": [],
   "source": [
    "def in_order(root):\n",
    "    if root:\n",
    "        in_order(root.lchild)\n",
    "        print(root.data, end=',')\n",
    "        in_order(root.rchild)"
   ]
  },
  {
   "cell_type": "code",
   "execution_count": 23,
   "id": "011ee56a-4c97-41c2-bd44-762b472a4085",
   "metadata": {},
   "outputs": [
    {
     "name": "stdout",
     "output_type": "stream",
     "text": [
      "A,B,C,D,E,G,F,"
     ]
    }
   ],
   "source": [
    "in_order(root)"
   ]
  },
  {
   "cell_type": "markdown",
   "id": "bed7c716-4c0c-42aa-b0d6-e5cd8cfffe8e",
   "metadata": {},
   "source": [
    "- 后序遍历"
   ]
  },
  {
   "cell_type": "code",
   "execution_count": 24,
   "id": "03d3228d-e912-4910-bb68-536a84b5f678",
   "metadata": {},
   "outputs": [],
   "source": [
    "def post_order(root):\n",
    "    if root:\n",
    "        post_order(root.lchild)\n",
    "        post_order(root.rchild)\n",
    "        print(root.data, end=',')"
   ]
  },
  {
   "cell_type": "markdown",
   "id": "477af205-f831-4245-9745-7ac585a1f49a",
   "metadata": {},
   "source": [
    "- 给出前序遍历和中序遍历，分析出数的结构，并给出后序遍历的结果。<br>\n",
    "先根据前序遍历确定root，在根据中序遍历<b>确定左右子树</b>，再根据前序遍历确定左右子节点，不断反复分析，得出结果。"
   ]
  },
  {
   "cell_type": "markdown",
   "id": "736c2bd5-43ae-4af0-a336-dffffc29de90",
   "metadata": {},
   "source": [
    "- 层次遍历"
   ]
  },
  {
   "cell_type": "code",
   "execution_count": 25,
   "id": "d1c72627-21ee-4b88-a13f-fa09141b4a1a",
   "metadata": {},
   "outputs": [],
   "source": [
    "from collections import deque"
   ]
  },
  {
   "cell_type": "code",
   "execution_count": 26,
   "id": "af213d62-2496-4aa5-85f9-54f609674ad8",
   "metadata": {},
   "outputs": [],
   "source": [
    "def level_order(root):\n",
    "    queue = deque() # 创建队列\n",
    "    queue.append(root)\n",
    "    while len(queue) > 0: # 只要队不空\n",
    "        node = queue.popleft()\n",
    "        print(node.data, end=',')\n",
    "        if node.lchild:\n",
    "            queue.append(node.lchild)\n",
    "        if node.rchild:\n",
    "            queue.append(node.rchild)"
   ]
  },
  {
   "cell_type": "markdown",
   "id": "24681064-1cf6-4691-9c81-2fe7a2e2022d",
   "metadata": {},
   "source": [
    "### 二叉搜索树 "
   ]
  },
  {
   "cell_type": "markdown",
   "id": "e0e364f7-38e5-4cf5-b2e0-3ff36ec598d7",
   "metadata": {},
   "source": [
    "- 二叉搜索是一颗二叉树且满足性质：设x是二叉树的一个节点。如果y是x左子树的一个节点，那么y.key <= x.key；如果y是x右子树的一个节点，那么y.key >= x.key。\n",
    "- 二叉搜索树的操作：查询、插入、删除"
   ]
  },
  {
   "cell_type": "markdown",
   "id": "255b2fb7-28b7-4e99-bdaf-44ffdc9593de",
   "metadata": {},
   "source": [
    "### 二叉搜索树:插入"
   ]
  },
  {
   "cell_type": "code",
   "execution_count": 27,
   "id": "b98cea79-298d-4acc-b1d8-0264cfec47e7",
   "metadata": {},
   "outputs": [],
   "source": [
    "class BiTreeNode:\n",
    "    def __init__(self, data):\n",
    "        self.data = data\n",
    "        self.lchild = None # 左孩子\n",
    "        self.rchild = None # 右孩子\n",
    "        self.parent = None"
   ]
  },
  {
   "cell_type": "code",
   "execution_count": 28,
   "id": "5b706f3d-b84b-4510-905a-f941c87ac848",
   "metadata": {},
   "outputs": [],
   "source": [
    "class BST:\n",
    "    def __init__(self, li=None):\n",
    "        self.root = None\n",
    "        if li:\n",
    "            for val in li:\n",
    "                self.insert_no_rec(val)\n",
    "    \n",
    "    def insert(self, node, val): # 相同的元素不插入\n",
    "        if not node:\n",
    "            node = BiTreeNode(val)\n",
    "        elif val < node.data:\n",
    "            node.lchild = self.insert(node.lchild, val)\n",
    "            node.lchild.parent = node\n",
    "        elif val > node.data:\n",
    "            node.rchild = self.insert(node.rchild, val)\n",
    "            node.rchild.parent = node\n",
    "        return node\n",
    "    \n",
    "    def insert_no_rec(self, val):\n",
    "        p = self.root\n",
    "        if not p:   #空树\n",
    "            self.root = BiTreeNode(val)\n",
    "            return\n",
    "        while True:\n",
    "            if val < p.data:\n",
    "                if p.lchild:\n",
    "                    p = p.lchild # 往左子树走,继续循环\n",
    "                else:  #左孩子不存在\n",
    "                    p.lchild = BiTreeNode(val)\n",
    "                    p.lchild.parent = p\n",
    "                    return\n",
    "            elif val > p.data:\n",
    "                if p.rchild:\n",
    "                    p = p.rchild\n",
    "                else:\n",
    "                    p.rchild = BiTreeNode(val)\n",
    "                    p.rchild.parent = p\n",
    "                    return\n",
    "            else:\n",
    "                return\n",
    "    \n",
    "    def query(self, node, val):\n",
    "        if not node:\n",
    "            return None\n",
    "        if node.data < val:\n",
    "            return self.query(node.rchild, val)\n",
    "        elif node.data > val:\n",
    "            return self.query(node.lchild, val)\n",
    "        else:\n",
    "            return node\n",
    "        \n",
    "    def query_no_rec(self, val):\n",
    "        p = self.root\n",
    "        while p:\n",
    "            if p.data < val:\n",
    "                p = p.rchild\n",
    "            elif p.data > val:\n",
    "                p = p.lchild\n",
    "            else:\n",
    "                return p\n",
    "        return None\n",
    "    \n",
    "    def pre_order(self,root): #先左后右\n",
    "        if root:\n",
    "            print(self.root.data, end=',')\n",
    "            pre_order(self.root.lchild)\n",
    "            pre_order(self.root.rchild)\n",
    "            \n",
    "    def in_order(self,root): # 二叉树中中序序列一定是升序\n",
    "        if root:\n",
    "            in_order(self.root.lchild)\n",
    "            print(self.root.data, end=',')\n",
    "            in_order(self.root.rchild)\n",
    "            \n",
    "    def post_order(self,root):\n",
    "        if root:\n",
    "            post_order(self.root.lchild)\n",
    "            post_order(self.root.rchild)\n",
    "            print(self.root.data, end=',')\n",
    "            \n",
    "    def __remove_node_1(self, node): #情况1:node是叶子节点\n",
    "        if not node.parent:\n",
    "            self.root = None\n",
    "        if node == node.parent.lchild: #node是他父亲的左孩子\n",
    "            node.parent.lchild = None\n",
    "            node.parent = None\n",
    "        else: # 右孩子\n",
    "            node.parent.rchild = None\n",
    "    \n",
    "    def __remove_node_21(self, node): #情况2.1:node只有一个左孩子\n",
    "        if not node.parent: # 根节点\n",
    "            self.root = node.lchild\n",
    "            node.lchild.parent = None\n",
    "        elif node == node.parent.lchild:\n",
    "            node.parent.lchild = node.lchild\n",
    "            node.lchild.parent = node.parent\n",
    "        else:\n",
    "            node.parent.rchild = node.lchild\n",
    "            node.lchild.parent = node.parent\n",
    "    \n",
    "    def __remove_node_22(self, node): #情况2.2:node只有一个左孩子\n",
    "        if not node.parent:\n",
    "            self.root = node.rchild\n",
    "            node.rchild.parent = None\n",
    "        elif node == node.parent.lchild:\n",
    "            node.parent.lchild = node.rchild\n",
    "            node.rchild.parent = node.parent\n",
    "        else:\n",
    "            node.parent.rchild = node.rchild\n",
    "            node.rchild.parent = node.parent\n",
    "    \n",
    "    def delete(self, val):\n",
    "        if self.root: #不是空树\n",
    "            node = self.query_no_rec(val)\n",
    "            if not node: # 不存在\n",
    "                return False\n",
    "            if not node.lchild and not node.rchild: # 1. 叶子节点\n",
    "                self.__remove_node_1(node)\n",
    "            elif not node.rchild:  # 2.1 只有一个左孩子\n",
    "                self.__remove_node_21(node)\n",
    "            elif not node.lchild:   # 2.2 只有一个右孩子\n",
    "                self.__remove_node_22(node)\n",
    "            else:   # 3. 两个孩子都有\n",
    "                min_node = node.rchild # 找右子树最小的node\n",
    "                while min_node.lchild:\n",
    "                    min_node = min_node.lchild \n",
    "                node.data = min_node.data #把原来的替换为min_node\n",
    "                # 删除min_node\n",
    "                if min_node.rchild:\n",
    "                    self.__remove_node_22(min_node)\n",
    "                else:\n",
    "                    self.__remove_node_1(min_node)"
   ]
  },
  {
   "cell_type": "code",
   "execution_count": 29,
   "id": "97159993-e31f-4a49-817c-50ff019ef054",
   "metadata": {},
   "outputs": [
    {
     "name": "stdout",
     "output_type": "stream",
     "text": [
      "4,2,1,3,6,5,7,9,8,\n",
      "1,2,3,4,5,6,7,8,9,\n",
      "1,3,2,5,8,9,7,6,4,"
     ]
    }
   ],
   "source": [
    "tree = BST([4,6,7,9,2,1,3,5,8])\n",
    "tree.pre_order(tree.root)\n",
    "print('')\n",
    "tree.in_order(tree.root)\n",
    "print('')\n",
    "tree.post_order(tree.root)"
   ]
  },
  {
   "cell_type": "code",
   "execution_count": 30,
   "id": "c22a1269-8b8a-4a32-b1cd-c456e0a7dde1",
   "metadata": {},
   "outputs": [],
   "source": [
    "import random"
   ]
  },
  {
   "cell_type": "code",
   "execution_count": 31,
   "id": "f89150b1-bcf8-4a51-8fae-0dca0c97adec",
   "metadata": {},
   "outputs": [
    {
     "name": "stdout",
     "output_type": "stream",
     "text": [
      "0,1,2,3,4,5,6,7,8,9,10,11,12,13,14,15,16,17,18,19,20,21,22,23,24,25,26,27,28,29,30,31,32,33,34,35,36,37,38,39,40,41,42,43,44,45,46,47,48,49,50,51,52,53,54,55,56,57,58,59,60,61,62,63,64,65,66,67,68,69,70,71,72,73,74,75,76,77,78,79,80,81,82,83,84,85,86,87,88,89,90,91,92,93,94,95,96,97,98,99,100,101,102,103,104,105,106,107,108,109,110,111,112,113,114,115,116,117,118,119,120,121,122,123,124,125,126,127,128,129,130,131,132,133,134,135,136,137,138,139,140,141,142,143,144,145,146,147,148,149,150,151,152,153,154,155,156,157,158,159,160,161,162,163,164,165,166,167,168,169,170,171,172,173,174,175,176,177,178,179,180,181,182,183,184,185,186,187,188,189,190,191,192,193,194,195,196,197,198,199,200,201,202,203,204,205,206,207,208,209,210,211,212,213,214,215,216,217,218,219,220,221,222,223,224,225,226,227,228,229,230,231,232,233,234,235,236,237,238,239,240,241,242,243,244,245,246,247,248,249,250,251,252,253,254,255,256,257,258,259,260,261,262,263,264,265,266,267,268,269,270,271,272,273,274,275,276,277,278,279,280,281,282,283,284,285,286,287,288,289,290,291,292,293,294,295,296,297,298,299,300,301,302,303,304,305,306,307,308,309,310,311,312,313,314,315,316,317,318,319,320,321,322,323,324,325,326,327,328,329,330,331,332,333,334,335,336,337,338,339,340,341,342,343,344,345,346,347,348,349,350,351,352,353,354,355,356,357,358,359,360,361,362,363,364,365,366,367,368,369,370,371,372,373,374,375,376,377,378,379,380,381,382,383,384,385,386,387,388,389,390,391,392,393,394,395,396,397,398,399,400,401,402,403,404,405,406,407,408,409,410,411,412,413,414,415,416,417,418,419,420,421,422,423,424,425,426,427,428,429,430,431,432,433,434,435,436,437,438,439,440,441,442,443,444,445,446,447,448,449,450,451,452,453,454,455,456,457,458,459,460,461,462,463,464,465,466,467,468,469,470,471,472,473,474,475,476,477,478,479,480,481,482,483,484,485,486,487,488,489,490,491,492,493,494,495,496,497,498,499,"
     ]
    }
   ],
   "source": [
    "li = list(range(500))\n",
    "random.shuffle(li)\n",
    "tree = BST(li)\n",
    "tree.in_order(tree.root) # 二叉树中中序序列一定是升序"
   ]
  },
  {
   "cell_type": "markdown",
   "id": "0ce35f2e-9b5b-4d39-bafa-8aa4de796d91",
   "metadata": {},
   "source": [
    "### 二叉搜索树:查询 "
   ]
  },
  {
   "cell_type": "code",
   "execution_count": 32,
   "id": "d90fe7f6-618b-4328-bc9a-54faf46169e6",
   "metadata": {},
   "outputs": [
    {
     "data": {
      "text/plain": [
       "4"
      ]
     },
     "execution_count": 32,
     "metadata": {},
     "output_type": "execute_result"
    }
   ],
   "source": [
    "tree = BST(li)\n",
    "tree.query_no_rec(4).data"
   ]
  },
  {
   "cell_type": "code",
   "execution_count": 33,
   "id": "19723217-fd39-496c-b50d-8bcd46570286",
   "metadata": {},
   "outputs": [
    {
     "data": {
      "text/plain": [
       "3"
      ]
     },
     "execution_count": 33,
     "metadata": {},
     "output_type": "execute_result"
    }
   ],
   "source": [
    "tree.query_no_rec(3).data"
   ]
  },
  {
   "cell_type": "markdown",
   "id": "84c2705b-29b7-4f61-bf48-cd3726271036",
   "metadata": {},
   "source": [
    "### 二叉搜索树:删除 "
   ]
  },
  {
   "cell_type": "markdown",
   "id": "156db9f3-205a-47cc-be66-524a157474ca",
   "metadata": {},
   "source": [
    "- 1.如果要删除的节点是<b>叶子节点:直接删除</b>\n",
    "- 2.如果要删除的节点<b>只有一个孩子:将此节点的父亲与孩子连接,然后删除该节点.</b>\n",
    "- 3.如果要删除的节点有<b>两个孩子:将其右子树的最小节点(该节点最多有一个右孩子)删除,并替换当前节点.</b>"
   ]
  },
  {
   "cell_type": "code",
   "execution_count": 34,
   "id": "8fd35db1-56f3-4f72-9bb7-42f653d4dfca",
   "metadata": {},
   "outputs": [
    {
     "name": "stdout",
     "output_type": "stream",
     "text": [
      "1,2,3,4,5,6,7,8,9,\n",
      "2,3,5,6,7,8,9,"
     ]
    }
   ],
   "source": [
    "tree = BST([1,4,2,5,3,8,6,9,7])\n",
    "tree.in_order(tree.root)\n",
    "print('')\n",
    "\n",
    "tree.delete(4)\n",
    "tree.delete(1)\n",
    "tree.in_order(tree.root)"
   ]
  },
  {
   "cell_type": "markdown",
   "id": "e6a1c290-a7b6-4e39-9131-fab5141d90be",
   "metadata": {},
   "source": [
    "### 二叉搜索树的效率 "
   ]
  },
  {
   "cell_type": "markdown",
   "id": "8d9777bd-3bc4-423f-be7f-aa0c6b0f5f63",
   "metadata": {},
   "source": [
    "- 平均情况下,二叉搜索树进行搜索的时间复杂度为$O(lgn)$\n",
    "- 最坏情况下,二叉搜索树可能非常偏斜.\n",
    "- 解决方案:\n",
    "    - 随机化插入\n",
    "    - AVL树"
   ]
  },
  {
   "cell_type": "markdown",
   "id": "cc6a0888-8dc9-4462-b559-0521e5614aa5",
   "metadata": {},
   "source": [
    "# AVL树"
   ]
  },
  {
   "cell_type": "markdown",
   "id": "1f429907-1ee0-4bcf-acdf-b769b1ea6972",
   "metadata": {},
   "source": [
    "- AVL树:是一棵自平衡的二叉搜索树.\n",
    "- AVL树具有以下性质:\n",
    "    - 根的左右子树的高度之差的绝对值不能超过1\n",
    "    - 根的左右子树都是平衡二叉树"
   ]
  },
  {
   "cell_type": "markdown",
   "id": "f53491f4-81a7-43ec-be80-88f26ed84820",
   "metadata": {},
   "source": [
    "<font color=red>插入图片AVL树<font>"
   ]
  },
  {
   "cell_type": "markdown",
   "id": "6c192240-3932-4cfa-b31a-e07d611aa518",
   "metadata": {},
   "source": [
    "## AVL:旋转"
   ]
  },
  {
   "cell_type": "markdown",
   "id": "7c941677-1698-4546-aca5-28243758cca5",
   "metadata": {},
   "source": [
    "### AVL树--插入 "
   ]
  },
  {
   "cell_type": "markdown",
   "id": "bb7d5a9a-e666-4c43-abb7-7072f684ef0b",
   "metadata": {},
   "source": [
    "- 插入一个节点可能会破坏AVL树的平衡,可以通过<b>旋转</b>操作来进行修正.\n",
    "- 插入一个节点后,只有从插入节点到根节点的路径上的节点的平衡可能被改变.我们需要找出<b>第一个破坏了平衡条件的节点</b>,称之为K. K的两颗子树的高度差2.\n",
    "- 不平衡的出现可能有4种情况."
   ]
  },
  {
   "cell_type": "markdown",
   "id": "17d47674-52de-4fcd-a9ae-6bc683b925bf",
   "metadata": {},
   "source": [
    "#### 左旋 "
   ]
  },
  {
   "cell_type": "markdown",
   "id": "260f44c1-4c21-4f6e-9882-b4923f13a8df",
   "metadata": {},
   "source": [
    "- 不平衡是由于对K的右孩子的右子树插入导致的：左旋"
   ]
  },
  {
   "cell_type": "markdown",
   "id": "d3877785-bb3e-4e43-b269-53ae8021461e",
   "metadata": {},
   "source": [
    "<font color=red>插入图片左旋<font>"
   ]
  },
  {
   "cell_type": "markdown",
   "id": "a2e95363-a1ab-411e-8842-0486a095d846",
   "metadata": {},
   "source": [
    "#### 右旋 "
   ]
  },
  {
   "cell_type": "markdown",
   "id": "f15eb913-1cfe-4eb3-b814-7b2db9ae7123",
   "metadata": {},
   "source": [
    "- 不平衡是由于对K的左孩子的左子树插入导致的：右旋"
   ]
  },
  {
   "cell_type": "markdown",
   "id": "6914329d-a6e9-4d71-9bdb-8b7095d6489c",
   "metadata": {},
   "source": [
    "<font color=red>插入图片右旋<font>"
   ]
  },
  {
   "cell_type": "markdown",
   "id": "0d86eab5-1134-4088-8015-85ec322225b9",
   "metadata": {},
   "source": [
    "#### 右旋-左旋 "
   ]
  },
  {
   "cell_type": "markdown",
   "id": "0748a0d8-32f8-480b-92ad-b58c73a718b7",
   "metadata": {},
   "source": [
    "- 不平衡是由于对K的右孩子的左子树插入导致的：右旋-左旋"
   ]
  },
  {
   "cell_type": "markdown",
   "id": "57bb1fc2-48e5-4bb6-8b92-c615d13a3de2",
   "metadata": {},
   "source": [
    "<font color=red>插入右旋-左旋<font>"
   ]
  },
  {
   "cell_type": "markdown",
   "id": "918575fb-5db2-4300-b61d-a77613636d43",
   "metadata": {},
   "source": [
    "#### 左旋-右旋 "
   ]
  },
  {
   "cell_type": "markdown",
   "id": "3a6a62da-16f5-45b3-b257-d6d9cf9bca7e",
   "metadata": {},
   "source": [
    "- 不平衡是由于对K的左孩子的右子树插入导致的：左旋-右旋"
   ]
  },
  {
   "cell_type": "markdown",
   "id": "5e9d1b07-feae-4c17-baab-15982cb72789",
   "metadata": {},
   "source": [
    "<font color=red>插入左旋-右旋<font>"
   ]
  },
  {
   "cell_type": "code",
   "execution_count": 35,
   "id": "7675c66a-1075-4885-a3fc-4188e8c9418d",
   "metadata": {},
   "outputs": [],
   "source": [
    "class AVLNode(BiTreeNode):\n",
    "    def __init__(self):\n",
    "        BiTreeNode.__init__(self, data)\n",
    "        self.bf = 0  # balance_factor"
   ]
  },
  {
   "cell_type": "code",
   "execution_count": 47,
   "id": "cf2dd338-8ab3-4a84-b480-ea61618cbd48",
   "metadata": {},
   "outputs": [],
   "source": [
    "class AVLTree(BST):\n",
    "    def __init__(self, li=None):\n",
    "        BST.__init__(self, li)\n",
    "        \n",
    "        \n",
    "    def rotate_left(self, p, c): # 左旋，方法不适用于删除\n",
    "        s2 = c.lchild\n",
    "        p.rchild = s2\n",
    "        if s2:\n",
    "            s2.parent = p\n",
    "            \n",
    "        c.lchild = p\n",
    "        p.parent = c\n",
    "        # 更新balance factor\n",
    "        p.bf = 0\n",
    "        c.bf = 0\n",
    "        return c\n",
    "        \n",
    "    def rotate_right(self, p, c): # 右旋\n",
    "        s2 = r.rchild\n",
    "        p.lchild = s2\n",
    "        if s2:\n",
    "            s2.parent = p\n",
    "        \n",
    "        c.rchild = p\n",
    "        p.parent = c\n",
    "        \n",
    "        p.bf = 0\n",
    "        c.bf = 0\n",
    "        return c\n",
    "        \n",
    "    def rotate_right_left(self, p, c):\n",
    "        g= c.lchild\n",
    "        \n",
    "        s3 = g.rchild\n",
    "        c.lchild = s3\n",
    "        \n",
    "        if s3:\n",
    "            s3.parent = c\n",
    "        g.rchild = c\n",
    "        c.paent = g\n",
    "        \n",
    "        s2 = g.lchild\n",
    "        p.rchild = s2\n",
    "        if s2:\n",
    "            s2.parent = p\n",
    "        g.lchild = p\n",
    "        p.parent = g\n",
    "        \n",
    "        # 更新bf\n",
    "        if g.bf > 0:\n",
    "            p.bf = -1\n",
    "            c.bf = 0\n",
    "        elif g.bf < 0:\n",
    "            p.bf = 0\n",
    "            c.bf = 1\n",
    "        else: # 插入的是g\n",
    "            p.bf = 0\n",
    "            c.bf = 0\n",
    "        g.bf = 0\n",
    "        return g\n",
    "        \n",
    "    def rotate_left_right(self, p, c):\n",
    "        g = c.rchild\n",
    "        \n",
    "        s2 = g.lchild\n",
    "        c.rchild = s2\n",
    "        \n",
    "        if s2:\n",
    "            s2.parent = c\n",
    "        g.lchild = c\n",
    "        c.parent = g\n",
    "        \n",
    "        s3 = g.rchild\n",
    "        p.lchild = s3\n",
    "        if s3:\n",
    "            s3.parent = p\n",
    "        g.rchild = p\n",
    "        p.parent = g\n",
    "        \n",
    "        # 更新bf\n",
    "        if g.bf < 0:\n",
    "            p.bf = 1\n",
    "            c.bf = 0\n",
    "        elif g.bf > 0:\n",
    "            p.bf = 0\n",
    "            c.bf = -1\n",
    "        else:\n",
    "            p.bf = 0\n",
    "            c.bf = 0\n",
    "        g.bf = 0\n",
    "        return g\n",
    "            \n",
    "    def insert_no_rec(self, val):\n",
    "        # 1. 和BST一样，插入\n",
    "        p = self.root\n",
    "        if not p:\n",
    "            self.root = BiTreeNode(val)\n",
    "            return\n",
    "        while True:\n",
    "            if val < p.data:\n",
    "                if p.lchild:\n",
    "                    p = p.lchild\n",
    "                else: # 左孩子不存在\n",
    "                    p.lchild = BiTreeNode(val)\n",
    "                    p.lchild.paent = p\n",
    "                    node = p.lchild # node 存储的是插入的节点\n",
    "                    break \n",
    "            elif val > p.data:\n",
    "                if p.rchild:\n",
    "                    p = p.rchild\n",
    "                else:\n",
    "                    p.rchild = BiTreeNode(val)\n",
    "                    p.rchild.parent = p\n",
    "                    node = p.rchild\n",
    "                    break\n",
    "            else: # val == p.data\n",
    "                return\n",
    "            \n",
    "        # 2 更新balance factor\n",
    "        while node.parent: # node.paent不空\n",
    "            if node.parent.lchild == node: # 传递是从左子树来的。左子树更沉了\n",
    "                # 更新node.parent的bf -= 1\n",
    "                if node.parent.bf < 0: # 原来node.parent.bf == -1, 更新后变成-2\n",
    "                    # 做旋转\n",
    "                    # 看node哪边沉\n",
    "                    g = node.parent.parent # 为了连接旋转之后的子树\n",
    "                    x = node.parent # 旋转前子树的根\n",
    "                    if node.bf > 0:\n",
    "                        # 旋转之后子树新的根\n",
    "                        n = self.rotate_left_right(node.parent, node)\n",
    "                    else:\n",
    "                        n = self.rotate_right(node.parent, node)\n",
    "                    # 记得：把n和g连起来\n",
    "                elif node.parent.bf > 0: # 原来node.parent.bf = 1,更新之后变成0\n",
    "                    node.parent.bf = 0\n",
    "                    break\n",
    "                else: # 原来node.parent.bf = 0, 更新之后变成-1\n",
    "                    node.parent.bf = -1\n",
    "                    node = node.parent\n",
    "                    continue              \n",
    "            else: # 传递是从右子树来的，右子树更沉了\n",
    "                # 更新node.parent.bf += 1\n",
    "                if node.parent.bf > 0: # 原来node.parent.bf == 1,更新后变成2\n",
    "                    # 做旋转\n",
    "                    # 看node哪边沉\n",
    "                    g = node.parent.parent\n",
    "                    x = node.parent # 旋转前子树的根\n",
    "                    if node.bf < 0: # node.bf = -1\n",
    "                        n = self.rotate_right_left(node.parent, node)\n",
    "                    else: # node.bf = 1\n",
    "                        n = self.rotate_left(node.parent, node)\n",
    "                    # 记得连起来\n",
    "                elif node.parent.bf < 0: # 原来node.parent.bf == -1, 更新后变成0\n",
    "                    node.parent.bf = 0\n",
    "                    break\n",
    "                else:\n",
    "                    node.parent.bf = 1\n",
    "                    node = node.parent\n",
    "                    continue\n",
    "                \n",
    "            # 连接旋转后的子树\n",
    "            n.parent = g\n",
    "            if g: # g不是空\n",
    "                if x == g.lchild:\n",
    "                    g.lchild = n # node.parent\n",
    "                else:\n",
    "                    g.rchild = n\n",
    "                break\n",
    "            else:\n",
    "                self.root = n\n",
    "                break       "
   ]
  },
  {
   "cell_type": "code",
   "execution_count": 53,
   "id": "aa6ae8db-cbd1-48dd-adaf-510dd55d917a",
   "metadata": {},
   "outputs": [],
   "source": [
    "tree = AVLTree([10,8,7,6,5,4,3,2,1])"
   ]
  },
  {
   "cell_type": "code",
   "execution_count": 54,
   "id": "44e95573-0b69-403a-9869-96d03c48004f",
   "metadata": {},
   "outputs": [
    {
     "name": "stdout",
     "output_type": "stream",
     "text": [
      "10,8,7,6,5,4,3,2,1,\n",
      "1,2,3,4,5,6,7,8,10,"
     ]
    }
   ],
   "source": [
    "tree.pre_order(tree.root)\n",
    "print(\"\")\n",
    "tree.in_order(tree.root)"
   ]
  },
  {
   "cell_type": "markdown",
   "id": "db8829c3-9467-45a1-905a-685013dce066",
   "metadata": {},
   "source": [
    "## 二叉搜索树扩展应用--B树 "
   ]
  },
  {
   "cell_type": "markdown",
   "id": "649b708f-a32d-45e2-968d-0a7361a1c40b",
   "metadata": {},
   "source": [
    "- B树(B-Tree)：B树是一棵自平衡的多路搜索树。常用于数据库的索引。"
   ]
  },
  {
   "cell_type": "markdown",
   "id": "9c087ff8-82a1-4ce0-9822-84db1de0dec7",
   "metadata": {},
   "source": [
    "<font color=red>B树图片<font>"
   ]
  },
  {
   "cell_type": "code",
   "execution_count": null,
   "id": "6ffa6f5a-44bd-43c7-926d-b494c8170aa0",
   "metadata": {},
   "outputs": [],
   "source": []
  }
 ],
 "metadata": {
  "kernelspec": {
   "display_name": "Python 3",
   "language": "python",
   "name": "python3"
  },
  "language_info": {
   "codemirror_mode": {
    "name": "ipython",
    "version": 3
   },
   "file_extension": ".py",
   "mimetype": "text/x-python",
   "name": "python",
   "nbconvert_exporter": "python",
   "pygments_lexer": "ipython3",
   "version": "3.8.8"
  },
  "toc-autonumbering": true
 },
 "nbformat": 4,
 "nbformat_minor": 5
}
