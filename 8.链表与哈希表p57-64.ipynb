{
 "cells": [
  {
   "cell_type": "markdown",
   "id": "eb745e49-2164-4ce0-a5ae-667bf8550167",
   "metadata": {},
   "source": [
    "# 链表 "
   ]
  },
  {
   "cell_type": "markdown",
   "id": "7ad84f36-613e-4ba1-b6b2-7a2e3155fd15",
   "metadata": {},
   "source": [
    "## 链表介绍"
   ]
  },
  {
   "cell_type": "markdown",
   "id": "0c46582f-f07a-4ab6-8ac9-bb910eaf0278",
   "metadata": {},
   "source": [
    "- 链表是由一系列节点组成的元素集合。每个节点包含两部分，数据域item和指向下一个节点的指针next。通过节点之间的相互连接，最终串联成一个链表。"
   ]
  },
  {
   "cell_type": "code",
   "execution_count": 1,
   "id": "b28a57b4-1c38-4873-84ec-9d9249892e19",
   "metadata": {},
   "outputs": [],
   "source": [
    "class Node(object):\n",
    "    def __init__(self, item):\n",
    "        self.item = item\n",
    "        self.next = None"
   ]
  },
  {
   "cell_type": "code",
   "execution_count": 2,
   "id": "bc59d4f6-c283-40ec-9eb8-bc9f33e414f9",
   "metadata": {},
   "outputs": [],
   "source": [
    "a = Node(1)\n",
    "b = Node(2)\n",
    "c = Node(3)"
   ]
  },
  {
   "cell_type": "code",
   "execution_count": 3,
   "id": "05e9aef8-acb6-4c4b-86d9-1c3174c9da10",
   "metadata": {},
   "outputs": [],
   "source": [
    "a.next = b\n",
    "b.next = c"
   ]
  },
  {
   "cell_type": "code",
   "execution_count": 4,
   "id": "1a3c3b1b-63fd-4bae-b14c-1d722b9b6eaa",
   "metadata": {},
   "outputs": [
    {
     "name": "stdout",
     "output_type": "stream",
     "text": [
      "2\n",
      "3\n"
     ]
    }
   ],
   "source": [
    "print(a.next.item)\n",
    "print(a.next.next.item)"
   ]
  },
  {
   "cell_type": "markdown",
   "id": "c75585f6-148f-40ff-950b-1c4758b6c872",
   "metadata": {},
   "source": [
    "## 链表的创建和遍历"
   ]
  },
  {
   "cell_type": "markdown",
   "id": "7e0b5eec-1f57-4f46-8a99-4a375e71c5d1",
   "metadata": {},
   "source": [
    "- 头插法：存在一个链表，加入新元素a时，a.next = head<br>\n",
    "倒序"
   ]
  },
  {
   "cell_type": "markdown",
   "id": "b38761f8-fcdc-44ef-9723-ee9ded26f5d5",
   "metadata": {},
   "source": [
    "- 尾插法：存在一个链表，加入新元素a时，rear.next = a<br>\n",
    "顺序"
   ]
  },
  {
   "cell_type": "code",
   "execution_count": 17,
   "id": "47cf4848-cffa-418c-8b3f-60196ef491b8",
   "metadata": {},
   "outputs": [],
   "source": [
    "def create_linklist_head(li):\n",
    "    head = Node(li[0])\n",
    "    for element in li[1:]:\n",
    "        node = Node(element)\n",
    "        node.next = head\n",
    "        head = node\n",
    "    return head"
   ]
  },
  {
   "cell_type": "code",
   "execution_count": 18,
   "id": "2fd69fca-083d-4944-bd59-4844cc202419",
   "metadata": {},
   "outputs": [],
   "source": [
    "def create_linklist_tail(li):\n",
    "    head = Node(li[0])\n",
    "    tail = head\n",
    "    for element in li[1:]:\n",
    "        node = Node(element)\n",
    "        tail.next = node\n",
    "        tail = node\n",
    "    return head #只能从链表头开始找"
   ]
  },
  {
   "cell_type": "code",
   "execution_count": 12,
   "id": "c5b0def7-9e6b-4017-b05a-fddde5441118",
   "metadata": {},
   "outputs": [],
   "source": [
    "def print_linklist(lk):\n",
    "    while lk:\n",
    "        print(lk.item, end=',')\n",
    "        lk = lk.next"
   ]
  },
  {
   "cell_type": "code",
   "execution_count": 14,
   "id": "39153804-e451-4f95-a75e-b274deef3ef9",
   "metadata": {},
   "outputs": [
    {
     "name": "stdout",
     "output_type": "stream",
     "text": [
      "3,2,1,"
     ]
    }
   ],
   "source": [
    "lk = create_linklist_head([1,2,3])\n",
    "print_linklist(lk)"
   ]
  },
  {
   "cell_type": "code",
   "execution_count": 19,
   "id": "e89a6478-96a8-4bcb-b8e1-9368ec956f61",
   "metadata": {},
   "outputs": [
    {
     "name": "stdout",
     "output_type": "stream",
     "text": [
      "1,2,3,"
     ]
    }
   ],
   "source": [
    "lk = create_linklist_tail([1,2,3])\n",
    "print_linklist(lk)"
   ]
  },
  {
   "cell_type": "markdown",
   "id": "ff89230e-a0e4-4dcd-b319-0d0b7a92c424",
   "metadata": {},
   "source": [
    "## 链表节点的插入"
   ]
  },
  {
   "cell_type": "markdown",
   "id": "31d164d8-5268-48ff-bea1-0afd441384b6",
   "metadata": {},
   "source": [
    "- 先把后面的链连起来，再连前面的节点"
   ]
  },
  {
   "cell_type": "code",
   "execution_count": 24,
   "id": "1ddf0d93-f359-47b2-81f9-279650ee45b6",
   "metadata": {},
   "outputs": [],
   "source": [
    "lk = create_linklist_head([1,2,3])\n",
    "curNode = lk.next\n",
    "p = Node([5])"
   ]
  },
  {
   "cell_type": "code",
   "execution_count": 25,
   "id": "fe7ff81e-e32c-4b9b-b647-1a0d646b91d4",
   "metadata": {
    "tags": []
   },
   "outputs": [],
   "source": [
    "p.next = curNode.next   # 先把后面的节点连接上\n",
    "curNode.next = p    # 再连接前面的节点"
   ]
  },
  {
   "cell_type": "markdown",
   "id": "6a7b4c7f-d7ff-42f2-b8e0-aa9aefc8f7b3",
   "metadata": {},
   "source": [
    "## 链表节点的删除"
   ]
  },
  {
   "cell_type": "code",
   "execution_count": 26,
   "id": "9ce7b763-4d9a-4a57-a4cf-32a86588493e",
   "metadata": {},
   "outputs": [],
   "source": [
    "p = curNode.next\n",
    "curNode.next = curNode.next.next # 先连接上当前节点和删除后的下一个节点\n",
    "del p # 可以不写，已经不在链表中"
   ]
  },
  {
   "cell_type": "markdown",
   "id": "8085020a-fa51-4961-96ed-5225ff2c172b",
   "metadata": {},
   "source": [
    "## 双链表 "
   ]
  },
  {
   "cell_type": "markdown",
   "id": "97672d1c-5dd3-48f0-bdb3-849b62657136",
   "metadata": {},
   "source": [
    "链表只能从前往后找，不能从后往前找。"
   ]
  },
  {
   "cell_type": "markdown",
   "id": "91e12b64-eab3-41c2-b0fa-18f9b93b3893",
   "metadata": {},
   "source": [
    "- 双链表的每个节点都有两个指针：一个指向后一个节点，另一个指向前一个节点。\n",
    "- 如何建立双链表？"
   ]
  },
  {
   "cell_type": "code",
   "execution_count": 29,
   "id": "7232b75f-6723-43a4-b19d-64b0e8a75b33",
   "metadata": {},
   "outputs": [],
   "source": [
    "class Node(object):\n",
    "    def __init__(self, item = None):\n",
    "        self.item = item\n",
    "        self.next = None\n",
    "        self.prior = None"
   ]
  },
  {
   "cell_type": "markdown",
   "id": "2ccced39-2b39-474c-ac4d-0f9299eec5c4",
   "metadata": {},
   "source": [
    "### 双链表节点的插入 "
   ]
  },
  {
   "cell_type": "code",
   "execution_count": 30,
   "id": "2afc3ee1-c456-463f-9689-f07e34e6115a",
   "metadata": {
    "collapsed": true,
    "jupyter": {
     "outputs_hidden": true
    },
    "tags": []
   },
   "outputs": [
    {
     "ename": "NameError",
     "evalue": "name 'p' is not defined",
     "output_type": "error",
     "traceback": [
      "\u001b[1;31m---------------------------------------------------------------------------\u001b[0m",
      "\u001b[1;31mNameError\u001b[0m                                 Traceback (most recent call last)",
      "\u001b[1;32m<ipython-input-30-b63584ecf426>\u001b[0m in \u001b[0;36m<module>\u001b[1;34m\u001b[0m\n\u001b[1;32m----> 1\u001b[1;33m \u001b[0mp\u001b[0m\u001b[1;33m.\u001b[0m\u001b[0mnext\u001b[0m \u001b[1;33m=\u001b[0m \u001b[0mcurNode\u001b[0m\u001b[1;33m.\u001b[0m\u001b[0mnext\u001b[0m\u001b[1;33m\u001b[0m\u001b[1;33m\u001b[0m\u001b[0m\n\u001b[0m\u001b[0;32m      2\u001b[0m \u001b[0mcurNode\u001b[0m\u001b[1;33m.\u001b[0m\u001b[0mnext\u001b[0m\u001b[1;33m.\u001b[0m\u001b[0mprior\u001b[0m \u001b[1;33m=\u001b[0m \u001b[0mp\u001b[0m\u001b[1;33m\u001b[0m\u001b[1;33m\u001b[0m\u001b[0m\n\u001b[0;32m      3\u001b[0m \u001b[0mp\u001b[0m\u001b[1;33m.\u001b[0m\u001b[0mprior\u001b[0m \u001b[1;33m=\u001b[0m \u001b[0mcurNode\u001b[0m\u001b[1;33m\u001b[0m\u001b[1;33m\u001b[0m\u001b[0m\n\u001b[0;32m      4\u001b[0m \u001b[0mcurNode\u001b[0m\u001b[1;33m.\u001b[0m\u001b[0mnext\u001b[0m \u001b[1;33m=\u001b[0m \u001b[0mp\u001b[0m\u001b[1;33m\u001b[0m\u001b[1;33m\u001b[0m\u001b[0m\n",
      "\u001b[1;31mNameError\u001b[0m: name 'p' is not defined"
     ]
    }
   ],
   "source": [
    "p.next = curNode.next\n",
    "curNode.next.prior = p\n",
    "p.prior = curNode\n",
    "curNode.next = p"
   ]
  },
  {
   "cell_type": "markdown",
   "id": "e30c756b-8cba-47de-8259-57c5acb969f8",
   "metadata": {},
   "source": [
    "### 双链表节点的删除 "
   ]
  },
  {
   "cell_type": "code",
   "execution_count": null,
   "id": "6efc6202-0c71-4a5b-9a02-6750c27caccc",
   "metadata": {},
   "outputs": [],
   "source": [
    "p = curNode.next # 要删除的对象\n",
    "curNode.next = p.next #将前一个节点连接上后一个节点\n",
    "p.next.prior = curNode #将后一个节点连接上前一个节点\n",
    "del p"
   ]
  },
  {
   "cell_type": "markdown",
   "id": "f84c122d-16b3-4d37-ac52-5da373a9cb04",
   "metadata": {},
   "source": [
    "## 链表总结 "
   ]
  },
  {
   "cell_type": "markdown",
   "id": "be3915b1-2652-4f66-8481-b3c37b598544",
   "metadata": {},
   "source": [
    "### 复杂度分析 "
   ]
  },
  {
   "cell_type": "markdown",
   "id": "fe55b19d-1b8d-41d8-90be-8618db2459c2",
   "metadata": {},
   "source": [
    "- 顺序表（列表/数组）与链表\n",
    "    - 按元素值查找：都是 O(n)\n",
    "    - 按下标查找：顺序表O(1)， 链表O(n)\n",
    "    - 在某元素后插入：顺序表O(n)，链表O(1)\n",
    "    - 删除某元素：顺序表O(n)，链表O(1)"
   ]
  },
  {
   "cell_type": "markdown",
   "id": "e34148a6-3a61-40c0-8a80-be8a6f634447",
   "metadata": {},
   "source": [
    "### 链表与顺序表"
   ]
  },
  {
   "cell_type": "markdown",
   "id": "30718301-f72d-463d-bc21-2ba150132b73",
   "metadata": {},
   "source": [
    "- 链表在插入和删除的操作上明显快于顺序表\n",
    "- 链表的内存可以更灵活的分配（队列满了就无法扩充）\n",
    "    - 试利用链表重新实现栈和队列\n",
    "- 链表这种链式存储的数据结构对树和图的结构有很大的启发性"
   ]
  },
  {
   "cell_type": "markdown",
   "id": "11018a5d-a4da-4092-81d5-2cdbfea9d948",
   "metadata": {},
   "source": [
    "# 哈希表"
   ]
  },
  {
   "cell_type": "markdown",
   "id": "9f2e35e3-06c9-46d8-926a-59a1b6ec53ff",
   "metadata": {},
   "source": [
    "- 哈希表一个通过哈希函数来计算数据存储位置的数据结构，通常支持如下操作：\n",
    "    - insert(key, value)：插入键值对(key, value)\n",
    "    - get(key)：如果存在键为key的键值对则返回其value，否则返回空值\n",
    "    - delete(key)：删除键为key的键值对"
   ]
  },
  {
   "cell_type": "markdown",
   "id": "5877e8d6-398e-4b63-b6d1-ea6c761f7818",
   "metadata": {},
   "source": [
    "## 直接寻址表"
   ]
  },
  {
   "cell_type": "markdown",
   "id": "9c78f8f6-ac3a-4f4c-8a34-2691cb7db1ad",
   "metadata": {},
   "source": [
    "- 当<b>关键字(key)</b>的全域U比较小时，直接寻址是一种简单而有效的方法。"
   ]
  },
  {
   "cell_type": "markdown",
   "id": "36a0e557-7474-4594-b1bf-250ed9bb72c9",
   "metadata": {},
   "source": [
    "<b>缺点：</b>\n",
    "- 当域U很大时，需要消耗大量内存，很不实际\n",
    "- 如果域U很大而实际出现的key很少，则大量空间被浪费\n",
    "- 无法处理<b>关键字不是数字</b>的情况"
   ]
  },
  {
   "cell_type": "markdown",
   "id": "e2dd7b1a-cf27-4b75-8b0a-d0173412acd8",
   "metadata": {},
   "source": [
    "## 哈希表 = 直接寻址表 + 哈希 "
   ]
  },
  {
   "cell_type": "markdown",
   "id": "b9b803f4-1abc-476f-849e-1f03834a5860",
   "metadata": {},
   "source": [
    "- 直接寻址标：key为k的元素放到k位置上\n",
    "- 改进直接寻址表：哈希(Hashing)\n",
    "    - 构建大小为m的寻址表T\n",
    "    - key为k的元素放到h(k)位置上\n",
    "    - <b>h(k)</b>是一个函数，其将域U映射到表T[0,1,...,m-1]"
   ]
  },
  {
   "cell_type": "markdown",
   "id": "00338cad-1719-4156-8070-86e5232114ae",
   "metadata": {},
   "source": [
    "- 哈希表(Hash Table，又称为散列表)，是一种线性表的存储结构。哈希表由一个<b>直接寻址表</b>和一个<b>哈希函数</b>组成。哈希函数h(k)将元素关键字k作为自变量，返回元素的存储下标。\n",
    "- 假设有一个长度为7的哈希表，哈希函数 $h(k)=k \\% 7$ 。元素集合{14,22,3,5}的存储方式如下图。"
   ]
  },
  {
   "cell_type": "markdown",
   "id": "4355bef1-8f19-46ee-b857-490627c6662d",
   "metadata": {},
   "source": [
    "### 哈希冲突 "
   ]
  },
  {
   "cell_type": "markdown",
   "id": "bf8d5ba1-33de-45a9-8739-dd0ee1726c6f",
   "metadata": {},
   "source": [
    "- 由于哈希表的大小是有限的，而要存储的值的总数量是无限的，因此对于任何哈希函数，都会出现两个不同元素映射到同一个位置上的情况，这种情况叫做哈希冲突。\n",
    "- 比如$h(k)=k\\%7, h(0)=h(7)=h(14)=...$"
   ]
  },
  {
   "cell_type": "markdown",
   "id": "7bd4abf0-7063-4558-8fb0-22e3179ebc91",
   "metadata": {},
   "source": [
    "### 解决1：开放寻址法"
   ]
  },
  {
   "cell_type": "markdown",
   "id": "508a6437-ba51-4574-a7a1-5524fc349cef",
   "metadata": {},
   "source": [
    "- 开放寻址法：如果哈希函数返回的位置已经有值，则可以向后探查新的位置来存储这个值。\n",
    "    - 线性探查：如果位置i被占用，则探查i+1,i+2,...<br>\n",
    "        查找的时候先通过哈希函数h(k)查找,找不到往后探查,直到找到或者发现空位为止,因为发现空位但没找到说明没有这个数.\n",
    "    - 二次探查：如果位置i被占用，则探查$i+1^2,i-1^2,i+2^2,i-2^2,...$\n",
    "    - 二度哈希：有n个哈希函数，当使用第1个哈希函数h1发生冲突时，则尝试使用h2,h3,..."
   ]
  },
  {
   "cell_type": "markdown",
   "id": "b5207296-8ac8-4dd2-a8cc-eb5af6ce1012",
   "metadata": {},
   "source": [
    "### <b>解决2：拉链法</b>"
   ]
  },
  {
   "cell_type": "markdown",
   "id": "769ebbd6-cb90-4034-abe0-c57ea7a4732a",
   "metadata": {},
   "source": [
    "- 拉链法：哈希表每个位置都连接一个链表，当冲突发生时，冲突的元素将被加到该位置链表的最后。"
   ]
  },
  {
   "cell_type": "markdown",
   "id": "c327392a-a0ba-4573-a9ef-40beefada81b",
   "metadata": {},
   "source": [
    "### 常见哈希函数"
   ]
  },
  {
   "cell_type": "markdown",
   "id": "3acf952f-9ad6-43cc-b27f-2e84679fdfad",
   "metadata": {},
   "source": [
    "- 除法哈希法：\n",
    "    - $h(k)=k \\% m$\n",
    "- 乘法哈希法：\n",
    "    - $h(k) = floor(m*A*(key\\%1))$\n",
    "- 全域哈希法：\n",
    "    - $h_{a,b}(k) = ((a*key+b) mod p) mod m ;a, b = 1,2,...,p-1$"
   ]
  },
  {
   "cell_type": "markdown",
   "id": "d7579c96-9414-4140-a551-0b95ccf4e4aa",
   "metadata": {},
   "source": [
    "## 哈希表实现"
   ]
  },
  {
   "cell_type": "code",
   "execution_count": 1,
   "id": "e5793399-b82d-4454-a17d-3b4de043aa2a",
   "metadata": {},
   "outputs": [],
   "source": [
    "class LinkList:\n",
    "    class Node:\n",
    "        def __init__(self, item = None):\n",
    "            self.item = item\n",
    "            self.next = None\n",
    "    \n",
    "    class LinkListIterator:\n",
    "        def __init__(self, node):\n",
    "            self.node = node\n",
    "        def __next__(self):\n",
    "            if self.node: # 如果node非空,更新node为下一个节点\n",
    "                cur_node = self.node \n",
    "                self.node = cur_node.next \n",
    "                return cur_node.item\n",
    "            else:\n",
    "                raise StopIteration\n",
    "            \n",
    "        def __iter__(self):\n",
    "            return self\n",
    "        \n",
    "    def __init__(self, iterable = None):\n",
    "        self.head = None\n",
    "        self.tail = None\n",
    "        if iterable:\n",
    "            self.extend(iterable)\n",
    "        \n",
    "    def append(self, obj):\n",
    "        s = LinkList.Node(obj) # 新建节点\n",
    "        if not self.head: # 如果head为空\n",
    "            self.head = s # 将s赋为头节点\n",
    "            self.tail = s # 将s赋为尾节点\n",
    "        else:\n",
    "            self.tail.next = s #如果head不为空,将s赋为next节点\n",
    "            self.tail = s # 更新尾节点\n",
    "\n",
    "    def extend(self, iterable):\n",
    "        for obj in iterable:\n",
    "            self.append(obj)\n",
    "\n",
    "    def find(self, obj):\n",
    "        for n in self:\n",
    "            if n == obj:\n",
    "                return True\n",
    "        else:\n",
    "            return False\n",
    "\n",
    "    def __iter__(self):\n",
    "        return self.LinkListIterator(self.head)\n",
    "\n",
    "    def __repr__(self): # 转化为字符串\n",
    "        return '<<'+','.join(map(str, self))+'>>' # map将int转为str"
   ]
  },
  {
   "cell_type": "code",
   "execution_count": 2,
   "id": "5a018982-029a-46c1-97d9-217d88d008bc",
   "metadata": {},
   "outputs": [],
   "source": [
    "lk = LinkList([1,2,3,4,5])"
   ]
  },
  {
   "cell_type": "code",
   "execution_count": 3,
   "id": "36593cc0-e8c0-4103-a95b-284b4deea566",
   "metadata": {},
   "outputs": [
    {
     "name": "stdout",
     "output_type": "stream",
     "text": [
      "1\n",
      "2\n",
      "3\n",
      "4\n",
      "5\n"
     ]
    }
   ],
   "source": [
    "for element in lk:\n",
    "    print(element)"
   ]
  },
  {
   "cell_type": "code",
   "execution_count": 5,
   "id": "18f9a8da-e674-46db-bb08-8fac83d2e106",
   "metadata": {},
   "outputs": [
    {
     "name": "stdout",
     "output_type": "stream",
     "text": [
      "<<1,2,3,4,5>>\n"
     ]
    }
   ],
   "source": [
    "print(lk)"
   ]
  },
  {
   "cell_type": "code",
   "execution_count": 13,
   "id": "09f1a319-640f-472d-af5b-8637372a86af",
   "metadata": {},
   "outputs": [],
   "source": [
    "# 类似于集合的结构\n",
    "class HashTable:\n",
    "    def __init__(self, size = 101):\n",
    "        self.size = size\n",
    "        self.T = [LinkList() for i in range(self.size)]\n",
    "    \n",
    "    def h(self, k): # 哈希函数\n",
    "        return k % self.size\n",
    "    \n",
    "    def insert(self, k):\n",
    "        i = self.h(k) # 返回哈希值\n",
    "        if self.find(k):\n",
    "            print('Duplicated Insert.')\n",
    "        else:\n",
    "            self.T[i].append(k)        \n",
    "    \n",
    "    def find(self, k):\n",
    "        i = self.h(k) # 先定位属于T里面哪个位置\n",
    "        return self.T[i].find(k) # 在指定位置的集合里面find"
   ]
  },
  {
   "cell_type": "code",
   "execution_count": 14,
   "id": "2d811caf-75fe-49d3-8b55-4df0700d12f7",
   "metadata": {},
   "outputs": [],
   "source": [
    "ht = HashTable()"
   ]
  },
  {
   "cell_type": "code",
   "execution_count": 15,
   "id": "34c60d4f-29c6-46a2-8f0c-80a25d5264cf",
   "metadata": {},
   "outputs": [],
   "source": [
    "ht.insert(0)\n",
    "ht.insert(1)"
   ]
  },
  {
   "cell_type": "code",
   "execution_count": 16,
   "id": "1b94a93b-9470-4ba6-ae37-f9c0d80c4c50",
   "metadata": {},
   "outputs": [
    {
     "name": "stdout",
     "output_type": "stream",
     "text": [
      "Duplicated Insert.\n"
     ]
    }
   ],
   "source": [
    "ht.insert(0)"
   ]
  },
  {
   "cell_type": "code",
   "execution_count": 17,
   "id": "55a58fba-c09d-4d07-9c79-d3837070a99d",
   "metadata": {},
   "outputs": [
    {
     "data": {
      "text/plain": [
       "'<<0>>,<<1>>,<<>>,<<>>,<<>>,<<>>,<<>>,<<>>,<<>>,<<>>,<<>>,<<>>,<<>>,<<>>,<<>>,<<>>,<<>>,<<>>,<<>>,<<>>,<<>>,<<>>,<<>>,<<>>,<<>>,<<>>,<<>>,<<>>,<<>>,<<>>,<<>>,<<>>,<<>>,<<>>,<<>>,<<>>,<<>>,<<>>,<<>>,<<>>,<<>>,<<>>,<<>>,<<>>,<<>>,<<>>,<<>>,<<>>,<<>>,<<>>,<<>>,<<>>,<<>>,<<>>,<<>>,<<>>,<<>>,<<>>,<<>>,<<>>,<<>>,<<>>,<<>>,<<>>,<<>>,<<>>,<<>>,<<>>,<<>>,<<>>,<<>>,<<>>,<<>>,<<>>,<<>>,<<>>,<<>>,<<>>,<<>>,<<>>,<<>>,<<>>,<<>>,<<>>,<<>>,<<>>,<<>>,<<>>,<<>>,<<>>,<<>>,<<>>,<<>>,<<>>,<<>>,<<>>,<<>>,<<>>,<<>>,<<>>,<<>>'"
      ]
     },
     "execution_count": 17,
     "metadata": {},
     "output_type": "execute_result"
    }
   ],
   "source": [
    "\",\".join(map(str,ht.T))"
   ]
  },
  {
   "cell_type": "code",
   "execution_count": 18,
   "id": "08a49a23-014d-40c2-8f36-3956fa898012",
   "metadata": {},
   "outputs": [],
   "source": [
    "ht.insert(3)\n",
    "ht.insert(102)"
   ]
  },
  {
   "cell_type": "code",
   "execution_count": 19,
   "id": "cbc7441f-10cf-440d-aa9d-2f9b050fbdfa",
   "metadata": {},
   "outputs": [
    {
     "data": {
      "text/plain": [
       "'<<0>>,<<1,102>>,<<>>,<<3>>,<<>>,<<>>,<<>>,<<>>,<<>>,<<>>,<<>>,<<>>,<<>>,<<>>,<<>>,<<>>,<<>>,<<>>,<<>>,<<>>,<<>>,<<>>,<<>>,<<>>,<<>>,<<>>,<<>>,<<>>,<<>>,<<>>,<<>>,<<>>,<<>>,<<>>,<<>>,<<>>,<<>>,<<>>,<<>>,<<>>,<<>>,<<>>,<<>>,<<>>,<<>>,<<>>,<<>>,<<>>,<<>>,<<>>,<<>>,<<>>,<<>>,<<>>,<<>>,<<>>,<<>>,<<>>,<<>>,<<>>,<<>>,<<>>,<<>>,<<>>,<<>>,<<>>,<<>>,<<>>,<<>>,<<>>,<<>>,<<>>,<<>>,<<>>,<<>>,<<>>,<<>>,<<>>,<<>>,<<>>,<<>>,<<>>,<<>>,<<>>,<<>>,<<>>,<<>>,<<>>,<<>>,<<>>,<<>>,<<>>,<<>>,<<>>,<<>>,<<>>,<<>>,<<>>,<<>>,<<>>,<<>>'"
      ]
     },
     "execution_count": 19,
     "metadata": {},
     "output_type": "execute_result"
    }
   ],
   "source": [
    "\",\".join(map(str,ht.T)) #哈希表长度为100,因此102和1在同一个位置"
   ]
  },
  {
   "cell_type": "code",
   "execution_count": 20,
   "id": "a9a9687b-6686-489a-84b8-7be9b1317f87",
   "metadata": {},
   "outputs": [
    {
     "data": {
      "text/plain": [
       "'<<0>>,<<1,102>>,<<>>,<<3,508>>,<<>>,<<>>,<<>>,<<>>,<<>>,<<>>,<<>>,<<>>,<<>>,<<>>,<<>>,<<>>,<<>>,<<>>,<<>>,<<>>,<<>>,<<>>,<<>>,<<>>,<<>>,<<>>,<<>>,<<>>,<<>>,<<>>,<<>>,<<>>,<<>>,<<>>,<<>>,<<>>,<<>>,<<>>,<<>>,<<>>,<<>>,<<>>,<<>>,<<>>,<<>>,<<>>,<<>>,<<>>,<<>>,<<>>,<<>>,<<>>,<<>>,<<>>,<<>>,<<>>,<<>>,<<>>,<<>>,<<>>,<<>>,<<>>,<<>>,<<>>,<<>>,<<>>,<<>>,<<>>,<<>>,<<>>,<<>>,<<>>,<<>>,<<>>,<<>>,<<>>,<<>>,<<>>,<<>>,<<>>,<<>>,<<>>,<<>>,<<>>,<<>>,<<>>,<<>>,<<>>,<<>>,<<>>,<<>>,<<>>,<<>>,<<>>,<<>>,<<>>,<<>>,<<>>,<<>>,<<>>,<<>>'"
      ]
     },
     "execution_count": 20,
     "metadata": {},
     "output_type": "execute_result"
    }
   ],
   "source": [
    "ht.insert(508)\n",
    "','.join(map(str, ht.T))"
   ]
  },
  {
   "cell_type": "code",
   "execution_count": 21,
   "id": "60780fca-4570-47b0-873b-f755702120d5",
   "metadata": {},
   "outputs": [
    {
     "data": {
      "text/plain": [
       "False"
      ]
     },
     "execution_count": 21,
     "metadata": {},
     "output_type": "execute_result"
    }
   ],
   "source": [
    "ht.find(4)"
   ]
  },
  {
   "cell_type": "code",
   "execution_count": 22,
   "id": "13caff6e-f7ef-40e6-a66e-42fd3228401e",
   "metadata": {},
   "outputs": [
    {
     "data": {
      "text/plain": [
       "True"
      ]
     },
     "execution_count": 22,
     "metadata": {},
     "output_type": "execute_result"
    }
   ],
   "source": [
    "ht.find(102)"
   ]
  },
  {
   "cell_type": "markdown",
   "id": "920560e4-c9e3-4cdb-8c55-b2ce37da9f77",
   "metadata": {},
   "source": [
    "## 哈希表的应用"
   ]
  },
  {
   "cell_type": "markdown",
   "id": "13c4fffc-67c6-45a6-b40f-9a545a2dcc35",
   "metadata": {},
   "source": [
    "### 集合与字典 "
   ]
  },
  {
   "cell_type": "markdown",
   "id": "966ba871-85cd-4273-93a8-4cce541b45ee",
   "metadata": {},
   "source": [
    "- 字典与集合都是通过哈希表来实现的.\n",
    "    - a = {'name':'Alex','age':18,'gender':'Man'}\n",
    "- 使用哈希表存储字典,通过哈希函数将字典的键映射为下标.假设h('name') = 3, h('age') = 1, h('gender') = 4, 则哈希表存储为[None, 18, None, 'Alex', 'Man']\n",
    "- 如果发生哈希冲突,则通过拉链法或者开发寻址法解决"
   ]
  },
  {
   "cell_type": "markdown",
   "id": "9f35e947-1811-418b-bbc6-a927ee2a5d39",
   "metadata": {},
   "source": [
    "### md5算法 "
   ]
  },
  {
   "cell_type": "markdown",
   "id": "6e5c8063-9d25-443f-86f9-eebc00b48655",
   "metadata": {},
   "source": [
    "- MD5(Message-Digest Algorithm 5)<b>曾经</b>是密码学中常用的哈希函数,可以把任意长度的数据映射为<b>128位</b>的哈希值,其曾经包含如下特征:\n",
    "    - 1. 同样的消息,其MD5值必定相同;\n",
    "    - 2. 可以快速计算出任意给定消息的MD5值;\n",
    "    - 3. 除非暴力的枚举所有可能的消息,否则不可能从哈希值反推出消息本身;\n",
    "    - 4. 两条消息之间即使只有微小的差别,其对应的MD5值也应该是完全不同、完全不相关的;\n",
    "    - 5. 不能再有意义的时间内人工的构造两个不同的消息 使其具有相同的MD5值。"
   ]
  },
  {
   "cell_type": "markdown",
   "id": "8b8bcca9-7d4d-41bf-a6b4-8a34046f2aef",
   "metadata": {},
   "source": [
    "md5算法主要用于判断文件，如果两个文件的md5值一样，则大概率是一样的文件。为什么不能说完全一样？因为有哈希值就表示有哈希冲突。"
   ]
  },
  {
   "cell_type": "markdown",
   "id": "064bdc54-5d36-4c0e-a2af-2fd636987185",
   "metadata": {},
   "source": [
    "目前md5已被破解，如果不太注重安全性可用md5算法。"
   ]
  },
  {
   "cell_type": "markdown",
   "id": "15e3e9c2-223f-4cd6-b5d9-dc82562ccc42",
   "metadata": {},
   "source": [
    "- 应用举例：文件的哈希值\n",
    "    - 算出文件的哈希值，若两个文件的哈希值相同，则可认为这两个文件是相同的。因此：\n",
    "        - 1. 用户可以利用它来验证下载的文件是否完整。\n",
    "        - 2. 云存储服务商可以利用它来判断用户要上传的文件 是否已经存在于服务器上，从而实现秒传的功能，同时避免存储过多相同的文件副本。"
   ]
  },
  {
   "cell_type": "markdown",
   "id": "c1e87737-7fee-4f0b-a871-202397692dd1",
   "metadata": {},
   "source": [
    "### <b>SHA2算法</b> "
   ]
  },
  {
   "cell_type": "markdown",
   "id": "243ce890-88a3-485c-8edc-06d173d5f183",
   "metadata": {},
   "source": [
    "- 历史上MD5和SHA-1曾经是使用最为广泛的cryptographic hash function,但是随着密码学的发展,这两个哈希函数的安全性相继受到了各种挑战.\n",
    "- 因此现在安全性较重要的场合推荐使用SHA-2等新的<b>更安全</b>的哈希函数.\n",
    "- SHA-2包含了一系列的哈希函数:SHA-224,SHA-384,SHA-512,SHA-512/224,SHA-512/256,其对应的哈希值长度分别为224,256,384 or 512位.\n",
    "- SHA-2具有和MD5类似的性质(参见MD5算法的特征)."
   ]
  },
  {
   "cell_type": "markdown",
   "id": "e3ecc6c1-9190-4970-b706-d3149a7cbc46",
   "metadata": {},
   "source": [
    "- 应用举例:\n",
    "- 例如,在比特币系统中,所有参与者需要共同解决如下问题:<b>对于一个给定的字符串U,给定的目标哈希值H,需要计算出一个字符串V,使得U+V的哈希值与H的差小于一个给定值D</b>.此时,只能通过暴力枚举V来进行猜测.首先计算出结果的人可获得一定奖金.而某人首先计算成功的概率与其拥有的计算量成正比,所以其获得的奖金的期望值与其拥有的计算量成正比."
   ]
  },
  {
   "cell_type": "code",
   "execution_count": null,
   "id": "8003505d-00fd-40e2-9409-7e50e756b796",
   "metadata": {},
   "outputs": [],
   "source": []
  }
 ],
 "metadata": {
  "kernelspec": {
   "display_name": "Python 3",
   "language": "python",
   "name": "python3"
  },
  "language_info": {
   "codemirror_mode": {
    "name": "ipython",
    "version": 3
   },
   "file_extension": ".py",
   "mimetype": "text/x-python",
   "name": "python",
   "nbconvert_exporter": "python",
   "pygments_lexer": "ipython3",
   "version": "3.8.8"
  },
  "toc-autonumbering": true
 },
 "nbformat": 4,
 "nbformat_minor": 5
}
