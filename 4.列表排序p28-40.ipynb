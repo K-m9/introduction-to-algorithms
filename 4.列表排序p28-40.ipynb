{
 "cells": [
  {
   "cell_type": "markdown",
   "id": "0ef64621-664b-4613-a0c8-a25bde237982",
   "metadata": {},
   "source": [
    "# 堆排序 "
   ]
  },
  {
   "cell_type": "markdown",
   "id": "8bfd88a6-27a4-4300-b192-c7ce1d98d80a",
   "metadata": {},
   "source": [
    "## topk问题 "
   ]
  },
  {
   "cell_type": "markdown",
   "id": "4609152b-1418-478e-8953-74c384c232f6",
   "metadata": {},
   "source": [
    "1. 现在有n个数，设计算法得到的前k大的数。（k<n）\n",
    "2. 解决思路：\n",
    "    - 排序后切片：$O(nlogn)+k-->O(nlogn)$ <br>上亿数据量很慢\n",
    "    - 排序LowB三人组：$O(kn)$ <br> 如冒泡排序，只需要排序前k趟；插入排序：维护前100个数，来一个数判断是否插入；选择排序：选择100次，每次选最大的数跟第一个交换\n",
    "    - 堆排序思路： $O(nlogk)$\n",
    "        - 1. 取列表前k个元素建立一个小根堆。堆顶就是目前第k大的数。\n",
    "        - 2. 依次向后遍历原列表，对于列表中的元素，如果小于堆顶，则忽略该元素；如果大于堆顶，则将堆顶更换为该元素，并且对堆进行一次调整。\n",
    "        - 3. 遍历列表所有元素后，倒序弹出堆顶。"
   ]
  },
  {
   "cell_type": "markdown",
   "id": "b76d72aa-d15e-49a7-97c1-caebda5ffd52",
   "metadata": {},
   "source": [
    "ps: 目前讲的LowB和NB三人组实际上都是比较排序，通过比较数字大小判断是否需要交换"
   ]
  },
  {
   "cell_type": "code",
   "execution_count": 43,
   "id": "568f5912-bb8d-4d58-b324-0b127d338394",
   "metadata": {},
   "outputs": [],
   "source": [
    "# 小根堆\n",
    "def sift(li, low, high):\n",
    "    i = low\n",
    "    j = 2 * i + 1\n",
    "    tmp = li[low]\n",
    "    while j <= high:\n",
    "        if j + 1 <= high and li[j+1] < li[j]:\n",
    "            j = j + 1\n",
    "        if li[j] < tmp:\n",
    "            li[i] = li[j]\n",
    "            i = j\n",
    "            j = 2 * i + 1\n",
    "        else:\n",
    "            break\n",
    "        li[i] = tmp"
   ]
  },
  {
   "cell_type": "code",
   "execution_count": 32,
   "id": "435ced55-82dd-43c1-828b-17454d20c4a8",
   "metadata": {},
   "outputs": [],
   "source": [
    "def heap_sort(li):\n",
    "    n = len(li)\n",
    "    # 堆的向下调整，建堆\n",
    "    for i in range((n-2)//2, -1, -1):\n",
    "        # i表示建堆的时候调整的部分的根的下标\n",
    "        sift(li, i, n-1)\n",
    "    # 挨个出数，按顺序\n",
    "    for i in range(n-1, -1, -1):\n",
    "        # i 指向当前堆的最后一个元素\n",
    "        li[0], li[i] = li[i], li[0]\n",
    "        sift(li, 0, i-1) #i-1是新的high"
   ]
  },
  {
   "cell_type": "code",
   "execution_count": 44,
   "id": "5503f233-a787-4d43-86c3-76356e9c629b",
   "metadata": {},
   "outputs": [],
   "source": [
    "def topk(li, k):\n",
    "    heap = li[0:k]\n",
    "    #建堆\n",
    "    for i in range((k-2)//2, -1, -1):\n",
    "        sift(heap, i, k-1)\n",
    "    #遍历\n",
    "    for i in range(k, len(li)-1):\n",
    "        if li[i] > heap[0]:\n",
    "            heap[0] = li[i]\n",
    "            sift(heap, 0 ,k-1)\n",
    "    #出数\n",
    "    for i in range(k-1, -1, -1):\n",
    "        heap[0], heap[i] = heap[i], heap[0]\n",
    "        sift(heap, 0, i-1)\n",
    "    return heap"
   ]
  },
  {
   "cell_type": "code",
   "execution_count": 47,
   "id": "06cc65a8-0f40-43c2-ad3e-5e31dede9b3b",
   "metadata": {},
   "outputs": [],
   "source": [
    "import random\n",
    "li = list(range(1000))\n",
    "random.shuffle(li)"
   ]
  },
  {
   "cell_type": "code",
   "execution_count": 48,
   "id": "b57cfd85-fc19-4020-b551-9a2a9144ba72",
   "metadata": {},
   "outputs": [
    {
     "data": {
      "text/plain": [
       "[999, 998, 997, 996, 995, 994, 993, 992, 991, 990]"
      ]
     },
     "execution_count": 48,
     "metadata": {},
     "output_type": "execute_result"
    }
   ],
   "source": [
    "topk(li, 10)"
   ]
  },
  {
   "cell_type": "markdown",
   "id": "93b428a2-b65a-4420-a1b9-420356ed6267",
   "metadata": {},
   "source": [
    "# 归并排序<br>(非原地排序，需要额外空间)"
   ]
  },
  {
   "cell_type": "markdown",
   "id": "f5f57013-fbfc-4757-89ec-ca0d5963cb14",
   "metadata": {},
   "source": [
    "## 归并 "
   ]
  },
  {
   "cell_type": "markdown",
   "id": "a7de8fbd-69a9-4939-be6a-becf3b3c08f7",
   "metadata": {},
   "source": [
    "1. 假设现在的列表分两段有序，如何将其合成为一个有序列表"
   ]
  },
  {
   "cell_type": "code",
   "execution_count": 66,
   "id": "09b6fadd-2185-4676-9bd3-eba965ce7cf6",
   "metadata": {},
   "outputs": [],
   "source": [
    "def merge(li, low, mid, high):\n",
    "    i = low\n",
    "    j = mid + 1\n",
    "    ltmp = []\n",
    "    while i <= mid and j <= high: #只要左右两边都有数\n",
    "        if li[i] < li[j]:\n",
    "            ltmp.append(li[i])\n",
    "            i += 1\n",
    "        else:\n",
    "            ltmp.append(li[j])\n",
    "            j += 1\n",
    "        # while执行完，肯定有一部分没数了\n",
    "        while i <= mid:\n",
    "            ltmp.append(li[i])\n",
    "            i += 1\n",
    "        while j <= high:\n",
    "            ltmp.append(li[j])\n",
    "            j += 1\n",
    "        li[low:high+1] = ltmp"
   ]
  },
  {
   "cell_type": "code",
   "execution_count": 52,
   "id": "80d110f1-131a-4a8b-9307-242de8ca1419",
   "metadata": {},
   "outputs": [],
   "source": [
    "li = [2,4,5,7,1,3,6,8]\n",
    "merge(li,0,3,7)"
   ]
  },
  {
   "cell_type": "code",
   "execution_count": 53,
   "id": "a52b3637-7ec5-43aa-833e-6335e103a55c",
   "metadata": {},
   "outputs": [
    {
     "data": {
      "text/plain": [
       "[1, 2, 4, 5, 7, 3, 6, 8]"
      ]
     },
     "execution_count": 53,
     "metadata": {},
     "output_type": "execute_result"
    }
   ],
   "source": [
    "li"
   ]
  },
  {
   "cell_type": "markdown",
   "id": "8e3f34cf-45f7-4896-88f4-1ca502d4d7e6",
   "metadata": {},
   "source": [
    "## 使用归并"
   ]
  },
  {
   "cell_type": "markdown",
   "id": "830081bf-3098-47fd-ad8b-09696845977b",
   "metadata": {},
   "source": [
    "1. 分解：将列表越分越小，直至分成一个元素。\n",
    "2. 终止条件：一个元素是有序的。\n",
    "3. 合并：将两个有序列表归并，列表越来越大。"
   ]
  },
  {
   "cell_type": "code",
   "execution_count": 67,
   "id": "2b126ef4-e0ec-4d3f-bdba-96186d163793",
   "metadata": {},
   "outputs": [],
   "source": [
    "# 先分解后归并的递归，类似汉诺塔\n",
    "def merge_sort(li, low, high):  \n",
    "    if low < high: # 至少有两个元素，递归\n",
    "        mid = (low + high)//2\n",
    "        merge_sort(li, low, mid)\n",
    "        merge_sort(li, mid + 1, high)\n",
    "        merge(li, low, mid, high)\n",
    "        #print(li[low:high+1])"
   ]
  },
  {
   "cell_type": "code",
   "execution_count": 72,
   "id": "ba942542-888d-4960-b865-57e9e6e0541f",
   "metadata": {
    "tags": []
   },
   "outputs": [
    {
     "name": "stdout",
     "output_type": "stream",
     "text": [
      "[5, 1, 7, 3, 4, 9, 6, 0, 8, 2]\n"
     ]
    }
   ],
   "source": [
    "li = list(range(10))\n",
    "import random\n",
    "random.shuffle(li)\n",
    "print(li)"
   ]
  },
  {
   "cell_type": "code",
   "execution_count": 73,
   "id": "68aaf949-df97-4712-83cb-a47f9d64b029",
   "metadata": {},
   "outputs": [
    {
     "name": "stdout",
     "output_type": "stream",
     "text": [
      "[5, 1]\n",
      "[5, 1, 7]\n",
      "[3, 4]\n",
      "[5, 1, 7, 3, 4]\n",
      "[9, 6]\n",
      "[9, 6, 0]\n",
      "[8, 2]\n",
      "[9, 6, 0, 8, 2]\n",
      "[5, 1, 7, 3, 4, 9, 6, 0, 8, 2]\n"
     ]
    },
    {
     "data": {
      "text/plain": [
       "array([5, 1, 7, 3, 4, 9, 6, 0, 8, 2])"
      ]
     },
     "execution_count": 73,
     "metadata": {},
     "output_type": "execute_result"
    }
   ],
   "source": [
    "merge_sort(li, 0, len(li)-1)\n",
    "np.transpose(li)"
   ]
  },
  {
   "cell_type": "markdown",
   "id": "431c1d8b-1a0c-4369-9c34-f4b22d677ae3",
   "metadata": {},
   "source": [
    "## 时间复杂度 "
   ]
  },
  {
   "cell_type": "markdown",
   "id": "40acd24e-d2b7-40f0-a29f-d784c25fac67",
   "metadata": {},
   "source": [
    "$O(nlogn)$:<br>\n",
    "每层运行n次，一共log(n)层，折半"
   ]
  },
  {
   "cell_type": "markdown",
   "id": "8f8cb665-4940-40e5-a686-f3145d61ddd2",
   "metadata": {},
   "source": [
    "## 空间复杂度"
   ]
  },
  {
   "cell_type": "markdown",
   "id": "d5c47d51-22af-43c2-902a-d6e5dc100857",
   "metadata": {},
   "source": [
    "$O(n)$:<br>\n",
    "存在临时空间ltmp，使用空间O(n)"
   ]
  },
  {
   "cell_type": "markdown",
   "id": "4a0472d2-da5b-4319-8ac5-d83cb315e607",
   "metadata": {},
   "source": [
    "python的sort方法，结合归并排序和插入排序，做了优化"
   ]
  },
  {
   "cell_type": "markdown",
   "id": "3584a48a-a624-470b-822b-06bc90089085",
   "metadata": {},
   "source": [
    "# NB三人组小结 "
   ]
  },
  {
   "cell_type": "markdown",
   "id": "6483cf69-fa21-473f-872d-b41391ef49f3",
   "metadata": {},
   "source": [
    "1. 三种排序算法的时间复杂度都是$O(nlogn)$\n",
    "2. 一般情况下，就运行时间而言：\n",
    "    - 快速排序 < 归并排序 < 堆排序\n",
    "3. 三种排序算法的缺点：‘\n",
    "    - 快速排序：极端情况下排序效率低\n",
    "    - 归并排序：需要额外的内存开销\n",
    "    - 堆排序：在快的排序算法中相对较慢"
   ]
  },
  {
   "cell_type": "markdown",
   "id": "3f0fe422-bfe3-4d21-acad-a17a1a58bee8",
   "metadata": {},
   "source": [
    "排序算法总结：https://blog.csdn.net/zxzxzx0119/article/details/79826380 <br>\n",
    "快排的空间复杂度不是$O(1)$，递归需要用系统空间：函数每走一层，需要存将函数存一个位置。<br>\n",
    "稳定性：当两个元素值一样时，保证它们的相对位置不变。<br>"
   ]
  },
  {
   "cell_type": "code",
   "execution_count": 74,
   "id": "446584a4-7bf9-457c-a494-d9a651474758",
   "metadata": {},
   "outputs": [
    {
     "data": {
      "text/plain": [
       "{'name': 'a', 'age': 25}"
      ]
     },
     "execution_count": 74,
     "metadata": {},
     "output_type": "execute_result"
    }
   ],
   "source": [
    "# 稳定性即保证下列两个name相同的字典位置不变。\n",
    "{'name':'a','age':18}\n",
    "{'name':'b','age':20}\n",
    "{'name':'a','age':25}"
   ]
  },
  {
   "cell_type": "markdown",
   "id": "d1eb63f1-2a28-4c2b-9fa3-f2fe65688d8f",
   "metadata": {},
   "source": [
    "有顺序挨个移动的稳定，跳着换的不稳定"
   ]
  },
  {
   "cell_type": "markdown",
   "id": "da222ef5-30db-4158-a388-281aedef71d9",
   "metadata": {},
   "source": [
    "# 希尔排序 "
   ]
  },
  {
   "cell_type": "markdown",
   "id": "96bd29fb-1bb7-4b95-958a-3c844b277f00",
   "metadata": {},
   "source": [
    "1. 希尔排序（Shell Sort）是一种<b>分组插入排序</b>算法。\n",
    "2. 首先取一个整数 $d_1 = n/2$，将元素分为$d_1$个组，每组相邻两元素之间距离为$d_1$，在各组内进行直接插入排序；\n",
    "3. 取第二个整数$d_2 = d_1/2$，重复上述分组排序过程，直到$d_1 = 1$，即所有元素在同一组内进行直接插入排序。\n",
    "4. 希尔排序每趟并不使某些元素有序，而是使整体数据越来越接近有序；最后一趟排序使得所有数据有序。"
   ]
  },
  {
   "cell_type": "code",
   "execution_count": 75,
   "id": "2c02cb6b-e03a-49f6-a57f-912346ecfec7",
   "metadata": {},
   "outputs": [],
   "source": [
    "def insert_sort_gap(li, gap): # 分组距离\n",
    "    for i in range(gap, len(li)): # i表示摸到的牌的下标\n",
    "        tmp = li[i]\n",
    "        j = i - gap # j指的是手里的牌的下标\n",
    "        while j >= 0 and li[j] > tmp:\n",
    "            li[j+gap] = li[j]\n",
    "            j -= gap\n",
    "        li[j+gap] = tmp"
   ]
  },
  {
   "cell_type": "code",
   "execution_count": 76,
   "id": "cbee9064-5b8b-497a-9b62-41c56ddfe74a",
   "metadata": {},
   "outputs": [],
   "source": [
    "def shell_sort(li):\n",
    "    d = len(li) // 2\n",
    "    while d >= 1:\n",
    "        insert_sort_gap(li, d)\n",
    "        d //= 2"
   ]
  },
  {
   "cell_type": "code",
   "execution_count": 81,
   "id": "d107f11d-0c9b-4061-9ea9-60e24c41f49b",
   "metadata": {},
   "outputs": [],
   "source": [
    "li = list(range(100))\n",
    "random.shuffle(li)"
   ]
  },
  {
   "cell_type": "code",
   "execution_count": 82,
   "id": "ace33f8f-c10e-480a-b501-bf7e9a445c58",
   "metadata": {},
   "outputs": [
    {
     "data": {
      "text/plain": [
       "array([ 0,  1,  2,  3,  4,  5,  6,  7,  8,  9, 10, 11, 12, 13, 14, 15, 16,\n",
       "       17, 18, 19, 20, 21, 22, 23, 24, 25, 26, 27, 28, 29, 30, 31, 32, 33,\n",
       "       34, 35, 36, 37, 38, 39, 40, 41, 42, 43, 44, 45, 46, 47, 48, 49, 50,\n",
       "       51, 52, 53, 54, 55, 56, 57, 58, 59, 60, 61, 62, 63, 64, 65, 66, 67,\n",
       "       68, 69, 70, 71, 72, 73, 74, 75, 76, 77, 78, 79, 80, 81, 82, 83, 84,\n",
       "       85, 86, 87, 88, 89, 90, 91, 92, 93, 94, 95, 96, 97, 98, 99])"
      ]
     },
     "execution_count": 82,
     "metadata": {},
     "output_type": "execute_result"
    }
   ],
   "source": [
    "shell_sort(li)\n",
    "np.transpose(li)"
   ]
  },
  {
   "cell_type": "markdown",
   "id": "738b64d3-11d5-4742-b6ee-9a58b766c672",
   "metadata": {},
   "source": [
    "## 时间复杂度 "
   ]
  },
  {
   "cell_type": "markdown",
   "id": "7a06f261-a249-469f-bccd-0ad399c1a49e",
   "metadata": {},
   "source": [
    "希尔排序的时间复杂度讨论比较复杂，并且和选取的gap序列有关。\n",
    "https://en.wikipedia.org/wiki/Shellsort#Gap_sequences"
   ]
  },
  {
   "cell_type": "markdown",
   "id": "cb856784-1ed9-47e2-8c2b-153307f79396",
   "metadata": {},
   "source": [
    "# 计数排序 "
   ]
  },
  {
   "cell_type": "markdown",
   "id": "0636c42a-fec5-448e-b401-39e26507a5df",
   "metadata": {},
   "source": [
    "对列表进行排序，已知列表中的数范围都在0到100之间。设计时间复杂度为O(n)的算法。"
   ]
  },
  {
   "cell_type": "code",
   "execution_count": 101,
   "id": "b9ac46d0-5250-4a1c-a007-7fcb051dab5c",
   "metadata": {},
   "outputs": [],
   "source": [
    "def count_sort(li, max_count=100):\n",
    "    count = [0 for _ in range(max_count+1)]\n",
    "    for val in li:\n",
    "        count[val] += 1 # n次\n",
    "    li.clear()\n",
    "    for ind, val in enumerate(count):\n",
    "        for i in range(val):\n",
    "            li.append(ind) #共append n次，整个循环加起来为O(n)\n",
    "            # print(ind,val)"
   ]
  },
  {
   "cell_type": "code",
   "execution_count": 102,
   "id": "50c1190c-f992-4d06-9865-3b83dba3d784",
   "metadata": {},
   "outputs": [
    {
     "data": {
      "text/plain": [
       "array([ 60,  69,  76,  47,  48,  74,  76,  70,  23,  82,   2,  47,  73,\n",
       "        69,  54,  97,   4,  34,  26,  96,  76,  94,  80,  70,   7,  76,\n",
       "        36,  11,  82,  92,  54,  35,  49, 100,  69,  10,  28,  60,  81,\n",
       "        58,  21,  57,  70,  53,  71,  95,  68,  35,  49,  12,  56,   2,\n",
       "        10,  39,  12,   8,  44,  14,  56,  89,  68,  85,  33,  99,  51,\n",
       "        15,  97,  39,  17,   0,  28, 100,  27,  29,  15,  70,  60,  63,\n",
       "        24,  99,  12,  20,  14,   4,  55,  95,  18,  10,  85,  52,  44,\n",
       "        28,  28, 100,  17,  20,  24,  85,  68,  28])"
      ]
     },
     "execution_count": 102,
     "metadata": {},
     "output_type": "execute_result"
    }
   ],
   "source": [
    "li = [random.randint(0,100) for _ in range(100)]\n",
    "np.transpose(li)"
   ]
  },
  {
   "cell_type": "code",
   "execution_count": 103,
   "id": "78d620a1-754d-4e55-b4d6-cf6696e70b44",
   "metadata": {
    "collapsed": true,
    "jupyter": {
     "outputs_hidden": true
    },
    "tags": []
   },
   "outputs": [
    {
     "name": "stdout",
     "output_type": "stream",
     "text": [
      "0 1\n",
      "2 2\n",
      "2 2\n",
      "4 2\n",
      "4 2\n",
      "7 1\n",
      "8 1\n",
      "10 3\n",
      "10 3\n",
      "10 3\n",
      "11 1\n",
      "12 3\n",
      "12 3\n",
      "12 3\n",
      "14 2\n",
      "14 2\n",
      "15 2\n",
      "15 2\n",
      "17 2\n",
      "17 2\n",
      "18 1\n",
      "20 2\n",
      "20 2\n",
      "21 1\n",
      "23 1\n",
      "24 2\n",
      "24 2\n",
      "26 1\n",
      "27 1\n",
      "28 5\n",
      "28 5\n",
      "28 5\n",
      "28 5\n",
      "28 5\n",
      "29 1\n",
      "33 1\n",
      "34 1\n",
      "35 2\n",
      "35 2\n",
      "36 1\n",
      "39 2\n",
      "39 2\n",
      "44 2\n",
      "44 2\n",
      "47 2\n",
      "47 2\n",
      "48 1\n",
      "49 2\n",
      "49 2\n",
      "51 1\n",
      "52 1\n",
      "53 1\n",
      "54 2\n",
      "54 2\n",
      "55 1\n",
      "56 2\n",
      "56 2\n",
      "57 1\n",
      "58 1\n",
      "60 3\n",
      "60 3\n",
      "60 3\n",
      "63 1\n",
      "68 3\n",
      "68 3\n",
      "68 3\n",
      "69 3\n",
      "69 3\n",
      "69 3\n",
      "70 4\n",
      "70 4\n",
      "70 4\n",
      "70 4\n",
      "71 1\n",
      "73 1\n",
      "74 1\n",
      "76 4\n",
      "76 4\n",
      "76 4\n",
      "76 4\n",
      "80 1\n",
      "81 1\n",
      "82 2\n",
      "82 2\n",
      "85 3\n",
      "85 3\n",
      "85 3\n",
      "89 1\n",
      "92 1\n",
      "94 1\n",
      "95 2\n",
      "95 2\n",
      "96 1\n",
      "97 2\n",
      "97 2\n",
      "99 2\n",
      "99 2\n",
      "100 3\n",
      "100 3\n",
      "100 3\n"
     ]
    },
    {
     "data": {
      "text/plain": [
       "array([  0,   2,   2,   4,   4,   7,   8,  10,  10,  10,  11,  12,  12,\n",
       "        12,  14,  14,  15,  15,  17,  17,  18,  20,  20,  21,  23,  24,\n",
       "        24,  26,  27,  28,  28,  28,  28,  28,  29,  33,  34,  35,  35,\n",
       "        36,  39,  39,  44,  44,  47,  47,  48,  49,  49,  51,  52,  53,\n",
       "        54,  54,  55,  56,  56,  57,  58,  60,  60,  60,  63,  68,  68,\n",
       "        68,  69,  69,  69,  70,  70,  70,  70,  71,  73,  74,  76,  76,\n",
       "        76,  76,  80,  81,  82,  82,  85,  85,  85,  89,  92,  94,  95,\n",
       "        95,  96,  97,  97,  99,  99, 100, 100, 100])"
      ]
     },
     "execution_count": 103,
     "metadata": {},
     "output_type": "execute_result"
    }
   ],
   "source": [
    "count_sort(li)\n",
    "np.transpose(li)"
   ]
  },
  {
   "cell_type": "markdown",
   "id": "526f9222-a742-4c96-a6d9-9ad6ef390287",
   "metadata": {},
   "source": [
    "## 时间复杂度 "
   ]
  },
  {
   "cell_type": "markdown",
   "id": "e24c1f07-1ce6-4fd5-a2f5-30df2ffadfb6",
   "metadata": {},
   "source": [
    "$O(n)$"
   ]
  },
  {
   "cell_type": "code",
   "execution_count": 105,
   "id": "e024a76a-8c25-4cfe-a492-b51c6255c8e2",
   "metadata": {
    "collapsed": true,
    "jupyter": {
     "outputs_hidden": true
    },
    "tags": []
   },
   "outputs": [
    {
     "ename": "ModuleNotFoundError",
     "evalue": "No module named 'cal_time'",
     "output_type": "error",
     "traceback": [
      "\u001b[1;31m---------------------------------------------------------------------------\u001b[0m",
      "\u001b[1;31mModuleNotFoundError\u001b[0m                       Traceback (most recent call last)",
      "\u001b[1;32m<ipython-input-105-a43428642c16>\u001b[0m in \u001b[0;36m<module>\u001b[1;34m\u001b[0m\n\u001b[1;32m----> 1\u001b[1;33m \u001b[1;32mfrom\u001b[0m \u001b[0mcal_time\u001b[0m \u001b[1;32mimport\u001b[0m \u001b[1;33m*\u001b[0m\u001b[1;33m\u001b[0m\u001b[1;33m\u001b[0m\u001b[0m\n\u001b[0m",
      "\u001b[1;31mModuleNotFoundError\u001b[0m: No module named 'cal_time'"
     ]
    }
   ],
   "source": [
    "from cal_time import *"
   ]
  },
  {
   "cell_type": "code",
   "execution_count": 104,
   "id": "3c0277b2-58e2-4d4e-b969-24d950c5b685",
   "metadata": {
    "collapsed": true,
    "jupyter": {
     "outputs_hidden": true
    },
    "tags": []
   },
   "outputs": [
    {
     "ename": "NameError",
     "evalue": "name 'cal_time' is not defined",
     "output_type": "error",
     "traceback": [
      "\u001b[1;31m---------------------------------------------------------------------------\u001b[0m",
      "\u001b[1;31mNameError\u001b[0m                                 Traceback (most recent call last)",
      "\u001b[1;32m<ipython-input-104-0aac66bbec0e>\u001b[0m in \u001b[0;36m<module>\u001b[1;34m\u001b[0m\n\u001b[1;32m----> 1\u001b[1;33m \u001b[1;33m@\u001b[0m\u001b[0mcal_time\u001b[0m\u001b[1;33m\u001b[0m\u001b[1;33m\u001b[0m\u001b[0m\n\u001b[0m\u001b[0;32m      2\u001b[0m \u001b[1;32mdef\u001b[0m \u001b[0msys_sort\u001b[0m\u001b[1;33m(\u001b[0m\u001b[0mli\u001b[0m\u001b[1;33m)\u001b[0m\u001b[1;33m:\u001b[0m\u001b[1;33m\u001b[0m\u001b[1;33m\u001b[0m\u001b[0m\n\u001b[0;32m      3\u001b[0m     \u001b[0mli\u001b[0m\u001b[1;33m.\u001b[0m\u001b[0msort\u001b[0m\u001b[1;33m(\u001b[0m\u001b[1;33m)\u001b[0m\u001b[1;33m\u001b[0m\u001b[1;33m\u001b[0m\u001b[0m\n",
      "\u001b[1;31mNameError\u001b[0m: name 'cal_time' is not defined"
     ]
    }
   ],
   "source": [
    "@cal_time\n",
    "def sys_sort(li):\n",
    "    li.sort()"
   ]
  },
  {
   "cell_type": "markdown",
   "id": "0dda1c99-640b-4ede-8c31-413e4dc50f45",
   "metadata": {},
   "source": [
    "## 计数排序有限制 "
   ]
  },
  {
   "cell_type": "markdown",
   "id": "5d26c209-b7d4-4c48-8f38-80b0f4a342e0",
   "metadata": {},
   "source": [
    "1. 需要在0-100之间\n",
    "2. 需要消耗大量内存（0-100则100）\n",
    "3. 对小数等其他形式元素计数复杂"
   ]
  },
  {
   "cell_type": "markdown",
   "id": "77b095be-f3c2-496f-b759-dd9af2bca648",
   "metadata": {},
   "source": [
    "# 桶排序 "
   ]
  },
  {
   "cell_type": "markdown",
   "id": "a40dab81-8759-4139-aaf2-db7ce93c7767",
   "metadata": {},
   "source": [
    "1. 在计数排序中，如果元素的范围比较大（比如在1到1亿之间），如何改造算法？\n",
    "2. 桶排序（Bucket Sort）：首先将元素分在不同的桶中，在对每个桶中的元素排序。"
   ]
  },
  {
   "cell_type": "code",
   "execution_count": 14,
   "id": "14614281-6fc4-4e6a-bf95-cc2808d52674",
   "metadata": {},
   "outputs": [],
   "source": [
    "def bucket_sort(li, n=100, max_num=10000):\n",
    "    # n是分多少个桶，max_num是数值上仙\n",
    "    buckets = [[] for _ in range(n)] #创建桶列表\n",
    "    for var in li:\n",
    "        i = min(var // (max_num // n), n-1) # i 表示var放到第几号桶里\n",
    "        #0->0, 186->1\n",
    "        buckets[i].append(var)\n",
    "    # 对每个桶排序，保持桶内顺序\n",
    "    for j in range(len(buckets[i])-1, 0, -1):\n",
    "        #[0,2,4,3]冒泡-->[0,2,3,4]\n",
    "        if buckets[i][j] < buckets[i][j-1]:\n",
    "            buckets[i][j], buckets[i][j-1] = buckets[i][j-1], buckets[i][j]\n",
    "        else:\n",
    "            break\n",
    "    sorted_li = []\n",
    "    for buc in buckets:\n",
    "        sorted_li.extend(buc)\n",
    "    return sorted_li"
   ]
  },
  {
   "cell_type": "code",
   "execution_count": 15,
   "id": "b97ec4d0-9891-4a92-b8ac-387bd90e5cd5",
   "metadata": {},
   "outputs": [],
   "source": [
    "import random\n",
    "import numpy as np"
   ]
  },
  {
   "cell_type": "code",
   "execution_count": 18,
   "id": "f6421efe-6610-4286-8773-bfd0f605326b",
   "metadata": {},
   "outputs": [
    {
     "data": {
      "text/plain": [
       "array([7513, 1361, 9034, ..., 6602, 2356, 1633])"
      ]
     },
     "execution_count": 18,
     "metadata": {},
     "output_type": "execute_result"
    }
   ],
   "source": [
    "li = [random.randint(0,10000) for i in range(100000)]\n",
    "np.transpose(li)"
   ]
  },
  {
   "cell_type": "code",
   "execution_count": 20,
   "id": "3e24c83b-d0d4-4ab4-ba12-20cbf9e62a63",
   "metadata": {},
   "outputs": [
    {
     "data": {
      "text/plain": [
       "array([  59,   88,   69, ..., 9924, 9981, 9989])"
      ]
     },
     "execution_count": 20,
     "metadata": {},
     "output_type": "execute_result"
    }
   ],
   "source": [
    "li = bucket_sort(li)\n",
    "np.transpose(li)"
   ]
  },
  {
   "cell_type": "markdown",
   "id": "3032881f-ae28-400c-a33e-b521dd464816",
   "metadata": {},
   "source": [
    "## 讨论 "
   ]
  },
  {
   "cell_type": "markdown",
   "id": "536a77af-fc7f-487c-b6e0-e7b18bb27921",
   "metadata": {},
   "source": [
    "1. 桶排序的表现取决于数据的分布。也就是需要对不同数据排序时采取不同的分桶策略。\n",
    "2. 平均情况时间复杂度：O(n+k)  (n是一共多少个数，k是桶的个数)\n",
    "3. 最坏情况时间复杂度：$O(n^2k)$\n",
    "4. 空间复杂度：O(nk)"
   ]
  },
  {
   "cell_type": "markdown",
   "id": "277d72da-4c14-425e-8c7b-da7643bfa8da",
   "metadata": {},
   "source": [
    "# 基数排序 "
   ]
  },
  {
   "cell_type": "markdown",
   "id": "1eea5ccd-ac64-41ff-978a-5908e539362a",
   "metadata": {},
   "source": [
    "1. 多关键字排序：假如现在有一个员工表，要求按照薪资排序，年龄相同的员工按照年龄排序。\n",
    "    - 先按照年龄进行排序，再按照薪资进行稳定的排序。"
   ]
  },
  {
   "cell_type": "markdown",
   "id": "feec2e0b-7a7d-46d6-aafb-5ebf01ed746f",
   "metadata": {},
   "source": [
    "- 对32，13，94，52，17，54，93排序，是否可看作多关键字排序？\n",
    "    - 先按照各位进行排序，再按照十位进行排序。"
   ]
  },
  {
   "cell_type": "code",
   "execution_count": 1,
   "id": "4aea3231-de87-4123-ac36-9643070f9c22",
   "metadata": {},
   "outputs": [],
   "source": [
    "def radix_sort(li):\n",
    "    max_num = max(li) # 最大值 99->2, 888->3, 10000->5\n",
    "    it = 0\n",
    "    while 10 ** it <= max_num: #判断有多少位数，执行多少次循环\n",
    "        buckets = [[] for _ in range(10)]\n",
    "        for var in li:\n",
    "            # 987 it=1 987//10->98 98%10->8; it=2 987//100->9 9%10->9\n",
    "            digit = (var // 10 ** it) % 10\n",
    "            buckets[digit].append(var)\n",
    "        # 分桶完成\n",
    "        li.clear()\n",
    "        # 把数重新写回li\n",
    "        for buc in buckets:\n",
    "            li.extend(buc)\n",
    "        it += 1"
   ]
  },
  {
   "cell_type": "code",
   "execution_count": 2,
   "id": "8e12a9b2-fa24-4f67-a99c-457949d7d571",
   "metadata": {},
   "outputs": [],
   "source": [
    "import random"
   ]
  },
  {
   "cell_type": "code",
   "execution_count": 3,
   "id": "36be72e4-67b0-4703-8776-5b9acc94aeea",
   "metadata": {
    "collapsed": true,
    "jupyter": {
     "outputs_hidden": true
    },
    "tags": []
   },
   "outputs": [
    {
     "name": "stdout",
     "output_type": "stream",
     "text": [
      "[0, 1, 2, 3, 4, 5, 6, 7, 8, 9, 10, 11, 12, 13, 14, 15, 16, 17, 18, 19, 20, 21, 22, 23, 24, 25, 26, 27, 28, 29, 30, 31, 32, 33, 34, 35, 36, 37, 38, 39, 40, 41, 42, 43, 44, 45, 46, 47, 48, 49, 50, 51, 52, 53, 54, 55, 56, 57, 58, 59, 60, 61, 62, 63, 64, 65, 66, 67, 68, 69, 70, 71, 72, 73, 74, 75, 76, 77, 78, 79, 80, 81, 82, 83, 84, 85, 86, 87, 88, 89, 90, 91, 92, 93, 94, 95, 96, 97, 98, 99, 100, 101, 102, 103, 104, 105, 106, 107, 108, 109, 110, 111, 112, 113, 114, 115, 116, 117, 118, 119, 120, 121, 122, 123, 124, 125, 126, 127, 128, 129, 130, 131, 132, 133, 134, 135, 136, 137, 138, 139, 140, 141, 142, 143, 144, 145, 146, 147, 148, 149, 150, 151, 152, 153, 154, 155, 156, 157, 158, 159, 160, 161, 162, 163, 164, 165, 166, 167, 168, 169, 170, 171, 172, 173, 174, 175, 176, 177, 178, 179, 180, 181, 182, 183, 184, 185, 186, 187, 188, 189, 190, 191, 192, 193, 194, 195, 196, 197, 198, 199, 200, 201, 202, 203, 204, 205, 206, 207, 208, 209, 210, 211, 212, 213, 214, 215, 216, 217, 218, 219, 220, 221, 222, 223, 224, 225, 226, 227, 228, 229, 230, 231, 232, 233, 234, 235, 236, 237, 238, 239, 240, 241, 242, 243, 244, 245, 246, 247, 248, 249, 250, 251, 252, 253, 254, 255, 256, 257, 258, 259, 260, 261, 262, 263, 264, 265, 266, 267, 268, 269, 270, 271, 272, 273, 274, 275, 276, 277, 278, 279, 280, 281, 282, 283, 284, 285, 286, 287, 288, 289, 290, 291, 292, 293, 294, 295, 296, 297, 298, 299, 300, 301, 302, 303, 304, 305, 306, 307, 308, 309, 310, 311, 312, 313, 314, 315, 316, 317, 318, 319, 320, 321, 322, 323, 324, 325, 326, 327, 328, 329, 330, 331, 332, 333, 334, 335, 336, 337, 338, 339, 340, 341, 342, 343, 344, 345, 346, 347, 348, 349, 350, 351, 352, 353, 354, 355, 356, 357, 358, 359, 360, 361, 362, 363, 364, 365, 366, 367, 368, 369, 370, 371, 372, 373, 374, 375, 376, 377, 378, 379, 380, 381, 382, 383, 384, 385, 386, 387, 388, 389, 390, 391, 392, 393, 394, 395, 396, 397, 398, 399, 400, 401, 402, 403, 404, 405, 406, 407, 408, 409, 410, 411, 412, 413, 414, 415, 416, 417, 418, 419, 420, 421, 422, 423, 424, 425, 426, 427, 428, 429, 430, 431, 432, 433, 434, 435, 436, 437, 438, 439, 440, 441, 442, 443, 444, 445, 446, 447, 448, 449, 450, 451, 452, 453, 454, 455, 456, 457, 458, 459, 460, 461, 462, 463, 464, 465, 466, 467, 468, 469, 470, 471, 472, 473, 474, 475, 476, 477, 478, 479, 480, 481, 482, 483, 484, 485, 486, 487, 488, 489, 490, 491, 492, 493, 494, 495, 496, 497, 498, 499, 500, 501, 502, 503, 504, 505, 506, 507, 508, 509, 510, 511, 512, 513, 514, 515, 516, 517, 518, 519, 520, 521, 522, 523, 524, 525, 526, 527, 528, 529, 530, 531, 532, 533, 534, 535, 536, 537, 538, 539, 540, 541, 542, 543, 544, 545, 546, 547, 548, 549, 550, 551, 552, 553, 554, 555, 556, 557, 558, 559, 560, 561, 562, 563, 564, 565, 566, 567, 568, 569, 570, 571, 572, 573, 574, 575, 576, 577, 578, 579, 580, 581, 582, 583, 584, 585, 586, 587, 588, 589, 590, 591, 592, 593, 594, 595, 596, 597, 598, 599, 600, 601, 602, 603, 604, 605, 606, 607, 608, 609, 610, 611, 612, 613, 614, 615, 616, 617, 618, 619, 620, 621, 622, 623, 624, 625, 626, 627, 628, 629, 630, 631, 632, 633, 634, 635, 636, 637, 638, 639, 640, 641, 642, 643, 644, 645, 646, 647, 648, 649, 650, 651, 652, 653, 654, 655, 656, 657, 658, 659, 660, 661, 662, 663, 664, 665, 666, 667, 668, 669, 670, 671, 672, 673, 674, 675, 676, 677, 678, 679, 680, 681, 682, 683, 684, 685, 686, 687, 688, 689, 690, 691, 692, 693, 694, 695, 696, 697, 698, 699, 700, 701, 702, 703, 704, 705, 706, 707, 708, 709, 710, 711, 712, 713, 714, 715, 716, 717, 718, 719, 720, 721, 722, 723, 724, 725, 726, 727, 728, 729, 730, 731, 732, 733, 734, 735, 736, 737, 738, 739, 740, 741, 742, 743, 744, 745, 746, 747, 748, 749, 750, 751, 752, 753, 754, 755, 756, 757, 758, 759, 760, 761, 762, 763, 764, 765, 766, 767, 768, 769, 770, 771, 772, 773, 774, 775, 776, 777, 778, 779, 780, 781, 782, 783, 784, 785, 786, 787, 788, 789, 790, 791, 792, 793, 794, 795, 796, 797, 798, 799, 800, 801, 802, 803, 804, 805, 806, 807, 808, 809, 810, 811, 812, 813, 814, 815, 816, 817, 818, 819, 820, 821, 822, 823, 824, 825, 826, 827, 828, 829, 830, 831, 832, 833, 834, 835, 836, 837, 838, 839, 840, 841, 842, 843, 844, 845, 846, 847, 848, 849, 850, 851, 852, 853, 854, 855, 856, 857, 858, 859, 860, 861, 862, 863, 864, 865, 866, 867, 868, 869, 870, 871, 872, 873, 874, 875, 876, 877, 878, 879, 880, 881, 882, 883, 884, 885, 886, 887, 888, 889, 890, 891, 892, 893, 894, 895, 896, 897, 898, 899, 900, 901, 902, 903, 904, 905, 906, 907, 908, 909, 910, 911, 912, 913, 914, 915, 916, 917, 918, 919, 920, 921, 922, 923, 924, 925, 926, 927, 928, 929, 930, 931, 932, 933, 934, 935, 936, 937, 938, 939, 940, 941, 942, 943, 944, 945, 946, 947, 948, 949, 950, 951, 952, 953, 954, 955, 956, 957, 958, 959, 960, 961, 962, 963, 964, 965, 966, 967, 968, 969, 970, 971, 972, 973, 974, 975, 976, 977, 978, 979, 980, 981, 982, 983, 984, 985, 986, 987, 988, 989, 990, 991, 992, 993, 994, 995, 996, 997, 998, 999]\n"
     ]
    }
   ],
   "source": [
    "li = list(range(1000))\n",
    "random.shuffle(li)\n",
    "radix_sort(li)\n",
    "print(li)"
   ]
  },
  {
   "cell_type": "markdown",
   "id": "17f60717-b297-439f-9a8c-0bdff517b183",
   "metadata": {},
   "source": [
    "代码2"
   ]
  },
  {
   "cell_type": "code",
   "execution_count": 4,
   "id": "b60bad23-267a-45f9-9066-66f679646619",
   "metadata": {},
   "outputs": [],
   "source": [
    "def list_to_buckets(li, base, iteration):\n",
    "    buckets = [[] for _ in range(base)]\n",
    "    for number in li:\n",
    "        digit = (number // (base ** iteration)) % base\n",
    "        buckets[digit].append(number)\n",
    "    return buckets"
   ]
  },
  {
   "cell_type": "code",
   "execution_count": 5,
   "id": "e1d588ff-4cda-463c-bdd0-2b226d7ac879",
   "metadata": {},
   "outputs": [],
   "source": [
    "def buckets_to_list(buckets):\n",
    "    return [x for bucket in buckets for x in bucket]"
   ]
  },
  {
   "cell_type": "code",
   "execution_count": 6,
   "id": "3eb2d167-a992-4721-b427-ef258d58dab3",
   "metadata": {},
   "outputs": [],
   "source": [
    "def radix_sort(li, base=10):\n",
    "    maxval = max(li)\n",
    "    it = 0\n",
    "    while base ** it <= maxval:\n",
    "        li = buckets_to_list(list_to_buckets(li, base, it))\n",
    "    return li"
   ]
  },
  {
   "cell_type": "markdown",
   "id": "25f8c4bd-432c-429f-8135-8f5c25dba587",
   "metadata": {},
   "source": [
    "## 复杂度"
   ]
  },
  {
   "cell_type": "markdown",
   "id": "2b133911-cfba-4ad3-a976-20ec34c1f1e6",
   "metadata": {},
   "source": [
    "1. 时间复杂度：$O(kn)$\n",
    "2. 空间复杂度：$O(k+n)$\n",
    "3. k表示数字位数"
   ]
  },
  {
   "cell_type": "markdown",
   "id": "49439799-b908-4716-a847-1ea04f142962",
   "metadata": {},
   "source": [
    "快排和基数排序比较：\n",
    "- 快排受列表中元素个数影响，而基数排序受max_num的位数影响（数字的范围）"
   ]
  },
  {
   "cell_type": "markdown",
   "id": "93cd1fb1-bfd9-4832-a509-f67f7dfa6924",
   "metadata": {},
   "source": [
    "## 字符串排序 "
   ]
  },
  {
   "cell_type": "markdown",
   "id": "ef2a8e8e-f893-4db9-81cf-70d0e63fb28b",
   "metadata": {},
   "source": [
    "abcd和ab\n",
    "- abcd  ab00，在不够位数的字符后面统一加比所有字符都小的数"
   ]
  }
 ],
 "metadata": {
  "kernelspec": {
   "display_name": "Python 3",
   "language": "python",
   "name": "python3"
  },
  "language_info": {
   "codemirror_mode": {
    "name": "ipython",
    "version": 3
   },
   "file_extension": ".py",
   "mimetype": "text/x-python",
   "name": "python",
   "nbconvert_exporter": "python",
   "pygments_lexer": "ipython3",
   "version": "3.8.8"
  },
  "toc-autonumbering": true
 },
 "nbformat": 4,
 "nbformat_minor": 5
}
