{
 "cells": [
  {
   "cell_type": "markdown",
   "id": "d86f824f-c010-40ef-9868-778a2b5724d4",
   "metadata": {},
   "source": [
    "# 列表查找 "
   ]
  },
  {
   "cell_type": "markdown",
   "id": "0c7d1236-af28-43da-8f38-04212971e498",
   "metadata": {},
   "source": [
    "## 什么是列表查找"
   ]
  },
  {
   "cell_type": "markdown",
   "id": "0e0b07ef-da42-42fc-9242-22a23d49ad97",
   "metadata": {},
   "source": [
    "查找：在一些数据元素中，通过一定的方法找出与给定关键字相同的数据元素的过程。<br>\n",
    "列表查找（线性表查找）：从列表中查找指定元素\n",
    "1. 输入：列表、待查找元素\n",
    "2. 输出：元素下标（未找到元素时一般返回None或-1）<br>\n",
    "\n",
    "内置列表查找函数：index(),  是线性查找，因为列表不一定有序。"
   ]
  },
  {
   "cell_type": "markdown",
   "id": "3e63773c-827d-4d6d-b202-b4a9df8c882c",
   "metadata": {},
   "source": [
    "## 顺序查找(Linear Search)"
   ]
  },
  {
   "cell_type": "markdown",
   "id": "03f98fbc-10e5-45b7-9cb2-9d24e7f8876a",
   "metadata": {},
   "source": [
    "顺序查找：也叫线性查找，从列表第一个元素开始，顺序进行搜索，直到找到元素或搜索到列表最后一个元素为止。"
   ]
  },
  {
   "cell_type": "code",
   "execution_count": 21,
   "id": "3aca5100-a0e5-41d1-94ee-17cf34a6f440",
   "metadata": {},
   "outputs": [],
   "source": [
    "from cal_time import *"
   ]
  },
  {
   "cell_type": "code",
   "execution_count": 35,
   "id": "0629f9c8-51f2-4848-abd2-a56688b5836c",
   "metadata": {},
   "outputs": [],
   "source": [
    "@cal_time\n",
    "# 列表li, 待查找变量val\n",
    "def linear_search(li, val):\n",
    "    for ind, v in enumerate(li):\n",
    "        if v == val:\n",
    "            return ind\n",
    "    else:\n",
    "            return None"
   ]
  },
  {
   "cell_type": "markdown",
   "id": "68bb2e89-faa0-43d9-9d97-966ddb4170ce",
   "metadata": {},
   "source": [
    "<b>时间复杂度：O(n)</b>"
   ]
  },
  {
   "cell_type": "markdown",
   "id": "793737a7-7f80-40c3-a694-5e0a82dd8d28",
   "metadata": {},
   "source": [
    "## 二分查找(Binary Search)"
   ]
  },
  {
   "cell_type": "markdown",
   "id": "3be6e503-5b27-49eb-b24d-9f79c1dc44a5",
   "metadata": {},
   "source": [
    "二分查找：也叫折半查找，从<b>有序</b>列表的初始候选区 li[0:n] 开始，通过对待查找的值与候选去中间值的比较，可以使候选区减少一半。"
   ]
  },
  {
   "cell_type": "markdown",
   "id": "d5bb750e-2596-484b-b8ee-e2e6e4a206b9",
   "metadata": {},
   "source": [
    "例：<br>\n",
    "从列表中查找元素3：list = [1,2,3,4,5,6,7,8,9]<br>\n",
    "li = list, val = 3"
   ]
  },
  {
   "cell_type": "markdown",
   "id": "ccf47251-bfc0-4f53-b2f7-619c3cc9b5ca",
   "metadata": {},
   "source": [
    "步骤：\n",
    "1. 定位最左和最右的元素：left和right，初始值left = 0, right = len(li)-1\n",
    "2. 二分法获得mid，比较mid和val的大小，更新mid为left或right：<br>\n",
    "if mid > val, 则 left = mid +1, if mid < val, 则 right = mid-1\n",
    "3. if 选取里面没有值，即left>right，则找不到val"
   ]
  },
  {
   "cell_type": "code",
   "execution_count": 32,
   "id": "f03561d5-7654-4679-bd5b-0bccec1988bb",
   "metadata": {},
   "outputs": [],
   "source": [
    "@cal_time\n",
    "def binary_search(li, val):\n",
    "        left = 0\n",
    "        right = len(li)-1\n",
    "        # 只要候选区有值就继续循环，用while\n",
    "        while left <=right:\n",
    "            mid = (left+right)//2 #整除2\n",
    "            #print(left,mid,right, li[left], li[mid], li[right])\n",
    "            if li[mid] == val:\n",
    "                return mid\n",
    "            elif li[mid] > val: #待查找的值在mid左侧\n",
    "                right = mid-1\n",
    "            else:  #待查找的值在mid右侧\n",
    "                left = mid+1\n",
    "        else: # 如果找不到\n",
    "            return None"
   ]
  },
  {
   "cell_type": "code",
   "execution_count": 41,
   "id": "1bc998e1-e5e8-46ea-bff3-4b0655d71a20",
   "metadata": {},
   "outputs": [
    {
     "name": "stdout",
     "output_type": "stream",
     "text": [
      "linear_search running time: 0.015956401824951172 secs.\n"
     ]
    },
    {
     "data": {
      "text/plain": [
       "389000"
      ]
     },
     "execution_count": 41,
     "metadata": {},
     "output_type": "execute_result"
    }
   ],
   "source": [
    "li = list(range(1000000))\n",
    "linear_search(li, 389000)"
   ]
  },
  {
   "cell_type": "code",
   "execution_count": 42,
   "id": "968820bc-0a2d-4b79-84d1-850ee8814378",
   "metadata": {},
   "outputs": [
    {
     "name": "stdout",
     "output_type": "stream",
     "text": [
      "binary_search running time: 0.0 secs.\n"
     ]
    },
    {
     "data": {
      "text/plain": [
       "389000"
      ]
     },
     "execution_count": 42,
     "metadata": {},
     "output_type": "execute_result"
    }
   ],
   "source": [
    "binary_search(li, 389000)"
   ]
  },
  {
   "cell_type": "code",
   "execution_count": 16,
   "id": "09b5371b-6193-421a-9b4c-9284de798cfe",
   "metadata": {},
   "outputs": [
    {
     "name": "stdout",
     "output_type": "stream",
     "text": [
      "0 4 8 1 5 9\n",
      "0 1 3 1 2 4\n",
      "2 2 3 4 4 4\n"
     ]
    }
   ],
   "source": [
    "li = [1,2,4,4,5,6,7,8,9]\n",
    "binary_search(li, 3)"
   ]
  },
  {
   "cell_type": "markdown",
   "id": "5e0995d8-b1c1-4b12-a299-b4b86c0b108e",
   "metadata": {},
   "source": [
    "<b>时间复杂度：O(logn)</b>"
   ]
  },
  {
   "cell_type": "markdown",
   "id": "eb0aa734-c4b6-4599-a7d0-afc91e0af8d1",
   "metadata": {},
   "source": [
    "# 如何选择查找方式 "
   ]
  },
  {
   "cell_type": "markdown",
   "id": "2452b8a7-3d4d-4e25-9210-3eea94ecf0de",
   "metadata": {},
   "source": [
    "1. 若只需要查找一次，则直接使用线性查找；\n",
    "2. 若需要重复查找多次，则使用二分查找（即需要先排序后查找）。"
   ]
  }
 ],
 "metadata": {
  "kernelspec": {
   "display_name": "Python 3",
   "language": "python",
   "name": "python3"
  },
  "language_info": {
   "codemirror_mode": {
    "name": "ipython",
    "version": 3
   },
   "file_extension": ".py",
   "mimetype": "text/x-python",
   "name": "python",
   "nbconvert_exporter": "python",
   "pygments_lexer": "ipython3",
   "version": "3.8.8"
  }
 },
 "nbformat": 4,
 "nbformat_minor": 5
}
