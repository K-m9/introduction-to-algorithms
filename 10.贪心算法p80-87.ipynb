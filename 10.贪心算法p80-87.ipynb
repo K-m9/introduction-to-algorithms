{
 "cells": [
  {
   "cell_type": "markdown",
   "id": "a8b8ca0f-908d-4e49-afc9-ca4dc22e50fc",
   "metadata": {},
   "source": [
    "# 贪心算法 "
   ]
  },
  {
   "cell_type": "markdown",
   "id": "92d5e6f8-09ba-48f2-81c4-be189ebecdc8",
   "metadata": {},
   "source": [
    "- 贪心算法（又称贪婪算法）是指，在对问题求解时，总是做出在<b>当前看来是最好的选择</b>。也就是说，不从整体最优上加以考虑，他所做出的是在某种意义上的<b>局部最优解</b>。\n",
    "- 贪心算法并不保证会得到最优解，但是在某些问题上贪心算法的解就是最优解。要会判断一个问题能否用贪心算法来计算。"
   ]
  },
  {
   "cell_type": "markdown",
   "id": "62a0f7dd-358f-4185-b89a-efae82753a80",
   "metadata": {},
   "source": [
    "## 找零问题 "
   ]
  },
  {
   "cell_type": "markdown",
   "id": "b2f77fd0-bddb-40e7-8cda-60c3a90cc175",
   "metadata": {},
   "source": [
    "假设商店老板需要找零n元钱，钱币的面额有：100元、50元、20元、5元、1元，如何找零使得所需钱币的数量最少？<br>\n",
    "从最大面额开始找"
   ]
  },
  {
   "cell_type": "code",
   "execution_count": 1,
   "id": "2231ab5c-30c7-4a34-8604-310accce48a3",
   "metadata": {},
   "outputs": [],
   "source": [
    "t = [100, 50, 20, 5, 1]\n",
    "def change(t, n):\n",
    "    m = [0 for _ in range(len(t))]\n",
    "    for i, money in enumerate(t):\n",
    "        m[i] = n // money\n",
    "        n = n % money\n",
    "    return m, n    "
   ]
  },
  {
   "cell_type": "code",
   "execution_count": 2,
   "id": "cfd2ded9-2485-46db-b62f-e8a81c77f95b",
   "metadata": {},
   "outputs": [
    {
     "data": {
      "text/plain": [
       "([3, 1, 1, 1, 1], 0)"
      ]
     },
     "execution_count": 2,
     "metadata": {},
     "output_type": "execute_result"
    }
   ],
   "source": [
    "change(t, 376)"
   ]
  },
  {
   "cell_type": "markdown",
   "id": "32842394-8778-45a2-84fc-f50e5ca42ece",
   "metadata": {},
   "source": [
    "## 背包问题"
   ]
  },
  {
   "cell_type": "markdown",
   "id": "48ac944e-69a4-4194-b0e1-ceb9ca01c9c3",
   "metadata": {},
   "source": [
    "- 一个小偷在某个商店发现有n个商品，第i个商品价值$v_i$元，重$w_i$千克。他希望拿走的价值尽量高，但他的背包最多只能容纳W千克的东西。他应该拿走哪些商品？\n",
    "    - 0-1背包：对于一个商品，小偷要么把它完整拿走，要么留下。不能只拿走一部分，或把一个商品拿走多次。（商品为金条）\n",
    "    - 分数背包：对于一个商品，小偷可以拿走其中任意一部分。（商品为金砂）"
   ]
  },
  {
   "cell_type": "markdown",
   "id": "bcd05339-2ab4-434b-a324-e709df06606d",
   "metadata": {},
   "source": [
    "- 举例：\n",
    "    - 商品1：$v_1=60$, $w_1=10$\n",
    "    - 商品2：$v_2=100$, $w_2=20$\n",
    "    - 商品3：$v_3=120$, $w_3=30$\n",
    "    - 背包容量：W=50\n",
    "- 对于<b>0-1背包</b>和<b>分数背包</b>，贪心算法是否都能得到最优解？为什么？\n",
    "    - 0-1背包不能用贪心算法，因为可能装不满"
   ]
  },
  {
   "cell_type": "markdown",
   "id": "574ae733-b72a-4c03-a4ae-9e00313265e7",
   "metadata": {},
   "source": [
    "### 分数背包 "
   ]
  },
  {
   "cell_type": "code",
   "execution_count": 9,
   "id": "cd181bde-845f-4419-b09c-a7008679de00",
   "metadata": {},
   "outputs": [],
   "source": [
    "goods = [(60,10), (120,30), (100,20)]\n",
    "goods.sort(key=lambda x: x[0]/x[1], reverse=True) # 按照单位价值降序排列"
   ]
  },
  {
   "cell_type": "code",
   "execution_count": 10,
   "id": "fb370d3d-a6ab-4c5f-83b8-9433bb2bea70",
   "metadata": {},
   "outputs": [],
   "source": [
    "def fractional_backpack(goods, w): # w是weight\n",
    "    m = [0 for _ in range(len(goods))]\n",
    "    total_v = 0\n",
    "    for i,(price, weight) in enumerate(goods):\n",
    "        if w >= weight:\n",
    "            m[i] = 1\n",
    "            w -= weight\n",
    "            total_v += price\n",
    "        else:\n",
    "            m[i] = w / weight\n",
    "            total_v += m[i]*price\n",
    "            w = 0\n",
    "            break\n",
    "    return total_v, m"
   ]
  },
  {
   "cell_type": "code",
   "execution_count": 11,
   "id": "bf9f368b-4352-4af0-bba6-06a005a5d076",
   "metadata": {},
   "outputs": [
    {
     "data": {
      "text/plain": [
       "(240.0, [1, 1, 0.6666666666666666])"
      ]
     },
     "execution_count": 11,
     "metadata": {},
     "output_type": "execute_result"
    }
   ],
   "source": [
    "fractional_backpack(goods, 50)"
   ]
  },
  {
   "cell_type": "markdown",
   "id": "0bfdd134-8366-4241-adb4-ec5dd144a696",
   "metadata": {},
   "source": [
    "## 拼接最大数字问题"
   ]
  },
  {
   "cell_type": "markdown",
   "id": "1f82bd56-b0e4-47f3-9816-3024a30dd2b9",
   "metadata": {},
   "source": [
    "- 有n个非负整数,将其按照字符串拼接的方式拼接为一个整数。如何拼接可以使得得到的整数最大？\n",
    "    - 例：32,94,128,1286,6,71 可以拼接出的最大整数为94716321286128"
   ]
  },
  {
   "cell_type": "code",
   "execution_count": 13,
   "id": "f411fd20-df63-46ed-ac3a-5b0370941c56",
   "metadata": {},
   "outputs": [],
   "source": [
    "from functools import cmp_to_key"
   ]
  },
  {
   "cell_type": "code",
   "execution_count": 12,
   "id": "470ac636-9a5b-441e-bca2-bfac2a056242",
   "metadata": {},
   "outputs": [],
   "source": [
    "li = [32, 94, 128, 1286, 6, 71]"
   ]
  },
  {
   "cell_type": "code",
   "execution_count": 17,
   "id": "cc7ef556-085d-450d-a576-9b6b76e2688b",
   "metadata": {},
   "outputs": [],
   "source": [
    "def xy_cmp(x, y):\n",
    "    if x+y < y+x:\n",
    "        return 1 # x > y, 满足交换, y+x 放前面\n",
    "    elif x+y > y+x:\n",
    "        return -1\n",
    "    else:\n",
    "        return 0"
   ]
  },
  {
   "cell_type": "code",
   "execution_count": 18,
   "id": "5902798c-17f0-42f5-95ee-d4d94db0ab65",
   "metadata": {},
   "outputs": [],
   "source": [
    "def number_join(li):\n",
    "    li = list(map(str, li))\n",
    "    li.sort(key=cmp_to_key(xy_cmp))\n",
    "    return \"\".join(li)"
   ]
  },
  {
   "cell_type": "code",
   "execution_count": 19,
   "id": "8b093927-86b7-4129-a96f-d5af286f3aa0",
   "metadata": {},
   "outputs": [
    {
     "data": {
      "text/plain": [
       "'94716321286128'"
      ]
     },
     "execution_count": 19,
     "metadata": {},
     "output_type": "execute_result"
    }
   ],
   "source": [
    "number_join(li)"
   ]
  },
  {
   "cell_type": "markdown",
   "id": "eca1f66f-4f3b-43fe-85e1-5eded9e4542c",
   "metadata": {},
   "source": [
    "## 活动选择问题 "
   ]
  },
  {
   "cell_type": "markdown",
   "id": "ab2589bd-b765-47bd-94ad-c81c97b8b2f6",
   "metadata": {},
   "source": [
    "- 假设有n个活动，这些活动要占用同一片场地，而场地在某时刻只能供一个活动使用。\n",
    "- 每个活动都有一个开始时间$s_i$和结束时间$f_i$（题目中时间以整数表示），表示活动在$[s_i,f_i)$区间占用场地。\n",
    "- 问：安排哪些活动能够使改场地举办的活动的个数最多？"
   ]
  },
  {
   "cell_type": "markdown",
   "id": "824ac984-41c8-447d-8ec0-e565c6743927",
   "metadata": {},
   "source": [
    "<font color=red>插入贪心算法表格<font>"
   ]
  },
  {
   "cell_type": "markdown",
   "id": "a488fb5a-1357-41d3-81ad-15c17c141ccc",
   "metadata": {},
   "source": [
    "- 贪心结论：最先结束的活动一定是最优解的一部分。\n",
    "- 证明：假设a是所有活动中最先结束的活动，b是最优解重最先结束的活动。\n",
    "    - 如果a=b，结论成立。\n",
    "    - 如果$a~=b$，则b的结束时间一定晚于a的结束时间，则此时a替换掉最优解中的b，a一定不与最优解中的其他活动时间重叠，因此替换后的解也是最优解。"
   ]
  },
  {
   "cell_type": "code",
   "execution_count": 21,
   "id": "701c590c-b64f-41bb-af26-361845745c5b",
   "metadata": {},
   "outputs": [],
   "source": [
    "activities = [(1,4),(3,5),(0,6),(5,7),(3,9),(5,9),(6,10),(8,11),(8,12),(2,14),(12,16)]\n",
    "activities.sort(key=lambda x: x[1]) # 按照结束时间排序"
   ]
  },
  {
   "cell_type": "code",
   "execution_count": 22,
   "id": "dec79050-26bd-4611-a0e6-b8bc9e7382bc",
   "metadata": {},
   "outputs": [],
   "source": [
    "def activity_selection(a):\n",
    "    res = [a[0]]\n",
    "    for i in range(1, len(a)):\n",
    "        if a[i][0] >= res[-1][1]: #当前活动的开始时间>=最后入选活动的结束时间\n",
    "            # 不冲突\n",
    "            res.append(a[i])\n",
    "    return res       "
   ]
  },
  {
   "cell_type": "code",
   "execution_count": 23,
   "id": "dde50a16-a034-46e1-b8e7-d5631869bb34",
   "metadata": {},
   "outputs": [
    {
     "data": {
      "text/plain": [
       "[(1, 4), (5, 7), (8, 11), (12, 16)]"
      ]
     },
     "execution_count": 23,
     "metadata": {},
     "output_type": "execute_result"
    }
   ],
   "source": [
    "activity_selection(activities)"
   ]
  },
  {
   "cell_type": "markdown",
   "id": "9860c293-3a5c-4a8a-97c0-7ff231a9df32",
   "metadata": {},
   "source": [
    "## 贪心算法总结"
   ]
  },
  {
   "cell_type": "markdown",
   "id": "57208585-bdbe-4150-a6c9-63484dd5d3fb",
   "metadata": {},
   "source": [
    "1. 最优化问题\n",
    "2. 不是所有最优化问题都能用贪心算法，如0-1背包，可以使用动态规划\n",
    "3. 注意需要优化的重点"
   ]
  }
 ],
 "metadata": {
  "kernelspec": {
   "display_name": "Python 3",
   "language": "python",
   "name": "python3"
  },
  "language_info": {
   "codemirror_mode": {
    "name": "ipython",
    "version": 3
   },
   "file_extension": ".py",
   "mimetype": "text/x-python",
   "name": "python",
   "nbconvert_exporter": "python",
   "pygments_lexer": "ipython3",
   "version": "3.8.8"
  },
  "toc-autonumbering": true
 },
 "nbformat": 4,
 "nbformat_minor": 5
}
