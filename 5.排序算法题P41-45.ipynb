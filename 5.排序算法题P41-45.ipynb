{
 "cells": [
  {
   "cell_type": "markdown",
   "id": "0280ca89-f4d1-496d-b502-1542521d6c94",
   "metadata": {},
   "source": [
    "# 查找排序相关面试题"
   ]
  },
  {
   "cell_type": "markdown",
   "id": "dfea2110-98e6-4f3a-9c6a-05ff577a3588",
   "metadata": {},
   "source": [
    "## 题目"
   ]
  },
  {
   "cell_type": "markdown",
   "id": "bfb1a881-9430-4749-b567-d62ed6d8444b",
   "metadata": {},
   "source": [
    "给两个字符串s和t，判断t是否为s的重新排列后组成的单词\n",
    "- s = \"anagram\", t = \"nagaram\", return true.\n",
    "- s = \"rat\", t=\"car\", return false."
   ]
  },
  {
   "cell_type": "markdown",
   "id": "8645b468-f7c3-45bd-9df5-577c6dc695a1",
   "metadata": {},
   "source": [
    "### sort"
   ]
  },
  {
   "cell_type": "markdown",
   "id": "81dbba6e-e34a-4886-b36e-be6c8a6273d7",
   "metadata": {},
   "source": [
    "1. 转换成列表，sort排序(改变原始列表)，时间复杂度$O(nlogn)$"
   ]
  },
  {
   "cell_type": "code",
   "execution_count": 1,
   "id": "295060f1-b304-4fcc-b714-148353d4e0a4",
   "metadata": {},
   "outputs": [],
   "source": [
    "class Solution:\n",
    "    def isAnagram(self, s, t):\n",
    "        ss = list(s)\n",
    "        tt = list(t)\n",
    "        ss.sort()\n",
    "        tt.sort()\n",
    "        return ss == tt"
   ]
  },
  {
   "cell_type": "markdown",
   "id": "65db9254-965b-4c42-b3cb-f8fbff9fa194",
   "metadata": {},
   "source": [
    "### sorted "
   ]
  },
  {
   "cell_type": "markdown",
   "id": "c9af888f-b2e4-4456-91b4-861ad13b95e5",
   "metadata": {},
   "source": [
    "2. 转换成列表，sorted排序（生成新列表），时间复杂度与上述类似，存在空间复杂度"
   ]
  },
  {
   "cell_type": "code",
   "execution_count": 2,
   "id": "4fb9dd1c-2be3-4a8c-a3cb-dafc2117d47f",
   "metadata": {},
   "outputs": [],
   "source": [
    "class Solution:\n",
    "    def isAnagram(self, s, t):\n",
    "        return sorted(list(s)) == sorted(list(t))"
   ]
  },
  {
   "cell_type": "markdown",
   "id": "534fedb4-1805-4adb-8cc9-180bd1171efb",
   "metadata": {},
   "source": [
    "### dict"
   ]
  },
  {
   "cell_type": "markdown",
   "id": "3212c9b2-d2a2-4ef3-aea7-bd9a2251d3ad",
   "metadata": {},
   "source": [
    "3. 转换为字典，计数，时间复杂度$O(n)$"
   ]
  },
  {
   "cell_type": "code",
   "execution_count": 3,
   "id": "406e6f75-a5cd-42d7-8e2d-19e7475914a4",
   "metadata": {},
   "outputs": [],
   "source": [
    "class Solution:\n",
    "    def isAnagram(self, s, t):\n",
    "        dict1 = {} #类似('a':1,'b':2)\n",
    "        dict2 = {}\n",
    "        for ch in s:\n",
    "            dict1[ch] = dict1.get(ch, 0) + 1 \n",
    "            #get：如果ch在dict的key里面，则获得对应value，否则建立key，赋值value为0\n",
    "        for ch in t:    \n",
    "            dict2[ch] = dict2.get(ch, 0) + 1\n",
    "        return dict1 == dict2"
   ]
  },
  {
   "cell_type": "markdown",
   "id": "c69a7142-297b-4e07-ba12-1ba9045e851c",
   "metadata": {},
   "source": [
    "## 题目"
   ]
  },
  {
   "cell_type": "markdown",
   "id": "c518245a-3d82-4f78-9b7e-e18a91b092c9",
   "metadata": {},
   "source": [
    "给定一个m*n的二维列表查找一个数是否存在。列表有下列特性：\n",
    "- 每一行的列表从左到右已经排序好。\n",
    "- <b>每一行第一个数比上一行最后一个数大</b>。"
   ]
  },
  {
   "cell_type": "markdown",
   "id": "c17c32f9-6878-4d04-b651-05c80b878e5a",
   "metadata": {},
   "source": [
    "### 线性查找"
   ]
  },
  {
   "cell_type": "code",
   "execution_count": 10,
   "id": "665711b2-2bc4-496f-8b2d-9cf7e0f253bf",
   "metadata": {},
   "outputs": [],
   "source": [
    "class Solution:\n",
    "    def searchMatrix(self, matrix, target):\n",
    "        for line in matrix: # O(m) m层\n",
    "            if target in line: # O(n)\n",
    "                return True\n",
    "        return False"
   ]
  },
  {
   "cell_type": "markdown",
   "id": "a0e801a6-5234-4aee-a999-1cd6f1647bfc",
   "metadata": {},
   "source": [
    "### 二分查找"
   ]
  },
  {
   "cell_type": "code",
   "execution_count": 36,
   "id": "7a22a17d-0a33-4e01-af24-278cfb4403ef",
   "metadata": {},
   "outputs": [],
   "source": [
    "from typing import List"
   ]
  },
  {
   "cell_type": "code",
   "execution_count": 37,
   "id": "17e7480b-0b5a-431e-a622-e078e5519d4e",
   "metadata": {},
   "outputs": [],
   "source": [
    "class Solution:\n",
    "    def searchMatrix(self, matrix: List[List[int]], target: int) -> bool:\n",
    "        h = len(matrix) #长，几层\n",
    "        if h == 0: # 注意边界条件:[]\n",
    "            return False\n",
    "        w = len(matrix[0]) #宽，几列\n",
    "        if w == 0:\n",
    "            return False # [[],[],[]] , 3层0列\n",
    "        \n",
    "        left = 0 \n",
    "        right = w * h - 1\n",
    "        '''\n",
    "        找下标：\n",
    "        0 1 2 3\n",
    "        4 5 6 7\n",
    "        8 9 10 11\n",
    "        i = num //4 (行); j = num % 4 (列)\n",
    "        '''\n",
    "        while left <= right:\n",
    "            mid = (left + right) //2\n",
    "            i = mid // w\n",
    "            j = mid % w\n",
    "            if matrix[i][j] == target:\n",
    "                return True\n",
    "            elif matrix[i][j] > target:\n",
    "                right = mid - 1\n",
    "            else:\n",
    "                left = mid + 1\n",
    "        else:\n",
    "            return False"
   ]
  },
  {
   "cell_type": "markdown",
   "id": "f62a55f7-c658-41fb-a832-0e298303603d",
   "metadata": {},
   "source": [
    "## 题目"
   ]
  },
  {
   "cell_type": "markdown",
   "id": "fc04641f-d009-4d59-8a23-d43d4696d91d",
   "metadata": {},
   "source": [
    "给定一个列表和一个整数，设计算法找到两个数的下标，使得两个数之和为给定的整数。保证肯定仅有一个结果。\n",
    "- 例如，列表[1,2,5,4]与目标整数3，1+2=3，结果为(0,1)。"
   ]
  },
  {
   "cell_type": "markdown",
   "id": "3e8f3b22-ec4e-422e-9975-4a2d49df7099",
   "metadata": {},
   "source": [
    "### 两层for循环"
   ]
  },
  {
   "cell_type": "code",
   "execution_count": 39,
   "id": "b12e1e80-3ecf-46c0-a216-dd95ba14b5ad",
   "metadata": {},
   "outputs": [],
   "source": [
    "class Solution:\n",
    "    def twoSum(self, nums: List[int], target: int) -> List[int]:\n",
    "        n = len(nums)\n",
    "        for i in range(n):\n",
    "            for j in range(i+1,n):\n",
    "                if nums[i] + nums[j] == target:\n",
    "                    return sorted([i,j])"
   ]
  },
  {
   "cell_type": "markdown",
   "id": "962debc0-69ee-45ca-aeac-721d6331918e",
   "metadata": {},
   "source": [
    "### 根据一个数查找另一个数 "
   ]
  },
  {
   "cell_type": "code",
   "execution_count": 60,
   "id": "641c5575-dd4e-44ee-9475-96e6b455d628",
   "metadata": {},
   "outputs": [],
   "source": [
    "class Solution:\n",
    "    def twoSum(self, nums: List[int], target: int) -> List[int]:\n",
    "        n = len(nums)\n",
    "        for i in range(n):\n",
    "            val = target - nums[i]\n",
    "            print(val)\n",
    "            if val in nums[i+1:n]:\n",
    "                j = nums[i+1:n].index(val) + i + 1\n",
    "                return sorted([i,j])"
   ]
  },
  {
   "cell_type": "code",
   "execution_count": 61,
   "id": "72be771b-07c1-4faa-aea0-c16878a1ee6f",
   "metadata": {},
   "outputs": [
    {
     "name": "stdout",
     "output_type": "stream",
     "text": [
      "7\n"
     ]
    },
    {
     "data": {
      "text/plain": [
       "[0, 1]"
      ]
     },
     "execution_count": 61,
     "metadata": {},
     "output_type": "execute_result"
    }
   ],
   "source": [
    "result = Solution()\n",
    "result.twoSum([2,7,7,15],9)"
   ]
  },
  {
   "cell_type": "markdown",
   "id": "901f507b-2c48-47b1-9915-5f17ef30ec79",
   "metadata": {},
   "source": [
    "### 二分查找(前提：nums有序)"
   ]
  },
  {
   "cell_type": "code",
   "execution_count": 62,
   "id": "c0cc7dcc-e848-43d6-a083-d742be12ee79",
   "metadata": {},
   "outputs": [],
   "source": [
    "class Solution:\n",
    "    def binary_search(self, li, left, right, val):\n",
    "        while left <= right: #候选区有值\n",
    "            mid = (left + right) // 2\n",
    "            if li[mid] == val:\n",
    "                return mid\n",
    "            elif li[mid] > val:\n",
    "                right = mid - 1\n",
    "            else:\n",
    "                left = mid + 1\n",
    "        else:\n",
    "            return None\n",
    "                \n",
    "    def twoSum(self, nums: List[int], target: int) -> List[int]:\n",
    "        for i in range(len(nums)):\n",
    "            a = nums[i]\n",
    "            b = target - a\n",
    "            if b >= a:\n",
    "                j = self.binary_search(nums, i+1, len(nums)-1, b)\n",
    "            else:\n",
    "                j = self.binary_search(nums, 0, i-1, b)\n",
    "            if j:\n",
    "                break\n",
    "        return sorted([i, j])"
   ]
  },
  {
   "cell_type": "markdown",
   "id": "2625cbfc-5fe7-46cb-8bdd-b82bf6f9e2b6",
   "metadata": {},
   "source": [
    "### 二分查找（无序） "
   ]
  },
  {
   "cell_type": "markdown",
   "id": "331f9adc-bf46-479a-87ca-9b7916708453",
   "metadata": {},
   "source": [
    "新建二维列表：使用enumerate，时间复杂度：$O(nlogn)$"
   ]
  },
  {
   "cell_type": "code",
   "execution_count": 71,
   "id": "61d45636-411d-4f21-8352-e965264c9356",
   "metadata": {},
   "outputs": [],
   "source": [
    "class Solution:\n",
    "    def binary_search(self, li, left, right, val):\n",
    "        while left <= right: #候选区有值\n",
    "            mid = (left + right) // 2\n",
    "            if li[mid][0] == val:\n",
    "                return mid\n",
    "            elif li[mid][0] > val:\n",
    "                right = mid - 1\n",
    "            else:\n",
    "                left = mid + 1\n",
    "        else:\n",
    "            return None\n",
    "                \n",
    "    def twoSum(self, nums: List[int], target: int) -> List[int]:\n",
    "        new_nums = [[num, i] for i, num in enumerate(nums)]\n",
    "        new_nums.sort(key = lambda x:x[0])\n",
    "\n",
    "        for i in range(len(new_nums)):\n",
    "            a = new_nums[i][0]\n",
    "            b = target - a\n",
    "            if b >= a:\n",
    "                j = self.binary_search(new_nums, i+1, len(new_nums)-1, b)\n",
    "            else:\n",
    "                j = self.binary_search(new_nums, 0, i-1, b)\n",
    "            if j:\n",
    "                break\n",
    "        return sorted([new_nums[i][1], new_nums[j][1]])"
   ]
  },
  {
   "cell_type": "code",
   "execution_count": 63,
   "id": "f2d515d5-5301-401a-8463-c91bfe0dd067",
   "metadata": {},
   "outputs": [
    {
     "data": {
      "text/plain": [
       "[[1, 0], [2, 2], [4, 3], [5, 1]]"
      ]
     },
     "execution_count": 63,
     "metadata": {},
     "output_type": "execute_result"
    }
   ],
   "source": [
    "nums = [1,5,2,4]\n",
    "new_nums = [[num, i] for i, num in enumerate(nums)]\n",
    "new_nums.sort(key = lambda x:x[0])\n",
    "new_nums"
   ]
  },
  {
   "cell_type": "code",
   "execution_count": 65,
   "id": "437772b9-4aa2-4e95-a25c-59230988aedd",
   "metadata": {},
   "outputs": [
    {
     "data": {
      "text/plain": [
       "4"
      ]
     },
     "execution_count": 65,
     "metadata": {},
     "output_type": "execute_result"
    }
   ],
   "source": [
    "new_nums[2][0]"
   ]
  },
  {
   "cell_type": "code",
   "execution_count": 72,
   "id": "42e8829a-b654-4f01-8d66-8293f8b8f6bf",
   "metadata": {},
   "outputs": [
    {
     "data": {
      "text/plain": [
       "[0, 1]"
      ]
     },
     "execution_count": 72,
     "metadata": {},
     "output_type": "execute_result"
    }
   ],
   "source": [
    "result = Solution()\n",
    "result.twoSum([7,2,5,15],9)"
   ]
  },
  {
   "cell_type": "code",
   "execution_count": null,
   "id": "7d6d6660-344a-4268-9d0f-5fad86d469d1",
   "metadata": {},
   "outputs": [],
   "source": []
  }
 ],
 "metadata": {
  "kernelspec": {
   "display_name": "Python 3",
   "language": "python",
   "name": "python3"
  },
  "language_info": {
   "codemirror_mode": {
    "name": "ipython",
    "version": 3
   },
   "file_extension": ".py",
   "mimetype": "text/x-python",
   "name": "python",
   "nbconvert_exporter": "python",
   "pygments_lexer": "ipython3",
   "version": "3.8.8"
  },
  "toc-autonumbering": true
 },
 "nbformat": 4,
 "nbformat_minor": 5
}
